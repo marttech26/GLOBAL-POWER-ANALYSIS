{
 "cells": [
  {
   "cell_type": "markdown",
   "metadata": {
    "id": "iDQI9YrfPKlG"
   },
   "source": [
    "# GLOBAL RENEWABLE ENERGY ANALYSIS"
   ]
  },
  {
   "cell_type": "markdown",
   "metadata": {
    "id": "wsZCQeQ_PKlJ"
   },
   "source": [
    "![Power Plants](powerlines_snapshot.jpg)"
   ]
  },
  {
   "cell_type": "markdown",
   "metadata": {
    "id": "9tB-wjmmPKlT"
   },
   "source": [
    "***\n",
    "Notebook Authors:\n",
    "\n",
    "  [David Ambani](https://github.com/bulemi2) - Project Manager <br>\n",
    "  [Cynthia Kareko](https://github.com/karekocyn) - Data Analyst <br>\n",
    "  [Joy Wangui](https://github.com/carfew001) - Data Analyst <br>\n",
    "  [Emmanuel Rono](https://github.com/marttech26) - Machine Learning Engineer <br>\n",
    "\n",
    "***"
   ]
  },
  {
   "cell_type": "markdown",
   "metadata": {
    "id": "L0qK3KXKPKlV"
   },
   "source": [
    "## 1. PROJECT OVERVIEW"
   ]
  },
  {
   "cell_type": "markdown",
   "metadata": {
    "id": "YCtxhW12PKlW"
   },
   "source": [
    "### (a) Introduction"
   ]
  },
  {
   "cell_type": "markdown",
   "metadata": {
    "id": "nuRk3fDJPKlX"
   },
   "source": [
    "Renewable energy, encompassing diverse sources such as solar, wind, hydro, and geothermal power, offers a pathway towards decarbonizing our energy systems and mitigating the adverse effects of fossil fuel consumption. Recognizing the critical importance of this transition, this project endeavors to delve into the realm of renewable energy. Our goal is to analyze global data on renewable energy technologies, shedding light on their current contributions to the energy mix and the pace of their evolution. In doing so, we seek to provide valuable insights to stakeholders, shaping the discourse on sustainable energy and enriching our collective knowledge of renewable energy infrastructure worldwide."
   ]
  },
  {
   "cell_type": "markdown",
   "metadata": {
    "id": "609lHJZWPKlY"
   },
   "source": [
    " ### (b) Business Understanding"
   ]
  },
  {
   "cell_type": "markdown",
   "metadata": {
    "id": "wzt8Z6hwPKlZ"
   },
   "source": [
    "In the current era marked by energy transitions and growing sustainability imperatives, the Global Renewable Energy Generation and Capacity Analysis project endeavors to decode the intricacies of the global renewable energy landscape. Through an in-depth exploration of various renewable energy sources, their capacities, and their contributions to renewable energy generation, the project aims to offer a comprehensive overview of the global renewable energy ecosystem. These insights will equip stakeholders, policymakers, and investors with valuable knowledge about the factors influencing the renewable energy industry, enabling informed decision-making in this rapidly evolving and crucial sector.\n",
    "\n",
    "This Global Renewable Energy Analysis is set to benefit the following stakeholders;\n",
    "\n",
    "-  Power generation companies - for Strategic planning\n",
    "-  Environmental Agencies - Providing environmental impact assessment\n",
    "-  Researchers and Academia - Contributing to advancements in energy studies\n",
    "-  Local communities - Informed community engagement\n",
    "-  Technology providers - Market identification and growth opportunities\n",
    "-  Government and Regulatory Bodies - Informed decision making\n",
    "-  Energy companies and investors looking for opportunities in the renewable energy market."
   ]
  },
  {
   "cell_type": "markdown",
   "metadata": {
    "id": "Po9W3mE8PKla"
   },
   "source": [
    "### (c) Problem Statement"
   ]
  },
  {
   "cell_type": "markdown",
   "metadata": {
    "id": "5T4lOe0jPKlb"
   },
   "source": [
    "Since the Industrial Revolution, fossil fuels have dominated the global energy mix, leading to significant greenhouse gas emissions and health issues. To combat these challenges, there's a pressing need to transition to low-carbon energy sources like nuclear and renewables. Renewable energy, in particular, is crucial for reducing CO2 emissions and air pollution. Despite the availability of existing analysis on global renewable energy, there remains a critical gap in translating this wealth of information into actionable insights for stakeholders.Therefore, there is a pressing need for a tailored approach to renewable energy analysis that addresses the specific needs and challenges faced by stakeholders at regional and local levels. \n",
    "\n",
    "This project aims to fill this gap by developing a framework for localized renewable energy analysis that considers the unique characteristics and dynamics of each country."
   ]
  },
  {
   "cell_type": "markdown",
   "metadata": {
    "id": "-yBIBL6pPKlc"
   },
   "source": [
    "### (d) Research Questions"
   ]
  },
  {
   "cell_type": "markdown",
   "metadata": {
    "id": "3uOkYwWdPKlc"
   },
   "source": [
    "- How has the production of electricity from renewable sources changed over time? <br>\n",
    "\n",
    "- Which renewable energy source shows the most significant growth?<br>\n",
    "\n",
    "- To what extent has the adoption of renewable energy sources impacted the overall energy mix?<br>\n"
   ]
  },
  {
   "cell_type": "markdown",
   "metadata": {
    "id": "8UTYa3ZPPKld"
   },
   "source": [
    "### (e) The Main Objective"
   ]
  },
  {
   "cell_type": "markdown",
   "metadata": {
    "id": "GJbH0RrdPKld"
   },
   "source": [
    "To construct a predictive model utilizing historical worldwide energy data, to precisely forecast the generation of specific energy types."
   ]
  },
  {
   "cell_type": "markdown",
   "metadata": {
    "id": "DTb4zYRfPKle"
   },
   "source": [
    "### (f) The Specific Objectives"
   ]
  },
  {
   "cell_type": "markdown",
   "metadata": {
    "id": "mUG79Lc_PKle"
   },
   "source": [
    "\n",
    "- To assess the share of each renewable energy source in the overall energy mix.\n",
    "- To identify opportunities to enhance the portion of renewable energy in global electricity production, optimizing the shift towards sustainable sources.\n",
    "- To examine how renewable energy is distributed among different power regions.\n",
    "- To identify which renewable source shows the most significant growth.\n",
    "- To identify disparities in renewable energy adoption between developed and developing countries and explore the underlying factors contributing to these disparities."
   ]
  },
  {
   "cell_type": "markdown",
   "metadata": {},
   "source": [
    "### (g) Data Understanding"
   ]
  },
  {
   "cell_type": "markdown",
   "metadata": {},
   "source": [
    "We obtained our datasets from 'Our World in Data,' a comprehensive source of global statistics covering various aspects of energy. By merging three distinct CSV files from 'Our World in Data,' we created a dataset comprising 7165 rows and 9 columns. This dataset encompasses annual energy data for major electricity sources from 2000 to 2021."
   ]
  },
  {
   "cell_type": "markdown",
   "metadata": {
    "id": "kOoXU2AoPKlf"
   },
   "source": [
    "The merged dataset contains the following columns with their descriptions:\n",
    "\n",
    "- `Entity` (text): This column represents the geographical entity or region for which the energy data is recorded.\n",
    "- `Year` (number): This column represents the year in which the energy data was recorded or measured.\n",
    "- `Electricity from wind - TWhr` (number): This column represents the amount of electricity generated from wind energy in terawatt-hours (TWh). It indicates the contribution of wind energy to the total electricity generation in the specified entity and year.\n",
    "- `Electricity from hydro - TWh` (number): This column represents the amount of electricity generated from wind energy in terawatt-hours (TWh). It indicates the contribution of hydroelectric sources to the total electricity generation in the specified entity and year.\n",
    "- `Electricity from solar - TWh` (number): This column represents the amount of electricity generated from wind energy in terawatt-hours (TWh). It indicates the contribution of solar energy sources to the total electricity generation in the specified entity and year.\n",
    "- `Other renewables including bioenergy - TWh` (number): This column represents the combined amount of electricity generated from other renewable sources, such as biomass, geothermal, and tidal energy, excluding wind, hydro, and solar. It's also measured in terawatt-hours (TWh).\n",
    "- `Electricity from Non-Renewables - TWh` (number): This column represents the amount of electricity generated from non-renewable sources, such as fossil fuels (coal, oil, natural gas) and nuclear power, in terawatt-hours (TWh).\n",
    "- `Total Renewable Electricity - TWh` (number): This column represents the total amount of electricity generated from renewable sources, including wind, hydro, solar, and other renewables, in terawatt-hours (TWh).\n",
    "- `Electricity generation - TWh` (number): This column represents the total electricity generated from all sources, both renewable and non-renewable, in terawatt-hours (TWh).\n",
    "- `Urbanization` (number): The \"urbanization\" column typically represents urban population concentration in a given country or region. It is measured as the percentage of the population living in urban areas.\n",
    "\n",
    "\n",
    "The energy sources are quantified in **Terawatt-hours (TWh)**, a standard unit for measuring energy production, encompassing electricity and heat. Additionally, it equates to 1,000,000 megawatt-hours (MWh) or 1,000,000,000 kilowatt-hours (kWh).\n",
    "\n",
    "These columns provide a comprehensive overview of the electricity generation landscape, detailing the contributions of various renewable and non-renewable sources over time.\n",
    "\n",
    "\n",
    "The database is available for immediate download and use through the http://ourworldindata.org/energy"
   ]
  },
  {
   "cell_type": "markdown",
   "metadata": {
    "id": "23ND3VUUPKli"
   },
   "source": [
    "## 2. Data Cleaning"
   ]
  },
  {
   "cell_type": "markdown",
   "metadata": {
    "id": "l6TXsgybPKlf"
   },
   "source": [
    "**Importing libraries**"
   ]
  },
  {
   "cell_type": "code",
   "execution_count": 1,
   "metadata": {
    "id": "rsAmTcG-PKlg"
   },
   "outputs": [],
   "source": [
    "# Importing necessary libraries for data manipulation and visualization\n",
    "import pandas as pd\n",
    "import matplotlib.pyplot as plt\n",
    "import seaborn as sns\n",
    "import numpy as np\n",
    "import pickle\n",
    "import datetime as dt\n",
    "import math\n",
    "\n",
    "# Importing machine learning modules\n",
    "from sklearn.model_selection import train_test_split, cross_val_score, KFold, cross_val_predict\n",
    "from sklearn.linear_model import LinearRegression\n",
    "from sklearn.metrics import mean_squared_error, mean_absolute_error, r2_score\n",
    "from sklearn.preprocessing import StandardScaler, OneHotEncoder\n",
    "from sklearn.decomposition import PCA\n",
    "from sklearn.compose import ColumnTransformer\n",
    "from xgboost import XGBRegressor\n",
    "from sklearn.pipeline import Pipeline\n",
    "from sklearn.ensemble import RandomForestRegressor, GradientBoostingRegressor\n",
    "from statsmodels.tsa.arima.model import ARIMA\n",
    "\n",
    "# Importing from functions.py\n",
    "from functions import univariate_analysis_histograms, plot_violin_plots, plot_electricity_generation, plot_renewable_vs_non_renewable, plot_urbanization_rate, plot_top_countries_by_energy_generation\n",
    "from functions import plot_renewable_generation_over_time, run_pipelines, run_pipelines_with_cross_validation, get_predicted_actual_dataframes, plot_renewable_energy_forecast, total_energy_forecast\n",
    "from functions import print_error_metrics, country_renewable_energy_forecast, wind_energy_forecast, solar_energy_forecast, hydro_energy_forecast, bioenergy_forecast, fossil_energy_forecast\n",
    "# Suppressing warnings\n",
    "from warnings import filterwarnings\n",
    "filterwarnings('ignore')\n",
    "\n",
    "# To display plots inline\n",
    "%matplotlib inline"
   ]
  },
  {
   "cell_type": "markdown",
   "metadata": {},
   "source": [
    "##### Loading 1st CSV"
   ]
  },
  {
   "cell_type": "code",
   "execution_count": 2,
   "metadata": {
    "id": "sUFJCePSPKli",
    "outputId": "ec78c35e-2ba5-40ad-edf6-60789218d6a2",
    "scrolled": true
   },
   "outputs": [],
   "source": [
    "# Read CSV file into data frame\n",
    "df = pd.read_csv('modern-renewable-prod.csv')"
   ]
  },
  {
   "cell_type": "code",
   "execution_count": 3,
   "metadata": {
    "id": "WRSW-fwPPKlj",
    "outputId": "91ae6057-040c-4e64-802a-ad827f62df74"
   },
   "outputs": [
    {
     "data": {
      "text/html": [
       "<div>\n",
       "<style scoped>\n",
       "    .dataframe tbody tr th:only-of-type {\n",
       "        vertical-align: middle;\n",
       "    }\n",
       "\n",
       "    .dataframe tbody tr th {\n",
       "        vertical-align: top;\n",
       "    }\n",
       "\n",
       "    .dataframe thead th {\n",
       "        text-align: right;\n",
       "    }\n",
       "</style>\n",
       "<table border=\"1\" class=\"dataframe\">\n",
       "  <thead>\n",
       "    <tr style=\"text-align: right;\">\n",
       "      <th></th>\n",
       "      <th>Entity</th>\n",
       "      <th>Code</th>\n",
       "      <th>Year</th>\n",
       "      <th>Electricity from wind - TWh</th>\n",
       "      <th>Electricity from hydro - TWh</th>\n",
       "      <th>Electricity from solar - TWh</th>\n",
       "      <th>Other renewables including bioenergy - TWh</th>\n",
       "    </tr>\n",
       "  </thead>\n",
       "  <tbody>\n",
       "    <tr>\n",
       "      <th>0</th>\n",
       "      <td>ASEAN (Ember)</td>\n",
       "      <td>NaN</td>\n",
       "      <td>2000</td>\n",
       "      <td>0.0</td>\n",
       "      <td>50.37</td>\n",
       "      <td>0.0</td>\n",
       "      <td>22.400000</td>\n",
       "    </tr>\n",
       "    <tr>\n",
       "      <th>1</th>\n",
       "      <td>ASEAN (Ember)</td>\n",
       "      <td>NaN</td>\n",
       "      <td>2001</td>\n",
       "      <td>0.0</td>\n",
       "      <td>54.26</td>\n",
       "      <td>0.0</td>\n",
       "      <td>22.289999</td>\n",
       "    </tr>\n",
       "    <tr>\n",
       "      <th>2</th>\n",
       "      <td>ASEAN (Ember)</td>\n",
       "      <td>NaN</td>\n",
       "      <td>2002</td>\n",
       "      <td>0.0</td>\n",
       "      <td>53.32</td>\n",
       "      <td>0.0</td>\n",
       "      <td>22.540000</td>\n",
       "    </tr>\n",
       "    <tr>\n",
       "      <th>3</th>\n",
       "      <td>ASEAN (Ember)</td>\n",
       "      <td>NaN</td>\n",
       "      <td>2003</td>\n",
       "      <td>0.0</td>\n",
       "      <td>53.28</td>\n",
       "      <td>0.0</td>\n",
       "      <td>22.250000</td>\n",
       "    </tr>\n",
       "    <tr>\n",
       "      <th>4</th>\n",
       "      <td>ASEAN (Ember)</td>\n",
       "      <td>NaN</td>\n",
       "      <td>2004</td>\n",
       "      <td>0.0</td>\n",
       "      <td>52.88</td>\n",
       "      <td>0.0</td>\n",
       "      <td>24.039999</td>\n",
       "    </tr>\n",
       "  </tbody>\n",
       "</table>\n",
       "</div>"
      ],
      "text/plain": [
       "          Entity Code  Year  Electricity from wind - TWh  \\\n",
       "0  ASEAN (Ember)  NaN  2000                          0.0   \n",
       "1  ASEAN (Ember)  NaN  2001                          0.0   \n",
       "2  ASEAN (Ember)  NaN  2002                          0.0   \n",
       "3  ASEAN (Ember)  NaN  2003                          0.0   \n",
       "4  ASEAN (Ember)  NaN  2004                          0.0   \n",
       "\n",
       "   Electricity from hydro - TWh  Electricity from solar - TWh  \\\n",
       "0                         50.37                           0.0   \n",
       "1                         54.26                           0.0   \n",
       "2                         53.32                           0.0   \n",
       "3                         53.28                           0.0   \n",
       "4                         52.88                           0.0   \n",
       "\n",
       "   Other renewables including bioenergy - TWh  \n",
       "0                                   22.400000  \n",
       "1                                   22.289999  \n",
       "2                                   22.540000  \n",
       "3                                   22.250000  \n",
       "4                                   24.039999  "
      ]
     },
     "execution_count": 3,
     "metadata": {},
     "output_type": "execute_result"
    }
   ],
   "source": [
    "#Check the first few rows of the DataFrame\n",
    "df.head()"
   ]
  },
  {
   "cell_type": "code",
   "execution_count": 4,
   "metadata": {
    "id": "g8jmZ0pHPKlj",
    "outputId": "92bb0515-d13d-44a3-dc9c-de06b678ecac"
   },
   "outputs": [
    {
     "data": {
      "text/plain": [
       "(8961, 7)"
      ]
     },
     "execution_count": 4,
     "metadata": {},
     "output_type": "execute_result"
    }
   ],
   "source": [
    "# Display the shape of the DataFrame\n",
    "df.shape"
   ]
  },
  {
   "cell_type": "code",
   "execution_count": 5,
   "metadata": {},
   "outputs": [],
   "source": [
    "# drop unnecessary column\n",
    "df.drop(columns=['Code'], inplace= True)"
   ]
  },
  {
   "cell_type": "code",
   "execution_count": 6,
   "metadata": {
    "id": "3axdEkx5PKlk",
    "outputId": "7775a1a5-608a-4c37-ff46-155af6098372"
   },
   "outputs": [
    {
     "name": "stdout",
     "output_type": "stream",
     "text": [
      "<class 'pandas.core.frame.DataFrame'>\n",
      "RangeIndex: 8961 entries, 0 to 8960\n",
      "Data columns (total 6 columns):\n",
      " #   Column                                      Non-Null Count  Dtype  \n",
      "---  ------                                      --------------  -----  \n",
      " 0   Entity                                      8961 non-null   object \n",
      " 1   Year                                        8961 non-null   int64  \n",
      " 2   Electricity from wind - TWh                 8000 non-null   float64\n",
      " 3   Electricity from hydro - TWh                8863 non-null   float64\n",
      " 4   Electricity from solar - TWh                7956 non-null   float64\n",
      " 5   Other renewables including bioenergy - TWh  8148 non-null   float64\n",
      "dtypes: float64(4), int64(1), object(1)\n",
      "memory usage: 420.2+ KB\n"
     ]
    }
   ],
   "source": [
    "#Get a concise summary of the DataFrame\n",
    "df.info()"
   ]
  },
  {
   "cell_type": "markdown",
   "metadata": {},
   "source": [
    "##### Load 2nd CSV"
   ]
  },
  {
   "cell_type": "code",
   "execution_count": 7,
   "metadata": {},
   "outputs": [
    {
     "data": {
      "text/html": [
       "<div>\n",
       "<style scoped>\n",
       "    .dataframe tbody tr th:only-of-type {\n",
       "        vertical-align: middle;\n",
       "    }\n",
       "\n",
       "    .dataframe tbody tr th {\n",
       "        vertical-align: top;\n",
       "    }\n",
       "\n",
       "    .dataframe thead th {\n",
       "        text-align: right;\n",
       "    }\n",
       "</style>\n",
       "<table border=\"1\" class=\"dataframe\">\n",
       "  <thead>\n",
       "    <tr style=\"text-align: right;\">\n",
       "      <th></th>\n",
       "      <th>Entity</th>\n",
       "      <th>Code</th>\n",
       "      <th>Year</th>\n",
       "      <th>Electricity generation - TWh</th>\n",
       "    </tr>\n",
       "  </thead>\n",
       "  <tbody>\n",
       "    <tr>\n",
       "      <th>0</th>\n",
       "      <td>ASEAN (Ember)</td>\n",
       "      <td>NaN</td>\n",
       "      <td>2000</td>\n",
       "      <td>368.08</td>\n",
       "    </tr>\n",
       "    <tr>\n",
       "      <th>1</th>\n",
       "      <td>ASEAN (Ember)</td>\n",
       "      <td>NaN</td>\n",
       "      <td>2001</td>\n",
       "      <td>396.60</td>\n",
       "    </tr>\n",
       "    <tr>\n",
       "      <th>2</th>\n",
       "      <td>ASEAN (Ember)</td>\n",
       "      <td>NaN</td>\n",
       "      <td>2002</td>\n",
       "      <td>423.11</td>\n",
       "    </tr>\n",
       "    <tr>\n",
       "      <th>3</th>\n",
       "      <td>ASEAN (Ember)</td>\n",
       "      <td>NaN</td>\n",
       "      <td>2003</td>\n",
       "      <td>447.70</td>\n",
       "    </tr>\n",
       "    <tr>\n",
       "      <th>4</th>\n",
       "      <td>ASEAN (Ember)</td>\n",
       "      <td>NaN</td>\n",
       "      <td>2004</td>\n",
       "      <td>485.55</td>\n",
       "    </tr>\n",
       "    <tr>\n",
       "      <th>...</th>\n",
       "      <td>...</td>\n",
       "      <td>...</td>\n",
       "      <td>...</td>\n",
       "      <td>...</td>\n",
       "    </tr>\n",
       "    <tr>\n",
       "      <th>7190</th>\n",
       "      <td>Zimbabwe</td>\n",
       "      <td>ZWE</td>\n",
       "      <td>2017</td>\n",
       "      <td>7.35</td>\n",
       "    </tr>\n",
       "    <tr>\n",
       "      <th>7191</th>\n",
       "      <td>Zimbabwe</td>\n",
       "      <td>ZWE</td>\n",
       "      <td>2018</td>\n",
       "      <td>9.19</td>\n",
       "    </tr>\n",
       "    <tr>\n",
       "      <th>7192</th>\n",
       "      <td>Zimbabwe</td>\n",
       "      <td>ZWE</td>\n",
       "      <td>2019</td>\n",
       "      <td>8.24</td>\n",
       "    </tr>\n",
       "    <tr>\n",
       "      <th>7193</th>\n",
       "      <td>Zimbabwe</td>\n",
       "      <td>ZWE</td>\n",
       "      <td>2020</td>\n",
       "      <td>7.59</td>\n",
       "    </tr>\n",
       "    <tr>\n",
       "      <th>7194</th>\n",
       "      <td>Zimbabwe</td>\n",
       "      <td>ZWE</td>\n",
       "      <td>2021</td>\n",
       "      <td>8.03</td>\n",
       "    </tr>\n",
       "  </tbody>\n",
       "</table>\n",
       "<p>7195 rows × 4 columns</p>\n",
       "</div>"
      ],
      "text/plain": [
       "             Entity Code  Year  Electricity generation - TWh\n",
       "0     ASEAN (Ember)  NaN  2000                        368.08\n",
       "1     ASEAN (Ember)  NaN  2001                        396.60\n",
       "2     ASEAN (Ember)  NaN  2002                        423.11\n",
       "3     ASEAN (Ember)  NaN  2003                        447.70\n",
       "4     ASEAN (Ember)  NaN  2004                        485.55\n",
       "...             ...  ...   ...                           ...\n",
       "7190       Zimbabwe  ZWE  2017                          7.35\n",
       "7191       Zimbabwe  ZWE  2018                          9.19\n",
       "7192       Zimbabwe  ZWE  2019                          8.24\n",
       "7193       Zimbabwe  ZWE  2020                          7.59\n",
       "7194       Zimbabwe  ZWE  2021                          8.03\n",
       "\n",
       "[7195 rows x 4 columns]"
      ]
     },
     "execution_count": 7,
     "metadata": {},
     "output_type": "execute_result"
    }
   ],
   "source": [
    "df2 = pd.read_csv('electricity-generation.csv')\n",
    "df2"
   ]
  },
  {
   "cell_type": "code",
   "execution_count": 8,
   "metadata": {},
   "outputs": [
    {
     "data": {
      "text/html": [
       "<div>\n",
       "<style scoped>\n",
       "    .dataframe tbody tr th:only-of-type {\n",
       "        vertical-align: middle;\n",
       "    }\n",
       "\n",
       "    .dataframe tbody tr th {\n",
       "        vertical-align: top;\n",
       "    }\n",
       "\n",
       "    .dataframe thead th {\n",
       "        text-align: right;\n",
       "    }\n",
       "</style>\n",
       "<table border=\"1\" class=\"dataframe\">\n",
       "  <thead>\n",
       "    <tr style=\"text-align: right;\">\n",
       "      <th></th>\n",
       "      <th>Entity</th>\n",
       "      <th>Year</th>\n",
       "      <th>Electricity generation - TWh</th>\n",
       "    </tr>\n",
       "  </thead>\n",
       "  <tbody>\n",
       "    <tr>\n",
       "      <th>0</th>\n",
       "      <td>ASEAN (Ember)</td>\n",
       "      <td>2000</td>\n",
       "      <td>368.08</td>\n",
       "    </tr>\n",
       "    <tr>\n",
       "      <th>1</th>\n",
       "      <td>ASEAN (Ember)</td>\n",
       "      <td>2001</td>\n",
       "      <td>396.60</td>\n",
       "    </tr>\n",
       "    <tr>\n",
       "      <th>2</th>\n",
       "      <td>ASEAN (Ember)</td>\n",
       "      <td>2002</td>\n",
       "      <td>423.11</td>\n",
       "    </tr>\n",
       "    <tr>\n",
       "      <th>3</th>\n",
       "      <td>ASEAN (Ember)</td>\n",
       "      <td>2003</td>\n",
       "      <td>447.70</td>\n",
       "    </tr>\n",
       "    <tr>\n",
       "      <th>4</th>\n",
       "      <td>ASEAN (Ember)</td>\n",
       "      <td>2004</td>\n",
       "      <td>485.55</td>\n",
       "    </tr>\n",
       "    <tr>\n",
       "      <th>...</th>\n",
       "      <td>...</td>\n",
       "      <td>...</td>\n",
       "      <td>...</td>\n",
       "    </tr>\n",
       "    <tr>\n",
       "      <th>7190</th>\n",
       "      <td>Zimbabwe</td>\n",
       "      <td>2017</td>\n",
       "      <td>7.35</td>\n",
       "    </tr>\n",
       "    <tr>\n",
       "      <th>7191</th>\n",
       "      <td>Zimbabwe</td>\n",
       "      <td>2018</td>\n",
       "      <td>9.19</td>\n",
       "    </tr>\n",
       "    <tr>\n",
       "      <th>7192</th>\n",
       "      <td>Zimbabwe</td>\n",
       "      <td>2019</td>\n",
       "      <td>8.24</td>\n",
       "    </tr>\n",
       "    <tr>\n",
       "      <th>7193</th>\n",
       "      <td>Zimbabwe</td>\n",
       "      <td>2020</td>\n",
       "      <td>7.59</td>\n",
       "    </tr>\n",
       "    <tr>\n",
       "      <th>7194</th>\n",
       "      <td>Zimbabwe</td>\n",
       "      <td>2021</td>\n",
       "      <td>8.03</td>\n",
       "    </tr>\n",
       "  </tbody>\n",
       "</table>\n",
       "<p>7195 rows × 3 columns</p>\n",
       "</div>"
      ],
      "text/plain": [
       "             Entity  Year  Electricity generation - TWh\n",
       "0     ASEAN (Ember)  2000                        368.08\n",
       "1     ASEAN (Ember)  2001                        396.60\n",
       "2     ASEAN (Ember)  2002                        423.11\n",
       "3     ASEAN (Ember)  2003                        447.70\n",
       "4     ASEAN (Ember)  2004                        485.55\n",
       "...             ...   ...                           ...\n",
       "7190       Zimbabwe  2017                          7.35\n",
       "7191       Zimbabwe  2018                          9.19\n",
       "7192       Zimbabwe  2019                          8.24\n",
       "7193       Zimbabwe  2020                          7.59\n",
       "7194       Zimbabwe  2021                          8.03\n",
       "\n",
       "[7195 rows x 3 columns]"
      ]
     },
     "execution_count": 8,
     "metadata": {},
     "output_type": "execute_result"
    }
   ],
   "source": [
    "# drop unnecessary columns\n",
    "df2.drop(columns=['Code'], inplace=True)\n",
    "df2"
   ]
  },
  {
   "cell_type": "code",
   "execution_count": 9,
   "metadata": {},
   "outputs": [
    {
     "data": {
      "text/plain": [
       "Entity                          0\n",
       "Year                            0\n",
       "Electricity generation - TWh    0\n",
       "dtype: int64"
      ]
     },
     "execution_count": 9,
     "metadata": {},
     "output_type": "execute_result"
    }
   ],
   "source": [
    "# check for nulls\n",
    "df2.isna().sum()"
   ]
  },
  {
   "cell_type": "markdown",
   "metadata": {},
   "source": [
    "##### Load 3rd CSV"
   ]
  },
  {
   "cell_type": "code",
   "execution_count": 10,
   "metadata": {},
   "outputs": [
    {
     "data": {
      "text/html": [
       "<div>\n",
       "<style scoped>\n",
       "    .dataframe tbody tr th:only-of-type {\n",
       "        vertical-align: middle;\n",
       "    }\n",
       "\n",
       "    .dataframe tbody tr th {\n",
       "        vertical-align: top;\n",
       "    }\n",
       "\n",
       "    .dataframe thead th {\n",
       "        text-align: right;\n",
       "    }\n",
       "</style>\n",
       "<table border=\"1\" class=\"dataframe\">\n",
       "  <thead>\n",
       "    <tr style=\"text-align: right;\">\n",
       "      <th></th>\n",
       "      <th>Entity</th>\n",
       "      <th>Code</th>\n",
       "      <th>Year</th>\n",
       "      <th>Urban population</th>\n",
       "      <th>Rural population</th>\n",
       "    </tr>\n",
       "  </thead>\n",
       "  <tbody>\n",
       "    <tr>\n",
       "      <th>0</th>\n",
       "      <td>Afghanistan</td>\n",
       "      <td>AFG</td>\n",
       "      <td>1960</td>\n",
       "      <td>724373</td>\n",
       "      <td>7898093.0</td>\n",
       "    </tr>\n",
       "    <tr>\n",
       "      <th>1</th>\n",
       "      <td>Afghanistan</td>\n",
       "      <td>AFG</td>\n",
       "      <td>1961</td>\n",
       "      <td>763336</td>\n",
       "      <td>8026804.0</td>\n",
       "    </tr>\n",
       "    <tr>\n",
       "      <th>2</th>\n",
       "      <td>Afghanistan</td>\n",
       "      <td>AFG</td>\n",
       "      <td>1962</td>\n",
       "      <td>805062</td>\n",
       "      <td>8163985.0</td>\n",
       "    </tr>\n",
       "    <tr>\n",
       "      <th>3</th>\n",
       "      <td>Afghanistan</td>\n",
       "      <td>AFG</td>\n",
       "      <td>1963</td>\n",
       "      <td>849446</td>\n",
       "      <td>8308019.0</td>\n",
       "    </tr>\n",
       "    <tr>\n",
       "      <th>4</th>\n",
       "      <td>Afghanistan</td>\n",
       "      <td>AFG</td>\n",
       "      <td>1964</td>\n",
       "      <td>896820</td>\n",
       "      <td>8458694.0</td>\n",
       "    </tr>\n",
       "    <tr>\n",
       "      <th>...</th>\n",
       "      <td>...</td>\n",
       "      <td>...</td>\n",
       "      <td>...</td>\n",
       "      <td>...</td>\n",
       "      <td>...</td>\n",
       "    </tr>\n",
       "    <tr>\n",
       "      <th>14163</th>\n",
       "      <td>Zimbabwe</td>\n",
       "      <td>ZWE</td>\n",
       "      <td>2017</td>\n",
       "      <td>4755312</td>\n",
       "      <td>9995789.0</td>\n",
       "    </tr>\n",
       "    <tr>\n",
       "      <th>14164</th>\n",
       "      <td>Zimbabwe</td>\n",
       "      <td>ZWE</td>\n",
       "      <td>2018</td>\n",
       "      <td>4848158</td>\n",
       "      <td>10204026.0</td>\n",
       "    </tr>\n",
       "    <tr>\n",
       "      <th>14165</th>\n",
       "      <td>Zimbabwe</td>\n",
       "      <td>ZWE</td>\n",
       "      <td>2019</td>\n",
       "      <td>4945719</td>\n",
       "      <td>10408889.0</td>\n",
       "    </tr>\n",
       "    <tr>\n",
       "      <th>14166</th>\n",
       "      <td>Zimbabwe</td>\n",
       "      <td>ZWE</td>\n",
       "      <td>2020</td>\n",
       "      <td>5052214</td>\n",
       "      <td>10617452.0</td>\n",
       "    </tr>\n",
       "    <tr>\n",
       "      <th>14167</th>\n",
       "      <td>Zimbabwe</td>\n",
       "      <td>ZWE</td>\n",
       "      <td>2021</td>\n",
       "      <td>5166388</td>\n",
       "      <td>10827136.0</td>\n",
       "    </tr>\n",
       "  </tbody>\n",
       "</table>\n",
       "<p>14168 rows × 5 columns</p>\n",
       "</div>"
      ],
      "text/plain": [
       "            Entity Code  Year  Urban population  Rural population\n",
       "0      Afghanistan  AFG  1960            724373         7898093.0\n",
       "1      Afghanistan  AFG  1961            763336         8026804.0\n",
       "2      Afghanistan  AFG  1962            805062         8163985.0\n",
       "3      Afghanistan  AFG  1963            849446         8308019.0\n",
       "4      Afghanistan  AFG  1964            896820         8458694.0\n",
       "...            ...  ...   ...               ...               ...\n",
       "14163     Zimbabwe  ZWE  2017           4755312         9995789.0\n",
       "14164     Zimbabwe  ZWE  2018           4848158        10204026.0\n",
       "14165     Zimbabwe  ZWE  2019           4945719        10408889.0\n",
       "14166     Zimbabwe  ZWE  2020           5052214        10617452.0\n",
       "14167     Zimbabwe  ZWE  2021           5166388        10827136.0\n",
       "\n",
       "[14168 rows x 5 columns]"
      ]
     },
     "execution_count": 10,
     "metadata": {},
     "output_type": "execute_result"
    }
   ],
   "source": [
    "df3 = pd.read_csv('urban-and-rural-population.csv')\n",
    "df3"
   ]
  },
  {
   "cell_type": "code",
   "execution_count": 11,
   "metadata": {},
   "outputs": [
    {
     "data": {
      "text/html": [
       "<div>\n",
       "<style scoped>\n",
       "    .dataframe tbody tr th:only-of-type {\n",
       "        vertical-align: middle;\n",
       "    }\n",
       "\n",
       "    .dataframe tbody tr th {\n",
       "        vertical-align: top;\n",
       "    }\n",
       "\n",
       "    .dataframe thead th {\n",
       "        text-align: right;\n",
       "    }\n",
       "</style>\n",
       "<table border=\"1\" class=\"dataframe\">\n",
       "  <thead>\n",
       "    <tr style=\"text-align: right;\">\n",
       "      <th></th>\n",
       "      <th>Entity</th>\n",
       "      <th>Year</th>\n",
       "      <th>Urban population</th>\n",
       "      <th>Rural population</th>\n",
       "    </tr>\n",
       "  </thead>\n",
       "  <tbody>\n",
       "    <tr>\n",
       "      <th>0</th>\n",
       "      <td>Afghanistan</td>\n",
       "      <td>1960</td>\n",
       "      <td>724373</td>\n",
       "      <td>7898093.0</td>\n",
       "    </tr>\n",
       "    <tr>\n",
       "      <th>1</th>\n",
       "      <td>Afghanistan</td>\n",
       "      <td>1961</td>\n",
       "      <td>763336</td>\n",
       "      <td>8026804.0</td>\n",
       "    </tr>\n",
       "    <tr>\n",
       "      <th>2</th>\n",
       "      <td>Afghanistan</td>\n",
       "      <td>1962</td>\n",
       "      <td>805062</td>\n",
       "      <td>8163985.0</td>\n",
       "    </tr>\n",
       "    <tr>\n",
       "      <th>3</th>\n",
       "      <td>Afghanistan</td>\n",
       "      <td>1963</td>\n",
       "      <td>849446</td>\n",
       "      <td>8308019.0</td>\n",
       "    </tr>\n",
       "    <tr>\n",
       "      <th>4</th>\n",
       "      <td>Afghanistan</td>\n",
       "      <td>1964</td>\n",
       "      <td>896820</td>\n",
       "      <td>8458694.0</td>\n",
       "    </tr>\n",
       "    <tr>\n",
       "      <th>...</th>\n",
       "      <td>...</td>\n",
       "      <td>...</td>\n",
       "      <td>...</td>\n",
       "      <td>...</td>\n",
       "    </tr>\n",
       "    <tr>\n",
       "      <th>14163</th>\n",
       "      <td>Zimbabwe</td>\n",
       "      <td>2017</td>\n",
       "      <td>4755312</td>\n",
       "      <td>9995789.0</td>\n",
       "    </tr>\n",
       "    <tr>\n",
       "      <th>14164</th>\n",
       "      <td>Zimbabwe</td>\n",
       "      <td>2018</td>\n",
       "      <td>4848158</td>\n",
       "      <td>10204026.0</td>\n",
       "    </tr>\n",
       "    <tr>\n",
       "      <th>14165</th>\n",
       "      <td>Zimbabwe</td>\n",
       "      <td>2019</td>\n",
       "      <td>4945719</td>\n",
       "      <td>10408889.0</td>\n",
       "    </tr>\n",
       "    <tr>\n",
       "      <th>14166</th>\n",
       "      <td>Zimbabwe</td>\n",
       "      <td>2020</td>\n",
       "      <td>5052214</td>\n",
       "      <td>10617452.0</td>\n",
       "    </tr>\n",
       "    <tr>\n",
       "      <th>14167</th>\n",
       "      <td>Zimbabwe</td>\n",
       "      <td>2021</td>\n",
       "      <td>5166388</td>\n",
       "      <td>10827136.0</td>\n",
       "    </tr>\n",
       "  </tbody>\n",
       "</table>\n",
       "<p>14168 rows × 4 columns</p>\n",
       "</div>"
      ],
      "text/plain": [
       "            Entity  Year  Urban population  Rural population\n",
       "0      Afghanistan  1960            724373         7898093.0\n",
       "1      Afghanistan  1961            763336         8026804.0\n",
       "2      Afghanistan  1962            805062         8163985.0\n",
       "3      Afghanistan  1963            849446         8308019.0\n",
       "4      Afghanistan  1964            896820         8458694.0\n",
       "...            ...   ...               ...               ...\n",
       "14163     Zimbabwe  2017           4755312         9995789.0\n",
       "14164     Zimbabwe  2018           4848158        10204026.0\n",
       "14165     Zimbabwe  2019           4945719        10408889.0\n",
       "14166     Zimbabwe  2020           5052214        10617452.0\n",
       "14167     Zimbabwe  2021           5166388        10827136.0\n",
       "\n",
       "[14168 rows x 4 columns]"
      ]
     },
     "execution_count": 11,
     "metadata": {},
     "output_type": "execute_result"
    }
   ],
   "source": [
    "df3.drop(columns=['Code'], inplace=True)\n",
    "df3"
   ]
  },
  {
   "cell_type": "markdown",
   "metadata": {},
   "source": [
    "##### Merging the three CSVs"
   ]
  },
  {
   "cell_type": "code",
   "execution_count": 12,
   "metadata": {},
   "outputs": [],
   "source": [
    "# df and df have 2 similar columns, Entity and Year. We'll merge on the two columns\n",
    "merge_df = pd.merge(df, df2, on=['Entity', 'Year'], how='inner')"
   ]
  },
  {
   "cell_type": "code",
   "execution_count": 13,
   "metadata": {},
   "outputs": [
    {
     "data": {
      "text/html": [
       "<div>\n",
       "<style scoped>\n",
       "    .dataframe tbody tr th:only-of-type {\n",
       "        vertical-align: middle;\n",
       "    }\n",
       "\n",
       "    .dataframe tbody tr th {\n",
       "        vertical-align: top;\n",
       "    }\n",
       "\n",
       "    .dataframe thead th {\n",
       "        text-align: right;\n",
       "    }\n",
       "</style>\n",
       "<table border=\"1\" class=\"dataframe\">\n",
       "  <thead>\n",
       "    <tr style=\"text-align: right;\">\n",
       "      <th></th>\n",
       "      <th>Entity</th>\n",
       "      <th>Year</th>\n",
       "      <th>Electricity from wind - TWh</th>\n",
       "      <th>Electricity from hydro - TWh</th>\n",
       "      <th>Electricity from solar - TWh</th>\n",
       "      <th>Other renewables including bioenergy - TWh</th>\n",
       "      <th>Electricity generation - TWh</th>\n",
       "    </tr>\n",
       "  </thead>\n",
       "  <tbody>\n",
       "    <tr>\n",
       "      <th>0</th>\n",
       "      <td>ASEAN (Ember)</td>\n",
       "      <td>2000</td>\n",
       "      <td>0.0</td>\n",
       "      <td>50.37</td>\n",
       "      <td>0.00</td>\n",
       "      <td>22.400000</td>\n",
       "      <td>368.08</td>\n",
       "    </tr>\n",
       "    <tr>\n",
       "      <th>1</th>\n",
       "      <td>ASEAN (Ember)</td>\n",
       "      <td>2001</td>\n",
       "      <td>0.0</td>\n",
       "      <td>54.26</td>\n",
       "      <td>0.00</td>\n",
       "      <td>22.289999</td>\n",
       "      <td>396.60</td>\n",
       "    </tr>\n",
       "    <tr>\n",
       "      <th>2</th>\n",
       "      <td>ASEAN (Ember)</td>\n",
       "      <td>2002</td>\n",
       "      <td>0.0</td>\n",
       "      <td>53.32</td>\n",
       "      <td>0.00</td>\n",
       "      <td>22.540000</td>\n",
       "      <td>423.11</td>\n",
       "    </tr>\n",
       "    <tr>\n",
       "      <th>3</th>\n",
       "      <td>ASEAN (Ember)</td>\n",
       "      <td>2003</td>\n",
       "      <td>0.0</td>\n",
       "      <td>53.28</td>\n",
       "      <td>0.00</td>\n",
       "      <td>22.250000</td>\n",
       "      <td>447.70</td>\n",
       "    </tr>\n",
       "    <tr>\n",
       "      <th>4</th>\n",
       "      <td>ASEAN (Ember)</td>\n",
       "      <td>2004</td>\n",
       "      <td>0.0</td>\n",
       "      <td>52.88</td>\n",
       "      <td>0.00</td>\n",
       "      <td>24.039999</td>\n",
       "      <td>485.55</td>\n",
       "    </tr>\n",
       "    <tr>\n",
       "      <th>...</th>\n",
       "      <td>...</td>\n",
       "      <td>...</td>\n",
       "      <td>...</td>\n",
       "      <td>...</td>\n",
       "      <td>...</td>\n",
       "      <td>...</td>\n",
       "      <td>...</td>\n",
       "    </tr>\n",
       "    <tr>\n",
       "      <th>7160</th>\n",
       "      <td>Zimbabwe</td>\n",
       "      <td>2017</td>\n",
       "      <td>0.0</td>\n",
       "      <td>3.97</td>\n",
       "      <td>0.01</td>\n",
       "      <td>0.320000</td>\n",
       "      <td>7.35</td>\n",
       "    </tr>\n",
       "    <tr>\n",
       "      <th>7161</th>\n",
       "      <td>Zimbabwe</td>\n",
       "      <td>2018</td>\n",
       "      <td>0.0</td>\n",
       "      <td>5.05</td>\n",
       "      <td>0.02</td>\n",
       "      <td>0.390000</td>\n",
       "      <td>9.19</td>\n",
       "    </tr>\n",
       "    <tr>\n",
       "      <th>7162</th>\n",
       "      <td>Zimbabwe</td>\n",
       "      <td>2019</td>\n",
       "      <td>0.0</td>\n",
       "      <td>4.17</td>\n",
       "      <td>0.03</td>\n",
       "      <td>0.380000</td>\n",
       "      <td>8.24</td>\n",
       "    </tr>\n",
       "    <tr>\n",
       "      <th>7163</th>\n",
       "      <td>Zimbabwe</td>\n",
       "      <td>2020</td>\n",
       "      <td>0.0</td>\n",
       "      <td>3.81</td>\n",
       "      <td>0.03</td>\n",
       "      <td>0.350000</td>\n",
       "      <td>7.59</td>\n",
       "    </tr>\n",
       "    <tr>\n",
       "      <th>7164</th>\n",
       "      <td>Zimbabwe</td>\n",
       "      <td>2021</td>\n",
       "      <td>0.0</td>\n",
       "      <td>4.00</td>\n",
       "      <td>0.04</td>\n",
       "      <td>0.380000</td>\n",
       "      <td>8.03</td>\n",
       "    </tr>\n",
       "  </tbody>\n",
       "</table>\n",
       "<p>7165 rows × 7 columns</p>\n",
       "</div>"
      ],
      "text/plain": [
       "             Entity  Year  Electricity from wind - TWh  \\\n",
       "0     ASEAN (Ember)  2000                          0.0   \n",
       "1     ASEAN (Ember)  2001                          0.0   \n",
       "2     ASEAN (Ember)  2002                          0.0   \n",
       "3     ASEAN (Ember)  2003                          0.0   \n",
       "4     ASEAN (Ember)  2004                          0.0   \n",
       "...             ...   ...                          ...   \n",
       "7160       Zimbabwe  2017                          0.0   \n",
       "7161       Zimbabwe  2018                          0.0   \n",
       "7162       Zimbabwe  2019                          0.0   \n",
       "7163       Zimbabwe  2020                          0.0   \n",
       "7164       Zimbabwe  2021                          0.0   \n",
       "\n",
       "      Electricity from hydro - TWh  Electricity from solar - TWh  \\\n",
       "0                            50.37                          0.00   \n",
       "1                            54.26                          0.00   \n",
       "2                            53.32                          0.00   \n",
       "3                            53.28                          0.00   \n",
       "4                            52.88                          0.00   \n",
       "...                            ...                           ...   \n",
       "7160                          3.97                          0.01   \n",
       "7161                          5.05                          0.02   \n",
       "7162                          4.17                          0.03   \n",
       "7163                          3.81                          0.03   \n",
       "7164                          4.00                          0.04   \n",
       "\n",
       "      Other renewables including bioenergy - TWh  Electricity generation - TWh  \n",
       "0                                      22.400000                        368.08  \n",
       "1                                      22.289999                        396.60  \n",
       "2                                      22.540000                        423.11  \n",
       "3                                      22.250000                        447.70  \n",
       "4                                      24.039999                        485.55  \n",
       "...                                          ...                           ...  \n",
       "7160                                    0.320000                          7.35  \n",
       "7161                                    0.390000                          9.19  \n",
       "7162                                    0.380000                          8.24  \n",
       "7163                                    0.350000                          7.59  \n",
       "7164                                    0.380000                          8.03  \n",
       "\n",
       "[7165 rows x 7 columns]"
      ]
     },
     "execution_count": 13,
     "metadata": {},
     "output_type": "execute_result"
    }
   ],
   "source": [
    "merge_df"
   ]
  },
  {
   "cell_type": "code",
   "execution_count": 14,
   "metadata": {},
   "outputs": [
    {
     "data": {
      "text/html": [
       "<div>\n",
       "<style scoped>\n",
       "    .dataframe tbody tr th:only-of-type {\n",
       "        vertical-align: middle;\n",
       "    }\n",
       "\n",
       "    .dataframe tbody tr th {\n",
       "        vertical-align: top;\n",
       "    }\n",
       "\n",
       "    .dataframe thead th {\n",
       "        text-align: right;\n",
       "    }\n",
       "</style>\n",
       "<table border=\"1\" class=\"dataframe\">\n",
       "  <thead>\n",
       "    <tr style=\"text-align: right;\">\n",
       "      <th></th>\n",
       "      <th>Entity</th>\n",
       "      <th>Year</th>\n",
       "      <th>Electricity from wind - TWh</th>\n",
       "      <th>Electricity from hydro - TWh</th>\n",
       "      <th>Electricity from solar - TWh</th>\n",
       "      <th>Other renewables including bioenergy - TWh</th>\n",
       "      <th>Electricity generation - TWh</th>\n",
       "      <th>Urban population</th>\n",
       "      <th>Rural population</th>\n",
       "    </tr>\n",
       "  </thead>\n",
       "  <tbody>\n",
       "    <tr>\n",
       "      <th>0</th>\n",
       "      <td>Afghanistan</td>\n",
       "      <td>2000</td>\n",
       "      <td>0.0</td>\n",
       "      <td>0.31</td>\n",
       "      <td>0.00</td>\n",
       "      <td>0.00</td>\n",
       "      <td>0.47</td>\n",
       "      <td>4314700</td>\n",
       "      <td>15228282.0</td>\n",
       "    </tr>\n",
       "    <tr>\n",
       "      <th>1</th>\n",
       "      <td>Afghanistan</td>\n",
       "      <td>2001</td>\n",
       "      <td>0.0</td>\n",
       "      <td>0.50</td>\n",
       "      <td>0.00</td>\n",
       "      <td>0.00</td>\n",
       "      <td>0.59</td>\n",
       "      <td>4364773</td>\n",
       "      <td>15323859.0</td>\n",
       "    </tr>\n",
       "    <tr>\n",
       "      <th>2</th>\n",
       "      <td>Afghanistan</td>\n",
       "      <td>2002</td>\n",
       "      <td>0.0</td>\n",
       "      <td>0.56</td>\n",
       "      <td>0.00</td>\n",
       "      <td>0.00</td>\n",
       "      <td>0.69</td>\n",
       "      <td>4674867</td>\n",
       "      <td>16325389.0</td>\n",
       "    </tr>\n",
       "    <tr>\n",
       "      <th>3</th>\n",
       "      <td>Afghanistan</td>\n",
       "      <td>2003</td>\n",
       "      <td>0.0</td>\n",
       "      <td>0.63</td>\n",
       "      <td>0.00</td>\n",
       "      <td>0.00</td>\n",
       "      <td>0.94</td>\n",
       "      <td>5061866</td>\n",
       "      <td>17583264.0</td>\n",
       "    </tr>\n",
       "    <tr>\n",
       "      <th>4</th>\n",
       "      <td>Afghanistan</td>\n",
       "      <td>2004</td>\n",
       "      <td>0.0</td>\n",
       "      <td>0.56</td>\n",
       "      <td>0.00</td>\n",
       "      <td>0.00</td>\n",
       "      <td>0.89</td>\n",
       "      <td>5299549</td>\n",
       "      <td>18254002.0</td>\n",
       "    </tr>\n",
       "    <tr>\n",
       "      <th>...</th>\n",
       "      <td>...</td>\n",
       "      <td>...</td>\n",
       "      <td>...</td>\n",
       "      <td>...</td>\n",
       "      <td>...</td>\n",
       "      <td>...</td>\n",
       "      <td>...</td>\n",
       "      <td>...</td>\n",
       "      <td>...</td>\n",
       "    </tr>\n",
       "    <tr>\n",
       "      <th>5794</th>\n",
       "      <td>Zimbabwe</td>\n",
       "      <td>2017</td>\n",
       "      <td>0.0</td>\n",
       "      <td>3.97</td>\n",
       "      <td>0.01</td>\n",
       "      <td>0.32</td>\n",
       "      <td>7.35</td>\n",
       "      <td>4755312</td>\n",
       "      <td>9995789.0</td>\n",
       "    </tr>\n",
       "    <tr>\n",
       "      <th>5795</th>\n",
       "      <td>Zimbabwe</td>\n",
       "      <td>2018</td>\n",
       "      <td>0.0</td>\n",
       "      <td>5.05</td>\n",
       "      <td>0.02</td>\n",
       "      <td>0.39</td>\n",
       "      <td>9.19</td>\n",
       "      <td>4848158</td>\n",
       "      <td>10204026.0</td>\n",
       "    </tr>\n",
       "    <tr>\n",
       "      <th>5796</th>\n",
       "      <td>Zimbabwe</td>\n",
       "      <td>2019</td>\n",
       "      <td>0.0</td>\n",
       "      <td>4.17</td>\n",
       "      <td>0.03</td>\n",
       "      <td>0.38</td>\n",
       "      <td>8.24</td>\n",
       "      <td>4945719</td>\n",
       "      <td>10408889.0</td>\n",
       "    </tr>\n",
       "    <tr>\n",
       "      <th>5797</th>\n",
       "      <td>Zimbabwe</td>\n",
       "      <td>2020</td>\n",
       "      <td>0.0</td>\n",
       "      <td>3.81</td>\n",
       "      <td>0.03</td>\n",
       "      <td>0.35</td>\n",
       "      <td>7.59</td>\n",
       "      <td>5052214</td>\n",
       "      <td>10617452.0</td>\n",
       "    </tr>\n",
       "    <tr>\n",
       "      <th>5798</th>\n",
       "      <td>Zimbabwe</td>\n",
       "      <td>2021</td>\n",
       "      <td>0.0</td>\n",
       "      <td>4.00</td>\n",
       "      <td>0.04</td>\n",
       "      <td>0.38</td>\n",
       "      <td>8.03</td>\n",
       "      <td>5166388</td>\n",
       "      <td>10827136.0</td>\n",
       "    </tr>\n",
       "  </tbody>\n",
       "</table>\n",
       "<p>5799 rows × 9 columns</p>\n",
       "</div>"
      ],
      "text/plain": [
       "           Entity  Year  Electricity from wind - TWh  \\\n",
       "0     Afghanistan  2000                          0.0   \n",
       "1     Afghanistan  2001                          0.0   \n",
       "2     Afghanistan  2002                          0.0   \n",
       "3     Afghanistan  2003                          0.0   \n",
       "4     Afghanistan  2004                          0.0   \n",
       "...           ...   ...                          ...   \n",
       "5794     Zimbabwe  2017                          0.0   \n",
       "5795     Zimbabwe  2018                          0.0   \n",
       "5796     Zimbabwe  2019                          0.0   \n",
       "5797     Zimbabwe  2020                          0.0   \n",
       "5798     Zimbabwe  2021                          0.0   \n",
       "\n",
       "      Electricity from hydro - TWh  Electricity from solar - TWh  \\\n",
       "0                             0.31                          0.00   \n",
       "1                             0.50                          0.00   \n",
       "2                             0.56                          0.00   \n",
       "3                             0.63                          0.00   \n",
       "4                             0.56                          0.00   \n",
       "...                            ...                           ...   \n",
       "5794                          3.97                          0.01   \n",
       "5795                          5.05                          0.02   \n",
       "5796                          4.17                          0.03   \n",
       "5797                          3.81                          0.03   \n",
       "5798                          4.00                          0.04   \n",
       "\n",
       "      Other renewables including bioenergy - TWh  \\\n",
       "0                                           0.00   \n",
       "1                                           0.00   \n",
       "2                                           0.00   \n",
       "3                                           0.00   \n",
       "4                                           0.00   \n",
       "...                                          ...   \n",
       "5794                                        0.32   \n",
       "5795                                        0.39   \n",
       "5796                                        0.38   \n",
       "5797                                        0.35   \n",
       "5798                                        0.38   \n",
       "\n",
       "      Electricity generation - TWh  Urban population  Rural population  \n",
       "0                             0.47           4314700        15228282.0  \n",
       "1                             0.59           4364773        15323859.0  \n",
       "2                             0.69           4674867        16325389.0  \n",
       "3                             0.94           5061866        17583264.0  \n",
       "4                             0.89           5299549        18254002.0  \n",
       "...                            ...               ...               ...  \n",
       "5794                          7.35           4755312         9995789.0  \n",
       "5795                          9.19           4848158        10204026.0  \n",
       "5796                          8.24           4945719        10408889.0  \n",
       "5797                          7.59           5052214        10617452.0  \n",
       "5798                          8.03           5166388        10827136.0  \n",
       "\n",
       "[5799 rows x 9 columns]"
      ]
     },
     "execution_count": 14,
     "metadata": {},
     "output_type": "execute_result"
    }
   ],
   "source": [
    "merged_df = pd.merge(merge_df, df3, on=['Entity', 'Year'], how='inner')\n",
    "merged_df"
   ]
  },
  {
   "cell_type": "code",
   "execution_count": 15,
   "metadata": {},
   "outputs": [
    {
     "data": {
      "text/html": [
       "<div>\n",
       "<style scoped>\n",
       "    .dataframe tbody tr th:only-of-type {\n",
       "        vertical-align: middle;\n",
       "    }\n",
       "\n",
       "    .dataframe tbody tr th {\n",
       "        vertical-align: top;\n",
       "    }\n",
       "\n",
       "    .dataframe thead th {\n",
       "        text-align: right;\n",
       "    }\n",
       "</style>\n",
       "<table border=\"1\" class=\"dataframe\">\n",
       "  <thead>\n",
       "    <tr style=\"text-align: right;\">\n",
       "      <th></th>\n",
       "      <th>Year</th>\n",
       "      <th>Electricity from wind - TWh</th>\n",
       "      <th>Electricity from hydro - TWh</th>\n",
       "      <th>Electricity from solar - TWh</th>\n",
       "      <th>Other renewables including bioenergy - TWh</th>\n",
       "      <th>Electricity generation - TWh</th>\n",
       "      <th>Urban population</th>\n",
       "      <th>Rural population</th>\n",
       "    </tr>\n",
       "  </thead>\n",
       "  <tbody>\n",
       "    <tr>\n",
       "      <th>count</th>\n",
       "      <td>5799.000000</td>\n",
       "      <td>5640.000000</td>\n",
       "      <td>5736.000000</td>\n",
       "      <td>5599.000000</td>\n",
       "      <td>5611.000000</td>\n",
       "      <td>5799.000000</td>\n",
       "      <td>5.799000e+03</td>\n",
       "      <td>5.799000e+03</td>\n",
       "    </tr>\n",
       "    <tr>\n",
       "      <th>mean</th>\n",
       "      <td>2006.521469</td>\n",
       "      <td>7.606038</td>\n",
       "      <td>58.652696</td>\n",
       "      <td>2.772883</td>\n",
       "      <td>6.432781</td>\n",
       "      <td>351.880592</td>\n",
       "      <td>6.090656e+07</td>\n",
       "      <td>6.089809e+07</td>\n",
       "    </tr>\n",
       "    <tr>\n",
       "      <th>std</th>\n",
       "      <td>9.648417</td>\n",
       "      <td>65.017414</td>\n",
       "      <td>295.958151</td>\n",
       "      <td>29.757392</td>\n",
       "      <td>36.535950</td>\n",
       "      <td>1802.214206</td>\n",
       "      <td>2.957410e+08</td>\n",
       "      <td>3.119375e+08</td>\n",
       "    </tr>\n",
       "    <tr>\n",
       "      <th>min</th>\n",
       "      <td>1985.000000</td>\n",
       "      <td>0.000000</td>\n",
       "      <td>0.000000</td>\n",
       "      <td>0.000000</td>\n",
       "      <td>0.000000</td>\n",
       "      <td>0.000000</td>\n",
       "      <td>8.398000e+03</td>\n",
       "      <td>0.000000e+00</td>\n",
       "    </tr>\n",
       "    <tr>\n",
       "      <th>25%</th>\n",
       "      <td>2000.000000</td>\n",
       "      <td>0.000000</td>\n",
       "      <td>0.020750</td>\n",
       "      <td>0.000000</td>\n",
       "      <td>0.000000</td>\n",
       "      <td>1.810000</td>\n",
       "      <td>1.218654e+06</td>\n",
       "      <td>6.087415e+05</td>\n",
       "    </tr>\n",
       "    <tr>\n",
       "      <th>50%</th>\n",
       "      <td>2007.000000</td>\n",
       "      <td>0.000000</td>\n",
       "      <td>1.760000</td>\n",
       "      <td>0.000000</td>\n",
       "      <td>0.010000</td>\n",
       "      <td>14.840000</td>\n",
       "      <td>4.700302e+06</td>\n",
       "      <td>2.980799e+06</td>\n",
       "    </tr>\n",
       "    <tr>\n",
       "      <th>75%</th>\n",
       "      <td>2014.000000</td>\n",
       "      <td>0.060000</td>\n",
       "      <td>11.799250</td>\n",
       "      <td>0.017200</td>\n",
       "      <td>0.670000</td>\n",
       "      <td>67.710000</td>\n",
       "      <td>1.760226e+07</td>\n",
       "      <td>1.256642e+07</td>\n",
       "    </tr>\n",
       "    <tr>\n",
       "      <th>max</th>\n",
       "      <td>2021.000000</td>\n",
       "      <td>1848.280000</td>\n",
       "      <td>4339.530000</td>\n",
       "      <td>1047.060000</td>\n",
       "      <td>750.280000</td>\n",
       "      <td>28002.920000</td>\n",
       "      <td>4.454153e+09</td>\n",
       "      <td>3.435444e+09</td>\n",
       "    </tr>\n",
       "  </tbody>\n",
       "</table>\n",
       "</div>"
      ],
      "text/plain": [
       "              Year  Electricity from wind - TWh  Electricity from hydro - TWh  \\\n",
       "count  5799.000000                  5640.000000                   5736.000000   \n",
       "mean   2006.521469                     7.606038                     58.652696   \n",
       "std       9.648417                    65.017414                    295.958151   \n",
       "min    1985.000000                     0.000000                      0.000000   \n",
       "25%    2000.000000                     0.000000                      0.020750   \n",
       "50%    2007.000000                     0.000000                      1.760000   \n",
       "75%    2014.000000                     0.060000                     11.799250   \n",
       "max    2021.000000                  1848.280000                   4339.530000   \n",
       "\n",
       "       Electricity from solar - TWh  \\\n",
       "count                   5599.000000   \n",
       "mean                       2.772883   \n",
       "std                       29.757392   \n",
       "min                        0.000000   \n",
       "25%                        0.000000   \n",
       "50%                        0.000000   \n",
       "75%                        0.017200   \n",
       "max                     1047.060000   \n",
       "\n",
       "       Other renewables including bioenergy - TWh  \\\n",
       "count                                 5611.000000   \n",
       "mean                                     6.432781   \n",
       "std                                     36.535950   \n",
       "min                                      0.000000   \n",
       "25%                                      0.000000   \n",
       "50%                                      0.010000   \n",
       "75%                                      0.670000   \n",
       "max                                    750.280000   \n",
       "\n",
       "       Electricity generation - TWh  Urban population  Rural population  \n",
       "count                   5799.000000      5.799000e+03      5.799000e+03  \n",
       "mean                     351.880592      6.090656e+07      6.089809e+07  \n",
       "std                     1802.214206      2.957410e+08      3.119375e+08  \n",
       "min                        0.000000      8.398000e+03      0.000000e+00  \n",
       "25%                        1.810000      1.218654e+06      6.087415e+05  \n",
       "50%                       14.840000      4.700302e+06      2.980799e+06  \n",
       "75%                       67.710000      1.760226e+07      1.256642e+07  \n",
       "max                    28002.920000      4.454153e+09      3.435444e+09  "
      ]
     },
     "execution_count": 15,
     "metadata": {},
     "output_type": "execute_result"
    }
   ],
   "source": [
    "# Display descriptive statistics of the DataFrame\n",
    "merged_df.describe()"
   ]
  },
  {
   "cell_type": "code",
   "execution_count": 16,
   "metadata": {},
   "outputs": [
    {
     "data": {
      "text/plain": [
       "Entity                                         207\n",
       "Year                                            37\n",
       "Electricity from wind - TWh                    832\n",
       "Electricity from hydro - TWh                  2524\n",
       "Electricity from solar - TWh                   545\n",
       "Other renewables including bioenergy - TWh    1339\n",
       "Electricity generation - TWh                  3849\n",
       "Urban population                              5797\n",
       "Rural population                              5598\n",
       "dtype: int64"
      ]
     },
     "execution_count": 16,
     "metadata": {},
     "output_type": "execute_result"
    }
   ],
   "source": [
    "#Check the unique values in each column\n",
    "merged_df.nunique()"
   ]
  },
  {
   "cell_type": "code",
   "execution_count": 17,
   "metadata": {},
   "outputs": [
    {
     "data": {
      "text/plain": [
       "Entity                                          0\n",
       "Year                                            0\n",
       "Electricity from wind - TWh                   159\n",
       "Electricity from hydro - TWh                   63\n",
       "Electricity from solar - TWh                  200\n",
       "Other renewables including bioenergy - TWh    188\n",
       "Electricity generation - TWh                    0\n",
       "Urban population                                0\n",
       "Rural population                                0\n",
       "dtype: int64"
      ]
     },
     "execution_count": 17,
     "metadata": {},
     "output_type": "execute_result"
    }
   ],
   "source": [
    "# check for nulls\n",
    "merged_df.isna().sum()"
   ]
  },
  {
   "cell_type": "code",
   "execution_count": 18,
   "metadata": {},
   "outputs": [],
   "source": [
    "#fill nulls\n",
    "merged_df.fillna(0, inplace=True)"
   ]
  },
  {
   "cell_type": "code",
   "execution_count": 19,
   "metadata": {},
   "outputs": [
    {
     "data": {
      "text/plain": [
       "Entity                                        0\n",
       "Year                                          0\n",
       "Electricity from wind - TWh                   0\n",
       "Electricity from hydro - TWh                  0\n",
       "Electricity from solar - TWh                  0\n",
       "Other renewables including bioenergy - TWh    0\n",
       "Electricity generation - TWh                  0\n",
       "Urban population                              0\n",
       "Rural population                              0\n",
       "dtype: int64"
      ]
     },
     "execution_count": 19,
     "metadata": {},
     "output_type": "execute_result"
    }
   ],
   "source": [
    "# confirming we have no nulls\n",
    "merged_df.isna().sum()"
   ]
  },
  {
   "cell_type": "code",
   "execution_count": 20,
   "metadata": {},
   "outputs": [
    {
     "data": {
      "text/plain": [
       "Entity                                         object\n",
       "Year                                            int64\n",
       "Electricity from wind - TWh                   float64\n",
       "Electricity from hydro - TWh                  float64\n",
       "Electricity from solar - TWh                  float64\n",
       "Other renewables including bioenergy - TWh    float64\n",
       "Electricity generation - TWh                  float64\n",
       "Urban population                                int64\n",
       "Rural population                              float64\n",
       "dtype: object"
      ]
     },
     "execution_count": 20,
     "metadata": {},
     "output_type": "execute_result"
    }
   ],
   "source": [
    "# checking column data types\n",
    "merged_df.dtypes"
   ]
  },
  {
   "cell_type": "code",
   "execution_count": 21,
   "metadata": {},
   "outputs": [
    {
     "data": {
      "text/html": [
       "<div>\n",
       "<style scoped>\n",
       "    .dataframe tbody tr th:only-of-type {\n",
       "        vertical-align: middle;\n",
       "    }\n",
       "\n",
       "    .dataframe tbody tr th {\n",
       "        vertical-align: top;\n",
       "    }\n",
       "\n",
       "    .dataframe thead th {\n",
       "        text-align: right;\n",
       "    }\n",
       "</style>\n",
       "<table border=\"1\" class=\"dataframe\">\n",
       "  <thead>\n",
       "    <tr style=\"text-align: right;\">\n",
       "      <th></th>\n",
       "      <th>Entity</th>\n",
       "      <th>Year</th>\n",
       "      <th>Electricity from wind - TWh</th>\n",
       "      <th>Electricity from hydro - TWh</th>\n",
       "      <th>Electricity from solar - TWh</th>\n",
       "      <th>Other renewables including bioenergy - TWh</th>\n",
       "      <th>Electricity generation - TWh</th>\n",
       "      <th>Urban population</th>\n",
       "      <th>Rural population</th>\n",
       "    </tr>\n",
       "  </thead>\n",
       "  <tbody>\n",
       "    <tr>\n",
       "      <th>0</th>\n",
       "      <td>Afghanistan</td>\n",
       "      <td>2000</td>\n",
       "      <td>0.0</td>\n",
       "      <td>0.31</td>\n",
       "      <td>0.00</td>\n",
       "      <td>0.00</td>\n",
       "      <td>0.47</td>\n",
       "      <td>4314700</td>\n",
       "      <td>15228282.0</td>\n",
       "    </tr>\n",
       "    <tr>\n",
       "      <th>1</th>\n",
       "      <td>Afghanistan</td>\n",
       "      <td>2001</td>\n",
       "      <td>0.0</td>\n",
       "      <td>0.50</td>\n",
       "      <td>0.00</td>\n",
       "      <td>0.00</td>\n",
       "      <td>0.59</td>\n",
       "      <td>4364773</td>\n",
       "      <td>15323859.0</td>\n",
       "    </tr>\n",
       "    <tr>\n",
       "      <th>2</th>\n",
       "      <td>Afghanistan</td>\n",
       "      <td>2002</td>\n",
       "      <td>0.0</td>\n",
       "      <td>0.56</td>\n",
       "      <td>0.00</td>\n",
       "      <td>0.00</td>\n",
       "      <td>0.69</td>\n",
       "      <td>4674867</td>\n",
       "      <td>16325389.0</td>\n",
       "    </tr>\n",
       "    <tr>\n",
       "      <th>3</th>\n",
       "      <td>Afghanistan</td>\n",
       "      <td>2003</td>\n",
       "      <td>0.0</td>\n",
       "      <td>0.63</td>\n",
       "      <td>0.00</td>\n",
       "      <td>0.00</td>\n",
       "      <td>0.94</td>\n",
       "      <td>5061866</td>\n",
       "      <td>17583264.0</td>\n",
       "    </tr>\n",
       "    <tr>\n",
       "      <th>4</th>\n",
       "      <td>Afghanistan</td>\n",
       "      <td>2004</td>\n",
       "      <td>0.0</td>\n",
       "      <td>0.56</td>\n",
       "      <td>0.00</td>\n",
       "      <td>0.00</td>\n",
       "      <td>0.89</td>\n",
       "      <td>5299549</td>\n",
       "      <td>18254002.0</td>\n",
       "    </tr>\n",
       "    <tr>\n",
       "      <th>...</th>\n",
       "      <td>...</td>\n",
       "      <td>...</td>\n",
       "      <td>...</td>\n",
       "      <td>...</td>\n",
       "      <td>...</td>\n",
       "      <td>...</td>\n",
       "      <td>...</td>\n",
       "      <td>...</td>\n",
       "      <td>...</td>\n",
       "    </tr>\n",
       "    <tr>\n",
       "      <th>5794</th>\n",
       "      <td>Zimbabwe</td>\n",
       "      <td>2017</td>\n",
       "      <td>0.0</td>\n",
       "      <td>3.97</td>\n",
       "      <td>0.01</td>\n",
       "      <td>0.32</td>\n",
       "      <td>7.35</td>\n",
       "      <td>4755312</td>\n",
       "      <td>9995789.0</td>\n",
       "    </tr>\n",
       "    <tr>\n",
       "      <th>5795</th>\n",
       "      <td>Zimbabwe</td>\n",
       "      <td>2018</td>\n",
       "      <td>0.0</td>\n",
       "      <td>5.05</td>\n",
       "      <td>0.02</td>\n",
       "      <td>0.39</td>\n",
       "      <td>9.19</td>\n",
       "      <td>4848158</td>\n",
       "      <td>10204026.0</td>\n",
       "    </tr>\n",
       "    <tr>\n",
       "      <th>5796</th>\n",
       "      <td>Zimbabwe</td>\n",
       "      <td>2019</td>\n",
       "      <td>0.0</td>\n",
       "      <td>4.17</td>\n",
       "      <td>0.03</td>\n",
       "      <td>0.38</td>\n",
       "      <td>8.24</td>\n",
       "      <td>4945719</td>\n",
       "      <td>10408889.0</td>\n",
       "    </tr>\n",
       "    <tr>\n",
       "      <th>5797</th>\n",
       "      <td>Zimbabwe</td>\n",
       "      <td>2020</td>\n",
       "      <td>0.0</td>\n",
       "      <td>3.81</td>\n",
       "      <td>0.03</td>\n",
       "      <td>0.35</td>\n",
       "      <td>7.59</td>\n",
       "      <td>5052214</td>\n",
       "      <td>10617452.0</td>\n",
       "    </tr>\n",
       "    <tr>\n",
       "      <th>5798</th>\n",
       "      <td>Zimbabwe</td>\n",
       "      <td>2021</td>\n",
       "      <td>0.0</td>\n",
       "      <td>4.00</td>\n",
       "      <td>0.04</td>\n",
       "      <td>0.38</td>\n",
       "      <td>8.03</td>\n",
       "      <td>5166388</td>\n",
       "      <td>10827136.0</td>\n",
       "    </tr>\n",
       "  </tbody>\n",
       "</table>\n",
       "<p>5799 rows × 9 columns</p>\n",
       "</div>"
      ],
      "text/plain": [
       "           Entity  Year  Electricity from wind - TWh  \\\n",
       "0     Afghanistan  2000                          0.0   \n",
       "1     Afghanistan  2001                          0.0   \n",
       "2     Afghanistan  2002                          0.0   \n",
       "3     Afghanistan  2003                          0.0   \n",
       "4     Afghanistan  2004                          0.0   \n",
       "...           ...   ...                          ...   \n",
       "5794     Zimbabwe  2017                          0.0   \n",
       "5795     Zimbabwe  2018                          0.0   \n",
       "5796     Zimbabwe  2019                          0.0   \n",
       "5797     Zimbabwe  2020                          0.0   \n",
       "5798     Zimbabwe  2021                          0.0   \n",
       "\n",
       "      Electricity from hydro - TWh  Electricity from solar - TWh  \\\n",
       "0                             0.31                          0.00   \n",
       "1                             0.50                          0.00   \n",
       "2                             0.56                          0.00   \n",
       "3                             0.63                          0.00   \n",
       "4                             0.56                          0.00   \n",
       "...                            ...                           ...   \n",
       "5794                          3.97                          0.01   \n",
       "5795                          5.05                          0.02   \n",
       "5796                          4.17                          0.03   \n",
       "5797                          3.81                          0.03   \n",
       "5798                          4.00                          0.04   \n",
       "\n",
       "      Other renewables including bioenergy - TWh  \\\n",
       "0                                           0.00   \n",
       "1                                           0.00   \n",
       "2                                           0.00   \n",
       "3                                           0.00   \n",
       "4                                           0.00   \n",
       "...                                          ...   \n",
       "5794                                        0.32   \n",
       "5795                                        0.39   \n",
       "5796                                        0.38   \n",
       "5797                                        0.35   \n",
       "5798                                        0.38   \n",
       "\n",
       "      Electricity generation - TWh  Urban population  Rural population  \n",
       "0                             0.47           4314700        15228282.0  \n",
       "1                             0.59           4364773        15323859.0  \n",
       "2                             0.69           4674867        16325389.0  \n",
       "3                             0.94           5061866        17583264.0  \n",
       "4                             0.89           5299549        18254002.0  \n",
       "...                            ...               ...               ...  \n",
       "5794                          7.35           4755312         9995789.0  \n",
       "5795                          9.19           4848158        10204026.0  \n",
       "5796                          8.24           4945719        10408889.0  \n",
       "5797                          7.59           5052214        10617452.0  \n",
       "5798                          8.03           5166388        10827136.0  \n",
       "\n",
       "[5799 rows x 9 columns]"
      ]
     },
     "execution_count": 21,
     "metadata": {},
     "output_type": "execute_result"
    }
   ],
   "source": [
    "# checking merged df\n",
    "merged_df"
   ]
  },
  {
   "cell_type": "markdown",
   "metadata": {
    "id": "C4niOHMzPKlp"
   },
   "source": [
    "### Feature Engineering"
   ]
  },
  {
   "cell_type": "code",
   "execution_count": 22,
   "metadata": {},
   "outputs": [
    {
     "data": {
      "text/html": [
       "<div>\n",
       "<style scoped>\n",
       "    .dataframe tbody tr th:only-of-type {\n",
       "        vertical-align: middle;\n",
       "    }\n",
       "\n",
       "    .dataframe tbody tr th {\n",
       "        vertical-align: top;\n",
       "    }\n",
       "\n",
       "    .dataframe thead th {\n",
       "        text-align: right;\n",
       "    }\n",
       "</style>\n",
       "<table border=\"1\" class=\"dataframe\">\n",
       "  <thead>\n",
       "    <tr style=\"text-align: right;\">\n",
       "      <th></th>\n",
       "      <th>Entity</th>\n",
       "      <th>Year</th>\n",
       "      <th>Electricity from wind - TWh</th>\n",
       "      <th>Electricity from hydro - TWh</th>\n",
       "      <th>Electricity from solar - TWh</th>\n",
       "      <th>Other renewables including bioenergy - TWh</th>\n",
       "      <th>Electricity generation - TWh</th>\n",
       "      <th>Urban population</th>\n",
       "      <th>Rural population</th>\n",
       "      <th>Total Renewable Electricity - TWh</th>\n",
       "    </tr>\n",
       "  </thead>\n",
       "  <tbody>\n",
       "    <tr>\n",
       "      <th>0</th>\n",
       "      <td>Afghanistan</td>\n",
       "      <td>2000</td>\n",
       "      <td>0.0</td>\n",
       "      <td>0.31</td>\n",
       "      <td>0.00</td>\n",
       "      <td>0.00</td>\n",
       "      <td>0.47</td>\n",
       "      <td>4314700</td>\n",
       "      <td>15228282.0</td>\n",
       "      <td>0.31</td>\n",
       "    </tr>\n",
       "    <tr>\n",
       "      <th>1</th>\n",
       "      <td>Afghanistan</td>\n",
       "      <td>2001</td>\n",
       "      <td>0.0</td>\n",
       "      <td>0.50</td>\n",
       "      <td>0.00</td>\n",
       "      <td>0.00</td>\n",
       "      <td>0.59</td>\n",
       "      <td>4364773</td>\n",
       "      <td>15323859.0</td>\n",
       "      <td>0.50</td>\n",
       "    </tr>\n",
       "    <tr>\n",
       "      <th>2</th>\n",
       "      <td>Afghanistan</td>\n",
       "      <td>2002</td>\n",
       "      <td>0.0</td>\n",
       "      <td>0.56</td>\n",
       "      <td>0.00</td>\n",
       "      <td>0.00</td>\n",
       "      <td>0.69</td>\n",
       "      <td>4674867</td>\n",
       "      <td>16325389.0</td>\n",
       "      <td>0.56</td>\n",
       "    </tr>\n",
       "    <tr>\n",
       "      <th>3</th>\n",
       "      <td>Afghanistan</td>\n",
       "      <td>2003</td>\n",
       "      <td>0.0</td>\n",
       "      <td>0.63</td>\n",
       "      <td>0.00</td>\n",
       "      <td>0.00</td>\n",
       "      <td>0.94</td>\n",
       "      <td>5061866</td>\n",
       "      <td>17583264.0</td>\n",
       "      <td>0.63</td>\n",
       "    </tr>\n",
       "    <tr>\n",
       "      <th>4</th>\n",
       "      <td>Afghanistan</td>\n",
       "      <td>2004</td>\n",
       "      <td>0.0</td>\n",
       "      <td>0.56</td>\n",
       "      <td>0.00</td>\n",
       "      <td>0.00</td>\n",
       "      <td>0.89</td>\n",
       "      <td>5299549</td>\n",
       "      <td>18254002.0</td>\n",
       "      <td>0.56</td>\n",
       "    </tr>\n",
       "    <tr>\n",
       "      <th>...</th>\n",
       "      <td>...</td>\n",
       "      <td>...</td>\n",
       "      <td>...</td>\n",
       "      <td>...</td>\n",
       "      <td>...</td>\n",
       "      <td>...</td>\n",
       "      <td>...</td>\n",
       "      <td>...</td>\n",
       "      <td>...</td>\n",
       "      <td>...</td>\n",
       "    </tr>\n",
       "    <tr>\n",
       "      <th>5794</th>\n",
       "      <td>Zimbabwe</td>\n",
       "      <td>2017</td>\n",
       "      <td>0.0</td>\n",
       "      <td>3.97</td>\n",
       "      <td>0.01</td>\n",
       "      <td>0.32</td>\n",
       "      <td>7.35</td>\n",
       "      <td>4755312</td>\n",
       "      <td>9995789.0</td>\n",
       "      <td>4.30</td>\n",
       "    </tr>\n",
       "    <tr>\n",
       "      <th>5795</th>\n",
       "      <td>Zimbabwe</td>\n",
       "      <td>2018</td>\n",
       "      <td>0.0</td>\n",
       "      <td>5.05</td>\n",
       "      <td>0.02</td>\n",
       "      <td>0.39</td>\n",
       "      <td>9.19</td>\n",
       "      <td>4848158</td>\n",
       "      <td>10204026.0</td>\n",
       "      <td>5.46</td>\n",
       "    </tr>\n",
       "    <tr>\n",
       "      <th>5796</th>\n",
       "      <td>Zimbabwe</td>\n",
       "      <td>2019</td>\n",
       "      <td>0.0</td>\n",
       "      <td>4.17</td>\n",
       "      <td>0.03</td>\n",
       "      <td>0.38</td>\n",
       "      <td>8.24</td>\n",
       "      <td>4945719</td>\n",
       "      <td>10408889.0</td>\n",
       "      <td>4.58</td>\n",
       "    </tr>\n",
       "    <tr>\n",
       "      <th>5797</th>\n",
       "      <td>Zimbabwe</td>\n",
       "      <td>2020</td>\n",
       "      <td>0.0</td>\n",
       "      <td>3.81</td>\n",
       "      <td>0.03</td>\n",
       "      <td>0.35</td>\n",
       "      <td>7.59</td>\n",
       "      <td>5052214</td>\n",
       "      <td>10617452.0</td>\n",
       "      <td>4.19</td>\n",
       "    </tr>\n",
       "    <tr>\n",
       "      <th>5798</th>\n",
       "      <td>Zimbabwe</td>\n",
       "      <td>2021</td>\n",
       "      <td>0.0</td>\n",
       "      <td>4.00</td>\n",
       "      <td>0.04</td>\n",
       "      <td>0.38</td>\n",
       "      <td>8.03</td>\n",
       "      <td>5166388</td>\n",
       "      <td>10827136.0</td>\n",
       "      <td>4.42</td>\n",
       "    </tr>\n",
       "  </tbody>\n",
       "</table>\n",
       "<p>5799 rows × 10 columns</p>\n",
       "</div>"
      ],
      "text/plain": [
       "           Entity  Year  Electricity from wind - TWh  \\\n",
       "0     Afghanistan  2000                          0.0   \n",
       "1     Afghanistan  2001                          0.0   \n",
       "2     Afghanistan  2002                          0.0   \n",
       "3     Afghanistan  2003                          0.0   \n",
       "4     Afghanistan  2004                          0.0   \n",
       "...           ...   ...                          ...   \n",
       "5794     Zimbabwe  2017                          0.0   \n",
       "5795     Zimbabwe  2018                          0.0   \n",
       "5796     Zimbabwe  2019                          0.0   \n",
       "5797     Zimbabwe  2020                          0.0   \n",
       "5798     Zimbabwe  2021                          0.0   \n",
       "\n",
       "      Electricity from hydro - TWh  Electricity from solar - TWh  \\\n",
       "0                             0.31                          0.00   \n",
       "1                             0.50                          0.00   \n",
       "2                             0.56                          0.00   \n",
       "3                             0.63                          0.00   \n",
       "4                             0.56                          0.00   \n",
       "...                            ...                           ...   \n",
       "5794                          3.97                          0.01   \n",
       "5795                          5.05                          0.02   \n",
       "5796                          4.17                          0.03   \n",
       "5797                          3.81                          0.03   \n",
       "5798                          4.00                          0.04   \n",
       "\n",
       "      Other renewables including bioenergy - TWh  \\\n",
       "0                                           0.00   \n",
       "1                                           0.00   \n",
       "2                                           0.00   \n",
       "3                                           0.00   \n",
       "4                                           0.00   \n",
       "...                                          ...   \n",
       "5794                                        0.32   \n",
       "5795                                        0.39   \n",
       "5796                                        0.38   \n",
       "5797                                        0.35   \n",
       "5798                                        0.38   \n",
       "\n",
       "      Electricity generation - TWh  Urban population  Rural population  \\\n",
       "0                             0.47           4314700        15228282.0   \n",
       "1                             0.59           4364773        15323859.0   \n",
       "2                             0.69           4674867        16325389.0   \n",
       "3                             0.94           5061866        17583264.0   \n",
       "4                             0.89           5299549        18254002.0   \n",
       "...                            ...               ...               ...   \n",
       "5794                          7.35           4755312         9995789.0   \n",
       "5795                          9.19           4848158        10204026.0   \n",
       "5796                          8.24           4945719        10408889.0   \n",
       "5797                          7.59           5052214        10617452.0   \n",
       "5798                          8.03           5166388        10827136.0   \n",
       "\n",
       "      Total Renewable Electricity - TWh  \n",
       "0                                  0.31  \n",
       "1                                  0.50  \n",
       "2                                  0.56  \n",
       "3                                  0.63  \n",
       "4                                  0.56  \n",
       "...                                 ...  \n",
       "5794                               4.30  \n",
       "5795                               5.46  \n",
       "5796                               4.58  \n",
       "5797                               4.19  \n",
       "5798                               4.42  \n",
       "\n",
       "[5799 rows x 10 columns]"
      ]
     },
     "execution_count": 22,
     "metadata": {},
     "output_type": "execute_result"
    }
   ],
   "source": [
    "# 1. Total Renewable Electricity - TWh\n",
    "merged_df['Total Renewable Electricity - TWh'] = merged_df['Electricity from wind - TWh'] + merged_df['Electricity from hydro - TWh'] + merged_df['Electricity from solar - TWh'] + merged_df['Other renewables including bioenergy - TWh']\n",
    "merged_df"
   ]
  },
  {
   "cell_type": "markdown",
   "metadata": {},
   "source": [
    "The newly included column, labeled as 'Total Renewable Electricity - TWh', represents the combined total of electricity generated from various renewable energy sources."
   ]
  },
  {
   "cell_type": "code",
   "execution_count": 23,
   "metadata": {},
   "outputs": [
    {
     "data": {
      "text/html": [
       "<div>\n",
       "<style scoped>\n",
       "    .dataframe tbody tr th:only-of-type {\n",
       "        vertical-align: middle;\n",
       "    }\n",
       "\n",
       "    .dataframe tbody tr th {\n",
       "        vertical-align: top;\n",
       "    }\n",
       "\n",
       "    .dataframe thead th {\n",
       "        text-align: right;\n",
       "    }\n",
       "</style>\n",
       "<table border=\"1\" class=\"dataframe\">\n",
       "  <thead>\n",
       "    <tr style=\"text-align: right;\">\n",
       "      <th></th>\n",
       "      <th>Entity</th>\n",
       "      <th>Year</th>\n",
       "      <th>Electricity from wind - TWh</th>\n",
       "      <th>Electricity from hydro - TWh</th>\n",
       "      <th>Electricity from solar - TWh</th>\n",
       "      <th>Other renewables including bioenergy - TWh</th>\n",
       "      <th>Electricity generation - TWh</th>\n",
       "      <th>Urban population</th>\n",
       "      <th>Rural population</th>\n",
       "      <th>Total Renewable Electricity - TWh</th>\n",
       "      <th>Electricity from Non-Renewables - TWh</th>\n",
       "    </tr>\n",
       "  </thead>\n",
       "  <tbody>\n",
       "    <tr>\n",
       "      <th>0</th>\n",
       "      <td>Afghanistan</td>\n",
       "      <td>2000</td>\n",
       "      <td>0.0</td>\n",
       "      <td>0.31</td>\n",
       "      <td>0.00</td>\n",
       "      <td>0.00</td>\n",
       "      <td>0.47</td>\n",
       "      <td>4314700</td>\n",
       "      <td>15228282.0</td>\n",
       "      <td>0.31</td>\n",
       "      <td>0.16</td>\n",
       "    </tr>\n",
       "    <tr>\n",
       "      <th>1</th>\n",
       "      <td>Afghanistan</td>\n",
       "      <td>2001</td>\n",
       "      <td>0.0</td>\n",
       "      <td>0.50</td>\n",
       "      <td>0.00</td>\n",
       "      <td>0.00</td>\n",
       "      <td>0.59</td>\n",
       "      <td>4364773</td>\n",
       "      <td>15323859.0</td>\n",
       "      <td>0.50</td>\n",
       "      <td>0.09</td>\n",
       "    </tr>\n",
       "    <tr>\n",
       "      <th>2</th>\n",
       "      <td>Afghanistan</td>\n",
       "      <td>2002</td>\n",
       "      <td>0.0</td>\n",
       "      <td>0.56</td>\n",
       "      <td>0.00</td>\n",
       "      <td>0.00</td>\n",
       "      <td>0.69</td>\n",
       "      <td>4674867</td>\n",
       "      <td>16325389.0</td>\n",
       "      <td>0.56</td>\n",
       "      <td>0.13</td>\n",
       "    </tr>\n",
       "    <tr>\n",
       "      <th>3</th>\n",
       "      <td>Afghanistan</td>\n",
       "      <td>2003</td>\n",
       "      <td>0.0</td>\n",
       "      <td>0.63</td>\n",
       "      <td>0.00</td>\n",
       "      <td>0.00</td>\n",
       "      <td>0.94</td>\n",
       "      <td>5061866</td>\n",
       "      <td>17583264.0</td>\n",
       "      <td>0.63</td>\n",
       "      <td>0.31</td>\n",
       "    </tr>\n",
       "    <tr>\n",
       "      <th>4</th>\n",
       "      <td>Afghanistan</td>\n",
       "      <td>2004</td>\n",
       "      <td>0.0</td>\n",
       "      <td>0.56</td>\n",
       "      <td>0.00</td>\n",
       "      <td>0.00</td>\n",
       "      <td>0.89</td>\n",
       "      <td>5299549</td>\n",
       "      <td>18254002.0</td>\n",
       "      <td>0.56</td>\n",
       "      <td>0.33</td>\n",
       "    </tr>\n",
       "    <tr>\n",
       "      <th>...</th>\n",
       "      <td>...</td>\n",
       "      <td>...</td>\n",
       "      <td>...</td>\n",
       "      <td>...</td>\n",
       "      <td>...</td>\n",
       "      <td>...</td>\n",
       "      <td>...</td>\n",
       "      <td>...</td>\n",
       "      <td>...</td>\n",
       "      <td>...</td>\n",
       "      <td>...</td>\n",
       "    </tr>\n",
       "    <tr>\n",
       "      <th>5794</th>\n",
       "      <td>Zimbabwe</td>\n",
       "      <td>2017</td>\n",
       "      <td>0.0</td>\n",
       "      <td>3.97</td>\n",
       "      <td>0.01</td>\n",
       "      <td>0.32</td>\n",
       "      <td>7.35</td>\n",
       "      <td>4755312</td>\n",
       "      <td>9995789.0</td>\n",
       "      <td>4.30</td>\n",
       "      <td>3.05</td>\n",
       "    </tr>\n",
       "    <tr>\n",
       "      <th>5795</th>\n",
       "      <td>Zimbabwe</td>\n",
       "      <td>2018</td>\n",
       "      <td>0.0</td>\n",
       "      <td>5.05</td>\n",
       "      <td>0.02</td>\n",
       "      <td>0.39</td>\n",
       "      <td>9.19</td>\n",
       "      <td>4848158</td>\n",
       "      <td>10204026.0</td>\n",
       "      <td>5.46</td>\n",
       "      <td>3.73</td>\n",
       "    </tr>\n",
       "    <tr>\n",
       "      <th>5796</th>\n",
       "      <td>Zimbabwe</td>\n",
       "      <td>2019</td>\n",
       "      <td>0.0</td>\n",
       "      <td>4.17</td>\n",
       "      <td>0.03</td>\n",
       "      <td>0.38</td>\n",
       "      <td>8.24</td>\n",
       "      <td>4945719</td>\n",
       "      <td>10408889.0</td>\n",
       "      <td>4.58</td>\n",
       "      <td>3.66</td>\n",
       "    </tr>\n",
       "    <tr>\n",
       "      <th>5797</th>\n",
       "      <td>Zimbabwe</td>\n",
       "      <td>2020</td>\n",
       "      <td>0.0</td>\n",
       "      <td>3.81</td>\n",
       "      <td>0.03</td>\n",
       "      <td>0.35</td>\n",
       "      <td>7.59</td>\n",
       "      <td>5052214</td>\n",
       "      <td>10617452.0</td>\n",
       "      <td>4.19</td>\n",
       "      <td>3.40</td>\n",
       "    </tr>\n",
       "    <tr>\n",
       "      <th>5798</th>\n",
       "      <td>Zimbabwe</td>\n",
       "      <td>2021</td>\n",
       "      <td>0.0</td>\n",
       "      <td>4.00</td>\n",
       "      <td>0.04</td>\n",
       "      <td>0.38</td>\n",
       "      <td>8.03</td>\n",
       "      <td>5166388</td>\n",
       "      <td>10827136.0</td>\n",
       "      <td>4.42</td>\n",
       "      <td>3.61</td>\n",
       "    </tr>\n",
       "  </tbody>\n",
       "</table>\n",
       "<p>5799 rows × 11 columns</p>\n",
       "</div>"
      ],
      "text/plain": [
       "           Entity  Year  Electricity from wind - TWh  \\\n",
       "0     Afghanistan  2000                          0.0   \n",
       "1     Afghanistan  2001                          0.0   \n",
       "2     Afghanistan  2002                          0.0   \n",
       "3     Afghanistan  2003                          0.0   \n",
       "4     Afghanistan  2004                          0.0   \n",
       "...           ...   ...                          ...   \n",
       "5794     Zimbabwe  2017                          0.0   \n",
       "5795     Zimbabwe  2018                          0.0   \n",
       "5796     Zimbabwe  2019                          0.0   \n",
       "5797     Zimbabwe  2020                          0.0   \n",
       "5798     Zimbabwe  2021                          0.0   \n",
       "\n",
       "      Electricity from hydro - TWh  Electricity from solar - TWh  \\\n",
       "0                             0.31                          0.00   \n",
       "1                             0.50                          0.00   \n",
       "2                             0.56                          0.00   \n",
       "3                             0.63                          0.00   \n",
       "4                             0.56                          0.00   \n",
       "...                            ...                           ...   \n",
       "5794                          3.97                          0.01   \n",
       "5795                          5.05                          0.02   \n",
       "5796                          4.17                          0.03   \n",
       "5797                          3.81                          0.03   \n",
       "5798                          4.00                          0.04   \n",
       "\n",
       "      Other renewables including bioenergy - TWh  \\\n",
       "0                                           0.00   \n",
       "1                                           0.00   \n",
       "2                                           0.00   \n",
       "3                                           0.00   \n",
       "4                                           0.00   \n",
       "...                                          ...   \n",
       "5794                                        0.32   \n",
       "5795                                        0.39   \n",
       "5796                                        0.38   \n",
       "5797                                        0.35   \n",
       "5798                                        0.38   \n",
       "\n",
       "      Electricity generation - TWh  Urban population  Rural population  \\\n",
       "0                             0.47           4314700        15228282.0   \n",
       "1                             0.59           4364773        15323859.0   \n",
       "2                             0.69           4674867        16325389.0   \n",
       "3                             0.94           5061866        17583264.0   \n",
       "4                             0.89           5299549        18254002.0   \n",
       "...                            ...               ...               ...   \n",
       "5794                          7.35           4755312         9995789.0   \n",
       "5795                          9.19           4848158        10204026.0   \n",
       "5796                          8.24           4945719        10408889.0   \n",
       "5797                          7.59           5052214        10617452.0   \n",
       "5798                          8.03           5166388        10827136.0   \n",
       "\n",
       "      Total Renewable Electricity - TWh  Electricity from Non-Renewables - TWh  \n",
       "0                                  0.31                                   0.16  \n",
       "1                                  0.50                                   0.09  \n",
       "2                                  0.56                                   0.13  \n",
       "3                                  0.63                                   0.31  \n",
       "4                                  0.56                                   0.33  \n",
       "...                                 ...                                    ...  \n",
       "5794                               4.30                                   3.05  \n",
       "5795                               5.46                                   3.73  \n",
       "5796                               4.58                                   3.66  \n",
       "5797                               4.19                                   3.40  \n",
       "5798                               4.42                                   3.61  \n",
       "\n",
       "[5799 rows x 11 columns]"
      ]
     },
     "execution_count": 23,
     "metadata": {},
     "output_type": "execute_result"
    }
   ],
   "source": [
    "# 2. Non-Renewable Electricity - TWh\n",
    "merged_df['Electricity from Non-Renewables - TWh'] = merged_df['Electricity generation - TWh'] - merged_df['Total Renewable Electricity - TWh']\n",
    "merged_df"
   ]
  },
  {
   "cell_type": "markdown",
   "metadata": {},
   "source": [
    "The recently added column denotes energy derived from sources that are not renewable.\n",
    "\n",
    "This include Fossil fuels such as coal, oil, and natural gas."
   ]
  },
  {
   "cell_type": "code",
   "execution_count": 24,
   "metadata": {},
   "outputs": [],
   "source": [
    "# 3. Urbanisation\n",
    "# Calculate total population (urban + rural)\n",
    "merged_df['Total Population'] = merged_df['Urban population'] + merged_df['Rural population']\n",
    "\n",
    "# Calculate urbanization (%)\n",
    "merged_df['Urbanization'] = (merged_df['Urban population'] / merged_df['Total Population']) * 100\n",
    "\n",
    "merged_df.drop(columns=['Total Population', 'Urban population', 'Rural population'], inplace=True)"
   ]
  },
  {
   "cell_type": "markdown",
   "metadata": {},
   "source": [
    "The inclusion of this column computes the rate of urbanization within countries."
   ]
  },
  {
   "cell_type": "code",
   "execution_count": 25,
   "metadata": {},
   "outputs": [
    {
     "data": {
      "text/html": [
       "<div>\n",
       "<style scoped>\n",
       "    .dataframe tbody tr th:only-of-type {\n",
       "        vertical-align: middle;\n",
       "    }\n",
       "\n",
       "    .dataframe tbody tr th {\n",
       "        vertical-align: top;\n",
       "    }\n",
       "\n",
       "    .dataframe thead th {\n",
       "        text-align: right;\n",
       "    }\n",
       "</style>\n",
       "<table border=\"1\" class=\"dataframe\">\n",
       "  <thead>\n",
       "    <tr style=\"text-align: right;\">\n",
       "      <th></th>\n",
       "      <th>Entity</th>\n",
       "      <th>Year</th>\n",
       "      <th>Electricity from wind - TWh</th>\n",
       "      <th>Electricity from hydro - TWh</th>\n",
       "      <th>Electricity from solar - TWh</th>\n",
       "      <th>Other renewables including bioenergy - TWh</th>\n",
       "      <th>Electricity generation - TWh</th>\n",
       "      <th>Total Renewable Electricity - TWh</th>\n",
       "      <th>Electricity from Non-Renewables - TWh</th>\n",
       "      <th>Urbanization</th>\n",
       "    </tr>\n",
       "  </thead>\n",
       "  <tbody>\n",
       "    <tr>\n",
       "      <th>5696</th>\n",
       "      <td>World</td>\n",
       "      <td>1985</td>\n",
       "      <td>0.064220</td>\n",
       "      <td>1979.2446</td>\n",
       "      <td>0.011747</td>\n",
       "      <td>78.69558</td>\n",
       "      <td>9886.0625</td>\n",
       "      <td>2058.016148</td>\n",
       "      <td>7828.046352</td>\n",
       "      <td>41.189438</td>\n",
       "    </tr>\n",
       "    <tr>\n",
       "      <th>5697</th>\n",
       "      <td>World</td>\n",
       "      <td>1986</td>\n",
       "      <td>0.138831</td>\n",
       "      <td>2006.0651</td>\n",
       "      <td>0.015184</td>\n",
       "      <td>85.43938</td>\n",
       "      <td>10180.7910</td>\n",
       "      <td>2091.658495</td>\n",
       "      <td>8089.132505</td>\n",
       "      <td>41.553509</td>\n",
       "    </tr>\n",
       "    <tr>\n",
       "      <th>5698</th>\n",
       "      <td>World</td>\n",
       "      <td>1987</td>\n",
       "      <td>0.195377</td>\n",
       "      <td>2033.1884</td>\n",
       "      <td>0.010603</td>\n",
       "      <td>91.51002</td>\n",
       "      <td>10670.6220</td>\n",
       "      <td>2124.904400</td>\n",
       "      <td>8545.717600</td>\n",
       "      <td>41.920416</td>\n",
       "    </tr>\n",
       "    <tr>\n",
       "      <th>5699</th>\n",
       "      <td>World</td>\n",
       "      <td>1988</td>\n",
       "      <td>0.331580</td>\n",
       "      <td>2098.3518</td>\n",
       "      <td>0.010196</td>\n",
       "      <td>94.15391</td>\n",
       "      <td>11140.6280</td>\n",
       "      <td>2192.847486</td>\n",
       "      <td>8947.780514</td>\n",
       "      <td>42.287307</td>\n",
       "    </tr>\n",
       "    <tr>\n",
       "      <th>5700</th>\n",
       "      <td>World</td>\n",
       "      <td>1989</td>\n",
       "      <td>2.649777</td>\n",
       "      <td>2087.5880</td>\n",
       "      <td>0.262223</td>\n",
       "      <td>104.66536</td>\n",
       "      <td>11657.9540</td>\n",
       "      <td>2195.165360</td>\n",
       "      <td>9462.788640</td>\n",
       "      <td>42.643921</td>\n",
       "    </tr>\n",
       "    <tr>\n",
       "      <th>5701</th>\n",
       "      <td>World</td>\n",
       "      <td>1990</td>\n",
       "      <td>3.632471</td>\n",
       "      <td>2158.8540</td>\n",
       "      <td>0.388350</td>\n",
       "      <td>117.21735</td>\n",
       "      <td>11960.9590</td>\n",
       "      <td>2280.092171</td>\n",
       "      <td>9680.866829</td>\n",
       "      <td>43.003348</td>\n",
       "    </tr>\n",
       "    <tr>\n",
       "      <th>5702</th>\n",
       "      <td>World</td>\n",
       "      <td>1991</td>\n",
       "      <td>4.086107</td>\n",
       "      <td>2208.7020</td>\n",
       "      <td>0.505323</td>\n",
       "      <td>122.25421</td>\n",
       "      <td>12222.0550</td>\n",
       "      <td>2335.547640</td>\n",
       "      <td>9886.507360</td>\n",
       "      <td>43.371478</td>\n",
       "    </tr>\n",
       "    <tr>\n",
       "      <th>5703</th>\n",
       "      <td>World</td>\n",
       "      <td>1992</td>\n",
       "      <td>4.732812</td>\n",
       "      <td>2208.4592</td>\n",
       "      <td>0.466679</td>\n",
       "      <td>131.14992</td>\n",
       "      <td>12335.9470</td>\n",
       "      <td>2344.808611</td>\n",
       "      <td>9991.138389</td>\n",
       "      <td>43.736169</td>\n",
       "    </tr>\n",
       "    <tr>\n",
       "      <th>5704</th>\n",
       "      <td>World</td>\n",
       "      <td>1993</td>\n",
       "      <td>5.704169</td>\n",
       "      <td>2341.4597</td>\n",
       "      <td>0.556678</td>\n",
       "      <td>135.47186</td>\n",
       "      <td>12599.4795</td>\n",
       "      <td>2483.192407</td>\n",
       "      <td>10116.287093</td>\n",
       "      <td>44.094820</td>\n",
       "    </tr>\n",
       "    <tr>\n",
       "      <th>5705</th>\n",
       "      <td>World</td>\n",
       "      <td>1994</td>\n",
       "      <td>7.131730</td>\n",
       "      <td>2356.2030</td>\n",
       "      <td>0.596983</td>\n",
       "      <td>140.66844</td>\n",
       "      <td>12923.5830</td>\n",
       "      <td>2504.600153</td>\n",
       "      <td>10418.982847</td>\n",
       "      <td>44.456469</td>\n",
       "    </tr>\n",
       "    <tr>\n",
       "      <th>5706</th>\n",
       "      <td>World</td>\n",
       "      <td>1995</td>\n",
       "      <td>8.272123</td>\n",
       "      <td>2483.6868</td>\n",
       "      <td>0.638883</td>\n",
       "      <td>146.63136</td>\n",
       "      <td>13381.8840</td>\n",
       "      <td>2639.229166</td>\n",
       "      <td>10742.654834</td>\n",
       "      <td>44.816921</td>\n",
       "    </tr>\n",
       "    <tr>\n",
       "      <th>5707</th>\n",
       "      <td>World</td>\n",
       "      <td>1996</td>\n",
       "      <td>9.215601</td>\n",
       "      <td>2517.0300</td>\n",
       "      <td>0.699230</td>\n",
       "      <td>150.69270</td>\n",
       "      <td>13797.1910</td>\n",
       "      <td>2677.637531</td>\n",
       "      <td>11119.553469</td>\n",
       "      <td>45.174413</td>\n",
       "    </tr>\n",
       "    <tr>\n",
       "      <th>5708</th>\n",
       "      <td>World</td>\n",
       "      <td>1997</td>\n",
       "      <td>12.028216</td>\n",
       "      <td>2561.3590</td>\n",
       "      <td>0.749656</td>\n",
       "      <td>161.40073</td>\n",
       "      <td>14128.6490</td>\n",
       "      <td>2735.537602</td>\n",
       "      <td>11393.111398</td>\n",
       "      <td>45.537104</td>\n",
       "    </tr>\n",
       "    <tr>\n",
       "      <th>5709</th>\n",
       "      <td>World</td>\n",
       "      <td>1998</td>\n",
       "      <td>15.929260</td>\n",
       "      <td>2581.1204</td>\n",
       "      <td>0.811852</td>\n",
       "      <td>168.20640</td>\n",
       "      <td>14511.0200</td>\n",
       "      <td>2766.067912</td>\n",
       "      <td>11744.952088</td>\n",
       "      <td>45.906103</td>\n",
       "    </tr>\n",
       "    <tr>\n",
       "      <th>5710</th>\n",
       "      <td>World</td>\n",
       "      <td>1999</td>\n",
       "      <td>21.226898</td>\n",
       "      <td>2600.6500</td>\n",
       "      <td>0.905288</td>\n",
       "      <td>176.63608</td>\n",
       "      <td>14925.8830</td>\n",
       "      <td>2799.418266</td>\n",
       "      <td>12126.464734</td>\n",
       "      <td>46.277502</td>\n",
       "    </tr>\n",
       "    <tr>\n",
       "      <th>5711</th>\n",
       "      <td>World</td>\n",
       "      <td>2000</td>\n",
       "      <td>31.220000</td>\n",
       "      <td>2622.7500</td>\n",
       "      <td>1.080000</td>\n",
       "      <td>201.73001</td>\n",
       "      <td>15107.7700</td>\n",
       "      <td>2856.780010</td>\n",
       "      <td>12250.989990</td>\n",
       "      <td>46.657853</td>\n",
       "    </tr>\n",
       "    <tr>\n",
       "      <th>5712</th>\n",
       "      <td>World</td>\n",
       "      <td>2001</td>\n",
       "      <td>38.230000</td>\n",
       "      <td>2562.0400</td>\n",
       "      <td>1.390000</td>\n",
       "      <td>195.87000</td>\n",
       "      <td>15328.1000</td>\n",
       "      <td>2797.530000</td>\n",
       "      <td>12530.570000</td>\n",
       "      <td>47.103084</td>\n",
       "    </tr>\n",
       "    <tr>\n",
       "      <th>5713</th>\n",
       "      <td>World</td>\n",
       "      <td>2002</td>\n",
       "      <td>52.200000</td>\n",
       "      <td>2603.7100</td>\n",
       "      <td>1.720000</td>\n",
       "      <td>210.18000</td>\n",
       "      <td>15870.6700</td>\n",
       "      <td>2867.810000</td>\n",
       "      <td>13002.860000</td>\n",
       "      <td>47.592847</td>\n",
       "    </tr>\n",
       "    <tr>\n",
       "      <th>5714</th>\n",
       "      <td>World</td>\n",
       "      <td>2003</td>\n",
       "      <td>63.430000</td>\n",
       "      <td>2604.0700</td>\n",
       "      <td>2.120000</td>\n",
       "      <td>223.81999</td>\n",
       "      <td>16430.2500</td>\n",
       "      <td>2893.439990</td>\n",
       "      <td>13536.810010</td>\n",
       "      <td>48.084344</td>\n",
       "    </tr>\n",
       "    <tr>\n",
       "      <th>5715</th>\n",
       "      <td>World</td>\n",
       "      <td>2004</td>\n",
       "      <td>85.500000</td>\n",
       "      <td>2797.9100</td>\n",
       "      <td>2.790000</td>\n",
       "      <td>242.13000</td>\n",
       "      <td>17225.0400</td>\n",
       "      <td>3128.330000</td>\n",
       "      <td>14096.710000</td>\n",
       "      <td>48.583416</td>\n",
       "    </tr>\n",
       "    <tr>\n",
       "      <th>5716</th>\n",
       "      <td>World</td>\n",
       "      <td>2005</td>\n",
       "      <td>104.460000</td>\n",
       "      <td>2899.9600</td>\n",
       "      <td>3.920000</td>\n",
       "      <td>265.02000</td>\n",
       "      <td>17925.8800</td>\n",
       "      <td>3273.360000</td>\n",
       "      <td>14652.520000</td>\n",
       "      <td>49.088691</td>\n",
       "    </tr>\n",
       "    <tr>\n",
       "      <th>5717</th>\n",
       "      <td>World</td>\n",
       "      <td>2006</td>\n",
       "      <td>133.190000</td>\n",
       "      <td>3005.6000</td>\n",
       "      <td>5.330000</td>\n",
       "      <td>279.33000</td>\n",
       "      <td>18627.8300</td>\n",
       "      <td>3423.450000</td>\n",
       "      <td>15204.380000</td>\n",
       "      <td>49.589140</td>\n",
       "    </tr>\n",
       "    <tr>\n",
       "      <th>5718</th>\n",
       "      <td>World</td>\n",
       "      <td>2007</td>\n",
       "      <td>171.280000</td>\n",
       "      <td>3049.1900</td>\n",
       "      <td>7.210000</td>\n",
       "      <td>303.22000</td>\n",
       "      <td>19489.0400</td>\n",
       "      <td>3530.900000</td>\n",
       "      <td>15958.140000</td>\n",
       "      <td>50.083893</td>\n",
       "    </tr>\n",
       "    <tr>\n",
       "      <th>5719</th>\n",
       "      <td>World</td>\n",
       "      <td>2008</td>\n",
       "      <td>220.450000</td>\n",
       "      <td>3233.4600</td>\n",
       "      <td>11.720000</td>\n",
       "      <td>323.41000</td>\n",
       "      <td>19863.9900</td>\n",
       "      <td>3789.040000</td>\n",
       "      <td>16074.950000</td>\n",
       "      <td>50.590588</td>\n",
       "    </tr>\n",
       "    <tr>\n",
       "      <th>5720</th>\n",
       "      <td>World</td>\n",
       "      <td>2009</td>\n",
       "      <td>276.310000</td>\n",
       "      <td>3227.8000</td>\n",
       "      <td>19.610000</td>\n",
       "      <td>346.00000</td>\n",
       "      <td>19722.5500</td>\n",
       "      <td>3869.720000</td>\n",
       "      <td>15852.830000</td>\n",
       "      <td>51.089240</td>\n",
       "    </tr>\n",
       "    <tr>\n",
       "      <th>5721</th>\n",
       "      <td>World</td>\n",
       "      <td>2010</td>\n",
       "      <td>345.930000</td>\n",
       "      <td>3420.5300</td>\n",
       "      <td>32.080000</td>\n",
       "      <td>385.73000</td>\n",
       "      <td>21069.5300</td>\n",
       "      <td>4184.270000</td>\n",
       "      <td>16885.260000</td>\n",
       "      <td>51.578387</td>\n",
       "    </tr>\n",
       "    <tr>\n",
       "      <th>5722</th>\n",
       "      <td>World</td>\n",
       "      <td>2011</td>\n",
       "      <td>439.810000</td>\n",
       "      <td>3482.6000</td>\n",
       "      <td>63.090000</td>\n",
       "      <td>404.23000</td>\n",
       "      <td>21768.7500</td>\n",
       "      <td>4389.730000</td>\n",
       "      <td>17379.020000</td>\n",
       "      <td>52.023800</td>\n",
       "    </tr>\n",
       "    <tr>\n",
       "      <th>5723</th>\n",
       "      <td>World</td>\n",
       "      <td>2012</td>\n",
       "      <td>529.320000</td>\n",
       "      <td>3651.8000</td>\n",
       "      <td>96.020000</td>\n",
       "      <td>434.61000</td>\n",
       "      <td>22289.3800</td>\n",
       "      <td>4711.750000</td>\n",
       "      <td>17577.630000</td>\n",
       "      <td>52.463961</td>\n",
       "    </tr>\n",
       "    <tr>\n",
       "      <th>5724</th>\n",
       "      <td>World</td>\n",
       "      <td>2013</td>\n",
       "      <td>640.830000</td>\n",
       "      <td>3781.0500</td>\n",
       "      <td>131.830000</td>\n",
       "      <td>469.34998</td>\n",
       "      <td>22931.4500</td>\n",
       "      <td>5023.059980</td>\n",
       "      <td>17908.390020</td>\n",
       "      <td>52.911883</td>\n",
       "    </tr>\n",
       "    <tr>\n",
       "      <th>5725</th>\n",
       "      <td>World</td>\n",
       "      <td>2014</td>\n",
       "      <td>715.910000</td>\n",
       "      <td>3863.2900</td>\n",
       "      <td>198.010000</td>\n",
       "      <td>508.81000</td>\n",
       "      <td>23519.2800</td>\n",
       "      <td>5286.020000</td>\n",
       "      <td>18233.260000</td>\n",
       "      <td>53.368214</td>\n",
       "    </tr>\n",
       "    <tr>\n",
       "      <th>5726</th>\n",
       "      <td>World</td>\n",
       "      <td>2015</td>\n",
       "      <td>828.600000</td>\n",
       "      <td>3872.7600</td>\n",
       "      <td>255.790000</td>\n",
       "      <td>550.96000</td>\n",
       "      <td>23762.8300</td>\n",
       "      <td>5508.110000</td>\n",
       "      <td>18254.720000</td>\n",
       "      <td>53.831385</td>\n",
       "    </tr>\n",
       "    <tr>\n",
       "      <th>5727</th>\n",
       "      <td>World</td>\n",
       "      <td>2016</td>\n",
       "      <td>958.370000</td>\n",
       "      <td>4002.0800</td>\n",
       "      <td>327.970000</td>\n",
       "      <td>559.63000</td>\n",
       "      <td>24412.3800</td>\n",
       "      <td>5848.050000</td>\n",
       "      <td>18564.330000</td>\n",
       "      <td>54.289971</td>\n",
       "    </tr>\n",
       "    <tr>\n",
       "      <th>5728</th>\n",
       "      <td>World</td>\n",
       "      <td>2017</td>\n",
       "      <td>1136.530000</td>\n",
       "      <td>4049.9400</td>\n",
       "      <td>444.570000</td>\n",
       "      <td>593.50000</td>\n",
       "      <td>25169.8500</td>\n",
       "      <td>6224.540000</td>\n",
       "      <td>18945.310000</td>\n",
       "      <td>54.741776</td>\n",
       "    </tr>\n",
       "    <tr>\n",
       "      <th>5729</th>\n",
       "      <td>World</td>\n",
       "      <td>2018</td>\n",
       "      <td>1267.300000</td>\n",
       "      <td>4179.7600</td>\n",
       "      <td>572.230000</td>\n",
       "      <td>627.14000</td>\n",
       "      <td>26174.3700</td>\n",
       "      <td>6646.430000</td>\n",
       "      <td>19527.940000</td>\n",
       "      <td>55.188903</td>\n",
       "    </tr>\n",
       "    <tr>\n",
       "      <th>5730</th>\n",
       "      <td>World</td>\n",
       "      <td>2019</td>\n",
       "      <td>1418.160000</td>\n",
       "      <td>4215.3100</td>\n",
       "      <td>702.840000</td>\n",
       "      <td>657.24000</td>\n",
       "      <td>26515.5900</td>\n",
       "      <td>6993.550000</td>\n",
       "      <td>19522.040000</td>\n",
       "      <td>55.630263</td>\n",
       "    </tr>\n",
       "    <tr>\n",
       "      <th>5731</th>\n",
       "      <td>World</td>\n",
       "      <td>2020</td>\n",
       "      <td>1588.840000</td>\n",
       "      <td>4339.5300</td>\n",
       "      <td>846.920000</td>\n",
       "      <td>693.45996</td>\n",
       "      <td>26446.6200</td>\n",
       "      <td>7468.749960</td>\n",
       "      <td>18977.870040</td>\n",
       "      <td>56.063765</td>\n",
       "    </tr>\n",
       "    <tr>\n",
       "      <th>5732</th>\n",
       "      <td>World</td>\n",
       "      <td>2021</td>\n",
       "      <td>1848.280000</td>\n",
       "      <td>4246.1000</td>\n",
       "      <td>1047.060000</td>\n",
       "      <td>750.28000</td>\n",
       "      <td>28002.9200</td>\n",
       "      <td>7891.720000</td>\n",
       "      <td>20111.200000</td>\n",
       "      <td>56.477540</td>\n",
       "    </tr>\n",
       "  </tbody>\n",
       "</table>\n",
       "</div>"
      ],
      "text/plain": [
       "     Entity  Year  Electricity from wind - TWh  Electricity from hydro - TWh  \\\n",
       "5696  World  1985                     0.064220                     1979.2446   \n",
       "5697  World  1986                     0.138831                     2006.0651   \n",
       "5698  World  1987                     0.195377                     2033.1884   \n",
       "5699  World  1988                     0.331580                     2098.3518   \n",
       "5700  World  1989                     2.649777                     2087.5880   \n",
       "5701  World  1990                     3.632471                     2158.8540   \n",
       "5702  World  1991                     4.086107                     2208.7020   \n",
       "5703  World  1992                     4.732812                     2208.4592   \n",
       "5704  World  1993                     5.704169                     2341.4597   \n",
       "5705  World  1994                     7.131730                     2356.2030   \n",
       "5706  World  1995                     8.272123                     2483.6868   \n",
       "5707  World  1996                     9.215601                     2517.0300   \n",
       "5708  World  1997                    12.028216                     2561.3590   \n",
       "5709  World  1998                    15.929260                     2581.1204   \n",
       "5710  World  1999                    21.226898                     2600.6500   \n",
       "5711  World  2000                    31.220000                     2622.7500   \n",
       "5712  World  2001                    38.230000                     2562.0400   \n",
       "5713  World  2002                    52.200000                     2603.7100   \n",
       "5714  World  2003                    63.430000                     2604.0700   \n",
       "5715  World  2004                    85.500000                     2797.9100   \n",
       "5716  World  2005                   104.460000                     2899.9600   \n",
       "5717  World  2006                   133.190000                     3005.6000   \n",
       "5718  World  2007                   171.280000                     3049.1900   \n",
       "5719  World  2008                   220.450000                     3233.4600   \n",
       "5720  World  2009                   276.310000                     3227.8000   \n",
       "5721  World  2010                   345.930000                     3420.5300   \n",
       "5722  World  2011                   439.810000                     3482.6000   \n",
       "5723  World  2012                   529.320000                     3651.8000   \n",
       "5724  World  2013                   640.830000                     3781.0500   \n",
       "5725  World  2014                   715.910000                     3863.2900   \n",
       "5726  World  2015                   828.600000                     3872.7600   \n",
       "5727  World  2016                   958.370000                     4002.0800   \n",
       "5728  World  2017                  1136.530000                     4049.9400   \n",
       "5729  World  2018                  1267.300000                     4179.7600   \n",
       "5730  World  2019                  1418.160000                     4215.3100   \n",
       "5731  World  2020                  1588.840000                     4339.5300   \n",
       "5732  World  2021                  1848.280000                     4246.1000   \n",
       "\n",
       "      Electricity from solar - TWh  \\\n",
       "5696                      0.011747   \n",
       "5697                      0.015184   \n",
       "5698                      0.010603   \n",
       "5699                      0.010196   \n",
       "5700                      0.262223   \n",
       "5701                      0.388350   \n",
       "5702                      0.505323   \n",
       "5703                      0.466679   \n",
       "5704                      0.556678   \n",
       "5705                      0.596983   \n",
       "5706                      0.638883   \n",
       "5707                      0.699230   \n",
       "5708                      0.749656   \n",
       "5709                      0.811852   \n",
       "5710                      0.905288   \n",
       "5711                      1.080000   \n",
       "5712                      1.390000   \n",
       "5713                      1.720000   \n",
       "5714                      2.120000   \n",
       "5715                      2.790000   \n",
       "5716                      3.920000   \n",
       "5717                      5.330000   \n",
       "5718                      7.210000   \n",
       "5719                     11.720000   \n",
       "5720                     19.610000   \n",
       "5721                     32.080000   \n",
       "5722                     63.090000   \n",
       "5723                     96.020000   \n",
       "5724                    131.830000   \n",
       "5725                    198.010000   \n",
       "5726                    255.790000   \n",
       "5727                    327.970000   \n",
       "5728                    444.570000   \n",
       "5729                    572.230000   \n",
       "5730                    702.840000   \n",
       "5731                    846.920000   \n",
       "5732                   1047.060000   \n",
       "\n",
       "      Other renewables including bioenergy - TWh  \\\n",
       "5696                                    78.69558   \n",
       "5697                                    85.43938   \n",
       "5698                                    91.51002   \n",
       "5699                                    94.15391   \n",
       "5700                                   104.66536   \n",
       "5701                                   117.21735   \n",
       "5702                                   122.25421   \n",
       "5703                                   131.14992   \n",
       "5704                                   135.47186   \n",
       "5705                                   140.66844   \n",
       "5706                                   146.63136   \n",
       "5707                                   150.69270   \n",
       "5708                                   161.40073   \n",
       "5709                                   168.20640   \n",
       "5710                                   176.63608   \n",
       "5711                                   201.73001   \n",
       "5712                                   195.87000   \n",
       "5713                                   210.18000   \n",
       "5714                                   223.81999   \n",
       "5715                                   242.13000   \n",
       "5716                                   265.02000   \n",
       "5717                                   279.33000   \n",
       "5718                                   303.22000   \n",
       "5719                                   323.41000   \n",
       "5720                                   346.00000   \n",
       "5721                                   385.73000   \n",
       "5722                                   404.23000   \n",
       "5723                                   434.61000   \n",
       "5724                                   469.34998   \n",
       "5725                                   508.81000   \n",
       "5726                                   550.96000   \n",
       "5727                                   559.63000   \n",
       "5728                                   593.50000   \n",
       "5729                                   627.14000   \n",
       "5730                                   657.24000   \n",
       "5731                                   693.45996   \n",
       "5732                                   750.28000   \n",
       "\n",
       "      Electricity generation - TWh  Total Renewable Electricity - TWh  \\\n",
       "5696                     9886.0625                        2058.016148   \n",
       "5697                    10180.7910                        2091.658495   \n",
       "5698                    10670.6220                        2124.904400   \n",
       "5699                    11140.6280                        2192.847486   \n",
       "5700                    11657.9540                        2195.165360   \n",
       "5701                    11960.9590                        2280.092171   \n",
       "5702                    12222.0550                        2335.547640   \n",
       "5703                    12335.9470                        2344.808611   \n",
       "5704                    12599.4795                        2483.192407   \n",
       "5705                    12923.5830                        2504.600153   \n",
       "5706                    13381.8840                        2639.229166   \n",
       "5707                    13797.1910                        2677.637531   \n",
       "5708                    14128.6490                        2735.537602   \n",
       "5709                    14511.0200                        2766.067912   \n",
       "5710                    14925.8830                        2799.418266   \n",
       "5711                    15107.7700                        2856.780010   \n",
       "5712                    15328.1000                        2797.530000   \n",
       "5713                    15870.6700                        2867.810000   \n",
       "5714                    16430.2500                        2893.439990   \n",
       "5715                    17225.0400                        3128.330000   \n",
       "5716                    17925.8800                        3273.360000   \n",
       "5717                    18627.8300                        3423.450000   \n",
       "5718                    19489.0400                        3530.900000   \n",
       "5719                    19863.9900                        3789.040000   \n",
       "5720                    19722.5500                        3869.720000   \n",
       "5721                    21069.5300                        4184.270000   \n",
       "5722                    21768.7500                        4389.730000   \n",
       "5723                    22289.3800                        4711.750000   \n",
       "5724                    22931.4500                        5023.059980   \n",
       "5725                    23519.2800                        5286.020000   \n",
       "5726                    23762.8300                        5508.110000   \n",
       "5727                    24412.3800                        5848.050000   \n",
       "5728                    25169.8500                        6224.540000   \n",
       "5729                    26174.3700                        6646.430000   \n",
       "5730                    26515.5900                        6993.550000   \n",
       "5731                    26446.6200                        7468.749960   \n",
       "5732                    28002.9200                        7891.720000   \n",
       "\n",
       "      Electricity from Non-Renewables - TWh  Urbanization  \n",
       "5696                            7828.046352     41.189438  \n",
       "5697                            8089.132505     41.553509  \n",
       "5698                            8545.717600     41.920416  \n",
       "5699                            8947.780514     42.287307  \n",
       "5700                            9462.788640     42.643921  \n",
       "5701                            9680.866829     43.003348  \n",
       "5702                            9886.507360     43.371478  \n",
       "5703                            9991.138389     43.736169  \n",
       "5704                           10116.287093     44.094820  \n",
       "5705                           10418.982847     44.456469  \n",
       "5706                           10742.654834     44.816921  \n",
       "5707                           11119.553469     45.174413  \n",
       "5708                           11393.111398     45.537104  \n",
       "5709                           11744.952088     45.906103  \n",
       "5710                           12126.464734     46.277502  \n",
       "5711                           12250.989990     46.657853  \n",
       "5712                           12530.570000     47.103084  \n",
       "5713                           13002.860000     47.592847  \n",
       "5714                           13536.810010     48.084344  \n",
       "5715                           14096.710000     48.583416  \n",
       "5716                           14652.520000     49.088691  \n",
       "5717                           15204.380000     49.589140  \n",
       "5718                           15958.140000     50.083893  \n",
       "5719                           16074.950000     50.590588  \n",
       "5720                           15852.830000     51.089240  \n",
       "5721                           16885.260000     51.578387  \n",
       "5722                           17379.020000     52.023800  \n",
       "5723                           17577.630000     52.463961  \n",
       "5724                           17908.390020     52.911883  \n",
       "5725                           18233.260000     53.368214  \n",
       "5726                           18254.720000     53.831385  \n",
       "5727                           18564.330000     54.289971  \n",
       "5728                           18945.310000     54.741776  \n",
       "5729                           19527.940000     55.188903  \n",
       "5730                           19522.040000     55.630263  \n",
       "5731                           18977.870040     56.063765  \n",
       "5732                           20111.200000     56.477540  "
      ]
     },
     "execution_count": 25,
     "metadata": {},
     "output_type": "execute_result"
    }
   ],
   "source": [
    "# checking world yearly data\n",
    "merged_df[merged_df['Entity'] == 'World']"
   ]
  },
  {
   "cell_type": "markdown",
   "metadata": {
    "id": "2ER1ANZlPKl7"
   },
   "source": [
    "## 3. Exploratory Data Analysis (EDA)"
   ]
  },
  {
   "cell_type": "markdown",
   "metadata": {
    "id": "0jdkrXzkPKl7"
   },
   "source": [
    "With our data now cleaned and prepared, our next step involves visualizing it. The primary focus is on creating graphs and visuals to enhance our visual understanding of the data's insights. Seaborn and Matplotlib will be employed as the main tools for this visualization process."
   ]
  },
  {
   "cell_type": "markdown",
   "metadata": {},
   "source": [
    "### (a) Univariate Data Analysis"
   ]
  },
  {
   "cell_type": "code",
   "execution_count": 26,
   "metadata": {},
   "outputs": [
    {
     "data": {
      "image/png": "[encoded data removed]",
      "text/plain": [
       "<Figure size 1440x720 with 8 Axes>"
      ]
     },
     "metadata": {
      "needs_background": "light"
     },
     "output_type": "display_data"
    }
   ],
   "source": [
    "univariate_analysis_histograms(merged_df)"
   ]
  },
  {
   "cell_type": "markdown",
   "metadata": {},
   "source": [
    "The histograms show the distribution of various numerical variables in the dataset. Most data points are concentrated near zero, with fewer values extending towards higher values."
   ]
  },
  {
   "cell_type": "code",
   "execution_count": 27,
   "metadata": {},
   "outputs": [
    {
     "data": {
      "image/png": "[encoded data removed]",
      "text/plain": [
       "<Figure size 1008x720 with 9 Axes>"
      ]
     },
     "metadata": {
      "needs_background": "light"
     },
     "output_type": "display_data"
    }
   ],
   "source": [
    "# columnss\n",
    "electricity_cols = ['Electricity from wind - TWh', 'Electricity from hydro - TWh', \n",
    "                    'Electricity from solar - TWh', 'Other renewables including bioenergy - TWh',\n",
    "                    'Electricity generation - TWh', 'Total Renewable Electricity - TWh',\n",
    "                    'Electricity from Non-Renewables - TWh', 'Urbanization', 'Year']\n",
    "plot_violin_plots(merged_df, electricity_cols)"
   ]
  },
  {
   "cell_type": "markdown",
   "metadata": {},
   "source": [
    "The violin plots display the distribution of numerical variables related to electricity generation across different categories. Across most variables, including electricity generation from wind, hydro, solar, other renewables, total renewable electricity, electricity from non-renewables, urbanization, and years, the plots show relatively flat distributions. This suggests that the majority of countries in the dataset have similar distributions of electricity generation and related factors."
   ]
  },
  {
   "cell_type": "markdown",
   "metadata": {},
   "source": [
    "### (b) Bivariate Data Analysis"
   ]
  },
  {
   "cell_type": "markdown",
   "metadata": {},
   "source": [
    "### Trends in Energy Generation Over Time"
   ]
  },
  {
   "cell_type": "code",
   "execution_count": 28,
   "metadata": {},
   "outputs": [
    {
     "data": {
      "image/png": "[encoded data removed]",
      "text/plain": [
       "<Figure size 720x432 with 1 Axes>"
      ]
     },
     "metadata": {
      "needs_background": "light"
     },
     "output_type": "display_data"
    }
   ],
   "source": [
    "plot_electricity_generation(merged_df)"
   ]
  },
  {
   "cell_type": "markdown",
   "metadata": {},
   "source": [
    "The line plot illustrates the trend of total renewable electricity generation and electricity generation from non-renewables over the years. It shows that both have generally increased over time, with electricity generation from non-renewables consistently higher than total renewable electricity generation. Although the gap between them has slightly narrowed, non-renewables still dominate the electricity generation landscape. However, there's a slight increase in the share of renewable energy over time."
   ]
  },
  {
   "cell_type": "markdown",
   "metadata": {},
   "source": [
    "### Comparison of Renewable vs. Non-Renewable Energy Generation"
   ]
  },
  {
   "cell_type": "code",
   "execution_count": 29,
   "metadata": {},
   "outputs": [
    {
     "data": {
      "image/png": "[encoded data removed]",
      "text/plain": [
       "<Figure size 576x360 with 1 Axes>"
      ]
     },
     "metadata": {
      "needs_background": "light"
     },
     "output_type": "display_data"
    }
   ],
   "source": [
    "plot_renewable_vs_non_renewable(merged_df)"
   ]
  },
  {
   "cell_type": "markdown",
   "metadata": {},
   "source": [
    "The bar plot compares total electricity generation from renewable and non-renewable sources. Non-renewable sources, like fossil fuels, significantly outweigh renewable sources, such as wind and solar, in electricity generation. Although renewable energy's share is increasing, non-renewables still dominate, indicating a growing trend toward renewables but highlighting the ongoing reliance on non-renewable sources."
   ]
  },
  {
   "cell_type": "code",
   "execution_count": 30,
   "metadata": {},
   "outputs": [
    {
     "data": {
      "image/png": "[encoded data removed]",
      "text/plain": [
       "<Figure size 720x432 with 1 Axes>"
      ]
     },
     "metadata": {
      "needs_background": "light"
     },
     "output_type": "display_data"
    }
   ],
   "source": [
    "plt.figure(figsize=(10, 6))\n",
    "sns.scatterplot(data=merged_df, x='Total Renewable Electricity - TWh', y='Electricity from Non-Renewables - TWh')\n",
    "plt.title('Electricity Generation from Renewable vs. Non-renewable')\n",
    "plt.xlabel('Electricity from Renewable sources (TWh)')\n",
    "plt.ylabel('Electricity from Non-renewable sources (TWh)')\n",
    "plt.show()"
   ]
  },
  {
   "cell_type": "markdown",
   "metadata": {},
   "source": [
    "The scatter plot compares electricity generation from renewable and non-renewable sources for each country. It shows a positive correlation between the two, indicating that countries with higher non-renewable generation also tend to have higher renewable generation. However, non-renewable sources still dominate, with many countries generating significantly more electricity from them. Some countries with minimal non-renewable generation demonstrate the potential for a high share of renewables, highlighting the feasibility of transitioning away from non-renewables."
   ]
  },
  {
   "cell_type": "markdown",
   "metadata": {},
   "source": [
    "### Urbanization Rate"
   ]
  },
  {
   "cell_type": "code",
   "execution_count": 31,
   "metadata": {},
   "outputs": [
    {
     "data": {
      "image/png": "[encoded data removed]",
      "text/plain": [
       "<Figure size 720x432 with 1 Axes>"
      ]
     },
     "metadata": {
      "needs_background": "light"
     },
     "output_type": "display_data"
    }
   ],
   "source": [
    "plot_urbanization_rate(merged_df)"
   ]
  },
  {
   "cell_type": "markdown",
   "metadata": {},
   "source": [
    "The downturn in 1999, along with major events like the burst of the dot-com bubble in the early 2000s, had adverse effects on urbanization. Additionally, there was a noteworthy decline in immigration rates to urban regions during that period."
   ]
  },
  {
   "cell_type": "markdown",
   "metadata": {},
   "source": [
    "#### Top 10 countries with the highest renewable energy generation"
   ]
  },
  {
   "cell_type": "code",
   "execution_count": 32,
   "metadata": {},
   "outputs": [
    {
     "data": {
      "image/png": "[encoded data removed]",
      "text/plain": [
       "<Figure size 720x432 with 1 Axes>"
      ]
     },
     "metadata": {
      "needs_background": "light"
     },
     "output_type": "display_data"
    }
   ],
   "source": [
    "plot_top_countries_by_energy_generation(merged_df, 'renewable')"
   ]
  },
  {
   "cell_type": "markdown",
   "metadata": {},
   "source": [
    "\n",
    "The plot showcases the top 10 countries with the highest renewable energy generation based on total renewable electricity generation in terawatt-hours (TWh). China leads the list, followed by the United States, Brazil, and Canada, which collectively contribute over half of the total renewable energy generation. Other prominent countries in the top 10 include Germany, India, Russia, Japan, Australia, and France. Notably, countries like Denmark and Norway, known for high shares of renewable energy in their electricity generation, are absent from the top 10, indicating that total renewable energy generation is influenced by both the share of renewables and overall electricity generation capacity.\n",
    "\n",
    "Overall, the plot underscores the significance of renewable energy sources in the global electricity generation market and highlights efforts by various countries to enhance their renewable energy capacity. However, there remains a need for broader investment in renewables and a transition away from non-renewable sources to tackle climate change and achieve sustainable energy objectives. Moreover,the plot provides insights into renewable energy's significant contribution to the global energy mix and highlights opportunities to increase the proportion of renewable energy in global electricity production."
   ]
  },
  {
   "cell_type": "markdown",
   "metadata": {},
   "source": [
    "#### Top 10 countries with the highest non-renewable energy generation"
   ]
  },
  {
   "cell_type": "code",
   "execution_count": 33,
   "metadata": {},
   "outputs": [
    {
     "data": {
      "image/png": "[encoded data removed]",
      "text/plain": [
       "<Figure size 720x432 with 1 Axes>"
      ]
     },
     "metadata": {
      "needs_background": "light"
     },
     "output_type": "display_data"
    }
   ],
   "source": [
    "plot_top_countries_by_energy_generation(merged_df, 'non-renewable')"
   ]
  },
  {
   "cell_type": "markdown",
   "metadata": {},
   "source": [
    "\n",
    "The plot showcases the top 10 countries with the highest non-renewable energy generation, indicating a significant reliance on non-renewable sources in the electricity generation market.  The United States, China, Japan, and Russia lead in non-renewable energy generation, collectively contributing more than half of the total. Other major economies like India, Germany, and France also feature prominently. Despite some countries' high shares of non-renewable energy, such as Kuwait and the United Arab Emirates, not being in the top 10, the plot underscores the global challenge of transitioning to renewable energy sources for sustainability.\n",
    "\n",
    "This information is relevant to the objectives of global plant analysis because it highlights the significant reliance on non-renewable energy sources in the electricity generation market, with countries like the United States, China, Japan, and Russia leading the way. Understanding the distribution of non-renewable energy generation helps in assessing the current energy landscape and identifying opportunities for transitioning to more sustainable and renewable energy sources, which is crucial for achieving global sustainability goals and addressing climate change concerns."
   ]
  },
  {
   "cell_type": "markdown",
   "metadata": {},
   "source": [
    "### Kenya renewable energy generation over time"
   ]
  },
  {
   "cell_type": "code",
   "execution_count": 34,
   "metadata": {},
   "outputs": [
    {
     "data": {
      "image/png": "[encoded data removed]",
      "text/plain": [
       "<Figure size 720x432 with 1 Axes>"
      ]
     },
     "metadata": {
      "needs_background": "light"
     },
     "output_type": "display_data"
    }
   ],
   "source": [
    "plot_renewable_generation_over_time(merged_df, 'Kenya')"
   ]
  },
  {
   "cell_type": "markdown",
   "metadata": {},
   "source": [
    "The graph depicts the progression of renewable energy production in Kenya across time, demonstrating a gradual rise with occasional fluctuations. Bioenergy stands out as the leading contributor, closely followed by hydroelectric power, capitalizing on Kenya's geographical features and river assets. Although wind and solar energy also contribute, their impact is less significant, yet they show promising recent growth. This overall trend underscores Kenya's dedication to emissions reduction and the expansion of renewable energy sources, despite persistent challenges such as infrastructure and financing.\n",
    "This plot is relevant to the objectives of our analysis as it demonstrates a country-level commitment to reducing emissions and expanding into renewable energy sources."
   ]
  },
  {
   "cell_type": "markdown",
   "metadata": {},
   "source": [
    "### World renewable energy generation over time"
   ]
  },
  {
   "cell_type": "code",
   "execution_count": 35,
   "metadata": {},
   "outputs": [
    {
     "data": {
      "image/png": "[encoded data removed]",
      "text/plain": [
       "<Figure size 720x432 with 1 Axes>"
      ]
     },
     "metadata": {
      "needs_background": "light"
     },
     "output_type": "display_data"
    }
   ],
   "source": [
    "plot_renewable_generation_over_time(merged_df, 'World')"
   ]
  },
  {
   "cell_type": "markdown",
   "metadata": {},
   "source": [
    "The plot depicts the global trend of renewable energy generation over time, showcasing a steady increase with fluctuations. Hydroelectric power dominates, followed by significant contributions from wind and solar power. Other renewables like bioenergy also play a role, albeit to a lesser extent. This data underscores global efforts to reduce emissions and expand renewable energy sources. However, challenges such as infrastructure, financing, and policy limitations remain.\n"
   ]
  },
  {
   "cell_type": "markdown",
   "metadata": {},
   "source": [
    "### Impact of Urbanization on Electricity Consumption"
   ]
  },
  {
   "cell_type": "code",
   "execution_count": 36,
   "metadata": {},
   "outputs": [
    {
     "data": {
      "image/png": "[encoded data removed]",
      "text/plain": [
       "<Figure size 720x432 with 1 Axes>"
      ]
     },
     "metadata": {
      "needs_background": "light"
     },
     "output_type": "display_data"
    }
   ],
   "source": [
    "# Plot urbanization vs. electricity consumption\n",
    "plt.figure(figsize=(10, 6))\n",
    "plt.scatter(merged_df['Urbanization'], merged_df['Electricity generation - TWh'], alpha=0.5)\n",
    "plt.title('Urbanization vs. Electricity Consumption')\n",
    "plt.xlabel('Urbanization')\n",
    "plt.ylabel('Electricity Generation (TWh)')\n",
    "plt.grid(True)\n",
    "plt.show()"
   ]
  },
  {
   "cell_type": "markdown",
   "metadata": {},
   "source": [
    "As the rate of urbanization rises, there is a consistent uptick in the generation of electricity."
   ]
  },
  {
   "cell_type": "markdown",
   "metadata": {},
   "source": [
    "#### Correlation Plot"
   ]
  },
  {
   "cell_type": "code",
   "execution_count": 37,
   "metadata": {},
   "outputs": [
    {
     "data": {
      "image/png": "[encoded data removed]",
      "text/plain": [
       "<Figure size 720x432 with 2 Axes>"
      ]
     },
     "metadata": {
      "needs_background": "light"
     },
     "output_type": "display_data"
    }
   ],
   "source": [
    "# Correlation Analysis\n",
    "correlation_matrix = merged_df.drop(columns=['Entity', 'Year']).corr()\n",
    "plt.figure(figsize=(10, 6))\n",
    "sns.heatmap(correlation_matrix, annot=True, cmap='summer_r', fmt=\".2f\")\n",
    "plt.title('Correlation Matrix')\n",
    "plt.show()"
   ]
  },
  {
   "cell_type": "markdown",
   "metadata": {},
   "source": [
    "The correlation matrix shows the correlation coefficients between different variables in the dataset, with values ranging from -1 to 1. A correlation coefficient of 1 indicates a perfect positive correlation, while a correlation coefficient of -1 indicates a perfect negative correlation. Values closer to 0 indicate no or weak correlation.\n",
    "\n",
    "From the correlation matrix, it can be observed that there are some strong positive correlations between different variables. For example, there is a strong positive correlation between total renewable electricity and electricity from hydro, wind, solar, and other renewables including bioenergy. This is consistent with the fact that these sources of energy are often grouped together as renewable energy sources.\n",
    "\n",
    "There are also some strong positive correlations between different measures of non-renewable energy generation, such as electricity from coal, oil, and natural gas. This is consistent with the fact that these sources of energy are often used interchangeably in the electricity generation market.\n",
    "\n",
    "There are some negative correlations in the dataset as well, although they are generally weaker than the positive correlations. For example, there is a weak negative correlation between total renewable electricity and electricity from coal, oil, and natural gas. This suggests that as renewable energy sources become more prevalent, there may be a decrease in the use of non-renewable energy sources.\n",
    "\n",
    "Overall, the correlation matrix provides insights into the relationships between different variables in the dataset. By identifying strong positive and negative correlations, it is possible to better understand the factors that influence electricity generation and make informed decisions about energy policy and investment. However, it is important to note that correlation does not necessarily imply causation, and further analysis may be needed to establish causal relationships between variables."
   ]
  },
  {
   "cell_type": "code",
   "execution_count": 38,
   "metadata": {
    "id": "VJjP4FRVPKl9"
   },
   "outputs": [],
   "source": [
    "# Save the DataFrame 'df_cleaned' to a CSV file named 'modelling.csv'\n",
    "merged_df.to_csv('modelling.csv', index=False)"
   ]
  },
  {
   "cell_type": "markdown",
   "metadata": {},
   "source": [
    "# Modelling"
   ]
  },
  {
   "cell_type": "markdown",
   "metadata": {},
   "source": [
    "#### (a) Regression modelling"
   ]
  },
  {
   "cell_type": "code",
   "execution_count": 39,
   "metadata": {},
   "outputs": [
    {
     "data": {
      "text/html": [
       "<div>\n",
       "<style scoped>\n",
       "    .dataframe tbody tr th:only-of-type {\n",
       "        vertical-align: middle;\n",
       "    }\n",
       "\n",
       "    .dataframe tbody tr th {\n",
       "        vertical-align: top;\n",
       "    }\n",
       "\n",
       "    .dataframe thead th {\n",
       "        text-align: right;\n",
       "    }\n",
       "</style>\n",
       "<table border=\"1\" class=\"dataframe\">\n",
       "  <thead>\n",
       "    <tr style=\"text-align: right;\">\n",
       "      <th></th>\n",
       "      <th>Entity</th>\n",
       "      <th>Year</th>\n",
       "      <th>Electricity from wind - TWh</th>\n",
       "      <th>Electricity from hydro - TWh</th>\n",
       "      <th>Electricity from solar - TWh</th>\n",
       "      <th>Other renewables including bioenergy - TWh</th>\n",
       "      <th>Electricity generation - TWh</th>\n",
       "      <th>Total Renewable Electricity - TWh</th>\n",
       "      <th>Electricity from Non-Renewables - TWh</th>\n",
       "      <th>Urbanization</th>\n",
       "    </tr>\n",
       "  </thead>\n",
       "  <tbody>\n",
       "    <tr>\n",
       "      <th>0</th>\n",
       "      <td>Afghanistan</td>\n",
       "      <td>2000</td>\n",
       "      <td>0.0</td>\n",
       "      <td>0.31</td>\n",
       "      <td>0.00</td>\n",
       "      <td>0.00</td>\n",
       "      <td>0.47</td>\n",
       "      <td>0.31</td>\n",
       "      <td>0.16</td>\n",
       "      <td>22.078002</td>\n",
       "    </tr>\n",
       "    <tr>\n",
       "      <th>1</th>\n",
       "      <td>Afghanistan</td>\n",
       "      <td>2001</td>\n",
       "      <td>0.0</td>\n",
       "      <td>0.50</td>\n",
       "      <td>0.00</td>\n",
       "      <td>0.00</td>\n",
       "      <td>0.59</td>\n",
       "      <td>0.50</td>\n",
       "      <td>0.09</td>\n",
       "      <td>22.169001</td>\n",
       "    </tr>\n",
       "    <tr>\n",
       "      <th>2</th>\n",
       "      <td>Afghanistan</td>\n",
       "      <td>2002</td>\n",
       "      <td>0.0</td>\n",
       "      <td>0.56</td>\n",
       "      <td>0.00</td>\n",
       "      <td>0.00</td>\n",
       "      <td>0.69</td>\n",
       "      <td>0.56</td>\n",
       "      <td>0.13</td>\n",
       "      <td>22.261000</td>\n",
       "    </tr>\n",
       "    <tr>\n",
       "      <th>3</th>\n",
       "      <td>Afghanistan</td>\n",
       "      <td>2003</td>\n",
       "      <td>0.0</td>\n",
       "      <td>0.63</td>\n",
       "      <td>0.00</td>\n",
       "      <td>0.00</td>\n",
       "      <td>0.94</td>\n",
       "      <td>0.63</td>\n",
       "      <td>0.31</td>\n",
       "      <td>22.353000</td>\n",
       "    </tr>\n",
       "    <tr>\n",
       "      <th>4</th>\n",
       "      <td>Afghanistan</td>\n",
       "      <td>2004</td>\n",
       "      <td>0.0</td>\n",
       "      <td>0.56</td>\n",
       "      <td>0.00</td>\n",
       "      <td>0.00</td>\n",
       "      <td>0.89</td>\n",
       "      <td>0.56</td>\n",
       "      <td>0.33</td>\n",
       "      <td>22.500000</td>\n",
       "    </tr>\n",
       "    <tr>\n",
       "      <th>...</th>\n",
       "      <td>...</td>\n",
       "      <td>...</td>\n",
       "      <td>...</td>\n",
       "      <td>...</td>\n",
       "      <td>...</td>\n",
       "      <td>...</td>\n",
       "      <td>...</td>\n",
       "      <td>...</td>\n",
       "      <td>...</td>\n",
       "      <td>...</td>\n",
       "    </tr>\n",
       "    <tr>\n",
       "      <th>5794</th>\n",
       "      <td>Zimbabwe</td>\n",
       "      <td>2017</td>\n",
       "      <td>0.0</td>\n",
       "      <td>3.97</td>\n",
       "      <td>0.01</td>\n",
       "      <td>0.32</td>\n",
       "      <td>7.35</td>\n",
       "      <td>4.30</td>\n",
       "      <td>3.05</td>\n",
       "      <td>32.236997</td>\n",
       "    </tr>\n",
       "    <tr>\n",
       "      <th>5795</th>\n",
       "      <td>Zimbabwe</td>\n",
       "      <td>2018</td>\n",
       "      <td>0.0</td>\n",
       "      <td>5.05</td>\n",
       "      <td>0.02</td>\n",
       "      <td>0.39</td>\n",
       "      <td>9.19</td>\n",
       "      <td>5.46</td>\n",
       "      <td>3.73</td>\n",
       "      <td>32.209000</td>\n",
       "    </tr>\n",
       "    <tr>\n",
       "      <th>5796</th>\n",
       "      <td>Zimbabwe</td>\n",
       "      <td>2019</td>\n",
       "      <td>0.0</td>\n",
       "      <td>4.17</td>\n",
       "      <td>0.03</td>\n",
       "      <td>0.38</td>\n",
       "      <td>8.24</td>\n",
       "      <td>4.58</td>\n",
       "      <td>3.66</td>\n",
       "      <td>32.209998</td>\n",
       "    </tr>\n",
       "    <tr>\n",
       "      <th>5797</th>\n",
       "      <td>Zimbabwe</td>\n",
       "      <td>2020</td>\n",
       "      <td>0.0</td>\n",
       "      <td>3.81</td>\n",
       "      <td>0.03</td>\n",
       "      <td>0.35</td>\n",
       "      <td>7.59</td>\n",
       "      <td>4.19</td>\n",
       "      <td>3.40</td>\n",
       "      <td>32.242002</td>\n",
       "    </tr>\n",
       "    <tr>\n",
       "      <th>5798</th>\n",
       "      <td>Zimbabwe</td>\n",
       "      <td>2021</td>\n",
       "      <td>0.0</td>\n",
       "      <td>4.00</td>\n",
       "      <td>0.04</td>\n",
       "      <td>0.38</td>\n",
       "      <td>8.03</td>\n",
       "      <td>4.42</td>\n",
       "      <td>3.61</td>\n",
       "      <td>32.303000</td>\n",
       "    </tr>\n",
       "  </tbody>\n",
       "</table>\n",
       "<p>5799 rows × 10 columns</p>\n",
       "</div>"
      ],
      "text/plain": [
       "           Entity  Year  Electricity from wind - TWh  \\\n",
       "0     Afghanistan  2000                          0.0   \n",
       "1     Afghanistan  2001                          0.0   \n",
       "2     Afghanistan  2002                          0.0   \n",
       "3     Afghanistan  2003                          0.0   \n",
       "4     Afghanistan  2004                          0.0   \n",
       "...           ...   ...                          ...   \n",
       "5794     Zimbabwe  2017                          0.0   \n",
       "5795     Zimbabwe  2018                          0.0   \n",
       "5796     Zimbabwe  2019                          0.0   \n",
       "5797     Zimbabwe  2020                          0.0   \n",
       "5798     Zimbabwe  2021                          0.0   \n",
       "\n",
       "      Electricity from hydro - TWh  Electricity from solar - TWh  \\\n",
       "0                             0.31                          0.00   \n",
       "1                             0.50                          0.00   \n",
       "2                             0.56                          0.00   \n",
       "3                             0.63                          0.00   \n",
       "4                             0.56                          0.00   \n",
       "...                            ...                           ...   \n",
       "5794                          3.97                          0.01   \n",
       "5795                          5.05                          0.02   \n",
       "5796                          4.17                          0.03   \n",
       "5797                          3.81                          0.03   \n",
       "5798                          4.00                          0.04   \n",
       "\n",
       "      Other renewables including bioenergy - TWh  \\\n",
       "0                                           0.00   \n",
       "1                                           0.00   \n",
       "2                                           0.00   \n",
       "3                                           0.00   \n",
       "4                                           0.00   \n",
       "...                                          ...   \n",
       "5794                                        0.32   \n",
       "5795                                        0.39   \n",
       "5796                                        0.38   \n",
       "5797                                        0.35   \n",
       "5798                                        0.38   \n",
       "\n",
       "      Electricity generation - TWh  Total Renewable Electricity - TWh  \\\n",
       "0                             0.47                               0.31   \n",
       "1                             0.59                               0.50   \n",
       "2                             0.69                               0.56   \n",
       "3                             0.94                               0.63   \n",
       "4                             0.89                               0.56   \n",
       "...                            ...                                ...   \n",
       "5794                          7.35                               4.30   \n",
       "5795                          9.19                               5.46   \n",
       "5796                          8.24                               4.58   \n",
       "5797                          7.59                               4.19   \n",
       "5798                          8.03                               4.42   \n",
       "\n",
       "      Electricity from Non-Renewables - TWh  Urbanization  \n",
       "0                                      0.16     22.078002  \n",
       "1                                      0.09     22.169001  \n",
       "2                                      0.13     22.261000  \n",
       "3                                      0.31     22.353000  \n",
       "4                                      0.33     22.500000  \n",
       "...                                     ...           ...  \n",
       "5794                                   3.05     32.236997  \n",
       "5795                                   3.73     32.209000  \n",
       "5796                                   3.66     32.209998  \n",
       "5797                                   3.40     32.242002  \n",
       "5798                                   3.61     32.303000  \n",
       "\n",
       "[5799 rows x 10 columns]"
      ]
     },
     "execution_count": 39,
     "metadata": {},
     "output_type": "execute_result"
    }
   ],
   "source": [
    "# Read the CSV file into a pandas DataFrame\n",
    "modelling = pd.read_csv('modelling.csv')\n",
    "modelling"
   ]
  },
  {
   "cell_type": "markdown",
   "metadata": {},
   "source": [
    "#### 1. Predicting for *WIND*"
   ]
  },
  {
   "cell_type": "code",
   "execution_count": 40,
   "metadata": {},
   "outputs": [
    {
     "name": "stdout",
     "output_type": "stream",
     "text": [
      "\n",
      "Model: LinearRegression\n",
      "Training Set Metrics:\n",
      "Mean Squared Error (MSE): 2.603814116759129e-06\n",
      "Mean Absolute Error (MAE): 0.0006158471358103619\n",
      "R-squared (R2) Score: 0.9999999978840292\n",
      "\n",
      "Testing Set Metrics:\n",
      "Mean Squared Error (MSE): 3.0212975255393372e-06\n",
      "Mean Absolute Error (MAE): 0.0005214918841864057\n",
      "R-squared (R2) Score: 0.999999999823201\n",
      "\n",
      "Model: RandomForestRegressor\n",
      "Training Set Metrics:\n",
      "Mean Squared Error (MSE): 2.8788027695421814\n",
      "Mean Absolute Error (MAE): 0.21808735687985467\n",
      "R-squared (R2) Score: 0.9976605615430286\n",
      "\n",
      "Testing Set Metrics:\n",
      "Mean Squared Error (MSE): 2625.331641233303\n",
      "Mean Absolute Error (MAE): 8.158339426233779\n",
      "R-squared (R2) Score: 0.8463719426632528\n",
      "\n",
      "Model: GradientBoostingRegressor\n",
      "Training Set Metrics:\n",
      "Mean Squared Error (MSE): 3.2878575121495897\n",
      "Mean Absolute Error (MAE): 0.5359992653199112\n",
      "R-squared (R2) Score: 0.9973281461354895\n",
      "\n",
      "Testing Set Metrics:\n",
      "Mean Squared Error (MSE): 2101.68261132482\n",
      "Mean Absolute Error (MAE): 7.935849501131158\n",
      "R-squared (R2) Score: 0.8770146172600976\n"
     ]
    }
   ],
   "source": [
    "run_pipelines(modelling, 'Electricity from wind - TWh')"
   ]
  },
  {
   "cell_type": "markdown",
   "metadata": {},
   "source": [
    "**Training Set Metrics**:\n",
    "\n",
    "Mean Squared Error (MSE) and Mean Absolute Error (MAE) quantify the accuracy of predictions on the training set, with lower values indicating better performance. R-squared (R2) Score assesses how well the independent variables explain the variance in the dependent variable, with 1 indicating a perfect fit.\n",
    "\n",
    "The Random Forest Regressor, Gradient Boosting Regressor, and Linear Regression models exhibit strong performance on the training set, as indicated by low Mean Squared Error (MSE) and Mean Absolute Error (MAE) values, along with high R-squared (R2) scores close to 1. However, there is some degree of overfitting, as seen by the higher MSE and MAE values, and slightly lower R2 scores on the testing set. Overall, all models show promise in predicting wind electricity generation, with Linear Regression performing exceptionally well on both training and testing sets.\n",
    "\n"
   ]
  },
  {
   "cell_type": "markdown",
   "metadata": {},
   "source": [
    "#### Cross Validating"
   ]
  },
  {
   "cell_type": "code",
   "execution_count": 41,
   "metadata": {},
   "outputs": [
    {
     "name": "stdout",
     "output_type": "stream",
     "text": [
      "\n",
      "Model: LinearRegression\n",
      "Cross-Validation MSE: 2.8975146688291356e-06\n",
      "Cross-Validation MAE: 0.0006343479206790239\n",
      "Cross-Validation R-squared (R2) Score: 0.9999999976453554\n"
     ]
    },
    {
     "name": "stdout",
     "output_type": "stream",
     "text": [
      "\n",
      "Model: RandomForestRegressor\n",
      "Cross-Validation MSE: 44.16171106800769\n",
      "Cross-Validation MAE: 0.7467126056089382\n",
      "Cross-Validation R-squared (R2) Score: 0.964112301720974\n",
      "\n",
      "Model: GradientBoostingRegressor\n",
      "Cross-Validation MSE: 38.834997005190054\n",
      "Cross-Validation MAE: 1.0483098993287483\n",
      "Cross-Validation R-squared (R2) Score: 0.9684410177621313\n"
     ]
    }
   ],
   "source": [
    "run_pipelines_with_cross_validation(modelling, 'Electricity from wind - TWh')"
   ]
  },
  {
   "cell_type": "markdown",
   "metadata": {},
   "source": [
    "Cross-validation serves as a method in machine learning to assess how well a model performs with data it hasn't been trained on. Generally, the linear model demonstrates strong performance with unseen data, followed by gradient boosting, and finally random forest."
   ]
  },
  {
   "cell_type": "code",
   "execution_count": 42,
   "metadata": {},
   "outputs": [
    {
     "data": {
      "text/html": [
       "<div>\n",
       "<style scoped>\n",
       "    .dataframe tbody tr th:only-of-type {\n",
       "        vertical-align: middle;\n",
       "    }\n",
       "\n",
       "    .dataframe tbody tr th {\n",
       "        vertical-align: top;\n",
       "    }\n",
       "\n",
       "    .dataframe thead th {\n",
       "        text-align: right;\n",
       "    }\n",
       "</style>\n",
       "<table border=\"1\" class=\"dataframe\">\n",
       "  <thead>\n",
       "    <tr style=\"text-align: right;\">\n",
       "      <th></th>\n",
       "      <th>Actual</th>\n",
       "      <th>Predicted</th>\n",
       "    </tr>\n",
       "  </thead>\n",
       "  <tbody>\n",
       "    <tr>\n",
       "      <th>0</th>\n",
       "      <td>0.0</td>\n",
       "      <td>-0.000198</td>\n",
       "    </tr>\n",
       "    <tr>\n",
       "      <th>1</th>\n",
       "      <td>0.0</td>\n",
       "      <td>-0.000215</td>\n",
       "    </tr>\n",
       "    <tr>\n",
       "      <th>2</th>\n",
       "      <td>0.0</td>\n",
       "      <td>-0.000214</td>\n",
       "    </tr>\n",
       "    <tr>\n",
       "      <th>3</th>\n",
       "      <td>0.0</td>\n",
       "      <td>-0.000170</td>\n",
       "    </tr>\n",
       "    <tr>\n",
       "      <th>4</th>\n",
       "      <td>0.0</td>\n",
       "      <td>-0.000170</td>\n",
       "    </tr>\n",
       "    <tr>\n",
       "      <th>...</th>\n",
       "      <td>...</td>\n",
       "      <td>...</td>\n",
       "    </tr>\n",
       "    <tr>\n",
       "      <th>5789</th>\n",
       "      <td>0.0</td>\n",
       "      <td>-0.000155</td>\n",
       "    </tr>\n",
       "    <tr>\n",
       "      <th>5790</th>\n",
       "      <td>0.0</td>\n",
       "      <td>-0.000097</td>\n",
       "    </tr>\n",
       "    <tr>\n",
       "      <th>5791</th>\n",
       "      <td>0.0</td>\n",
       "      <td>-0.000096</td>\n",
       "    </tr>\n",
       "    <tr>\n",
       "      <th>5792</th>\n",
       "      <td>0.0</td>\n",
       "      <td>-0.000139</td>\n",
       "    </tr>\n",
       "    <tr>\n",
       "      <th>5793</th>\n",
       "      <td>0.0</td>\n",
       "      <td>-0.000115</td>\n",
       "    </tr>\n",
       "  </tbody>\n",
       "</table>\n",
       "<p>4764 rows × 2 columns</p>\n",
       "</div>"
      ],
      "text/plain": [
       "      Actual  Predicted\n",
       "0        0.0  -0.000198\n",
       "1        0.0  -0.000215\n",
       "2        0.0  -0.000214\n",
       "3        0.0  -0.000170\n",
       "4        0.0  -0.000170\n",
       "...      ...        ...\n",
       "5789     0.0  -0.000155\n",
       "5790     0.0  -0.000097\n",
       "5791     0.0  -0.000096\n",
       "5792     0.0  -0.000139\n",
       "5793     0.0  -0.000115\n",
       "\n",
       "[4764 rows x 2 columns]"
      ]
     },
     "execution_count": 42,
     "metadata": {},
     "output_type": "execute_result"
    }
   ],
   "source": [
    "train_results, test_results = get_predicted_actual_dataframes(modelling, 'Electricity from wind - TWh')\n",
    "train_results[0]"
   ]
  },
  {
   "cell_type": "markdown",
   "metadata": {},
   "source": [
    "When we compare the actual and predicted training values, we observe minimal to negligible error between them. Our linear model demonstrates exceptionally high accuracy in its predictions."
   ]
  },
  {
   "cell_type": "code",
   "execution_count": 43,
   "metadata": {},
   "outputs": [
    {
     "data": {
      "text/html": [
       "<div>\n",
       "<style scoped>\n",
       "    .dataframe tbody tr th:only-of-type {\n",
       "        vertical-align: middle;\n",
       "    }\n",
       "\n",
       "    .dataframe tbody tr th {\n",
       "        vertical-align: top;\n",
       "    }\n",
       "\n",
       "    .dataframe thead th {\n",
       "        text-align: right;\n",
       "    }\n",
       "</style>\n",
       "<table border=\"1\" class=\"dataframe\">\n",
       "  <thead>\n",
       "    <tr style=\"text-align: right;\">\n",
       "      <th></th>\n",
       "      <th>Actual</th>\n",
       "      <th>Predicted</th>\n",
       "    </tr>\n",
       "  </thead>\n",
       "  <tbody>\n",
       "    <tr>\n",
       "      <th>17</th>\n",
       "      <td>0.0</td>\n",
       "      <td>-0.000178</td>\n",
       "    </tr>\n",
       "    <tr>\n",
       "      <th>18</th>\n",
       "      <td>0.0</td>\n",
       "      <td>-0.000178</td>\n",
       "    </tr>\n",
       "    <tr>\n",
       "      <th>19</th>\n",
       "      <td>0.0</td>\n",
       "      <td>-0.000177</td>\n",
       "    </tr>\n",
       "    <tr>\n",
       "      <th>20</th>\n",
       "      <td>0.0</td>\n",
       "      <td>-0.000177</td>\n",
       "    </tr>\n",
       "    <tr>\n",
       "      <th>21</th>\n",
       "      <td>0.0</td>\n",
       "      <td>-0.000175</td>\n",
       "    </tr>\n",
       "    <tr>\n",
       "      <th>...</th>\n",
       "      <td>...</td>\n",
       "      <td>...</td>\n",
       "    </tr>\n",
       "    <tr>\n",
       "      <th>5794</th>\n",
       "      <td>0.0</td>\n",
       "      <td>-0.000142</td>\n",
       "    </tr>\n",
       "    <tr>\n",
       "      <th>5795</th>\n",
       "      <td>0.0</td>\n",
       "      <td>-0.000124</td>\n",
       "    </tr>\n",
       "    <tr>\n",
       "      <th>5796</th>\n",
       "      <td>0.0</td>\n",
       "      <td>-0.000128</td>\n",
       "    </tr>\n",
       "    <tr>\n",
       "      <th>5797</th>\n",
       "      <td>0.0</td>\n",
       "      <td>-0.000135</td>\n",
       "    </tr>\n",
       "    <tr>\n",
       "      <th>5798</th>\n",
       "      <td>0.0</td>\n",
       "      <td>-0.000128</td>\n",
       "    </tr>\n",
       "  </tbody>\n",
       "</table>\n",
       "<p>1035 rows × 2 columns</p>\n",
       "</div>"
      ],
      "text/plain": [
       "      Actual  Predicted\n",
       "17       0.0  -0.000178\n",
       "18       0.0  -0.000178\n",
       "19       0.0  -0.000177\n",
       "20       0.0  -0.000177\n",
       "21       0.0  -0.000175\n",
       "...      ...        ...\n",
       "5794     0.0  -0.000142\n",
       "5795     0.0  -0.000124\n",
       "5796     0.0  -0.000128\n",
       "5797     0.0  -0.000135\n",
       "5798     0.0  -0.000128\n",
       "\n",
       "[1035 rows x 2 columns]"
      ]
     },
     "execution_count": 43,
     "metadata": {},
     "output_type": "execute_result"
    }
   ],
   "source": [
    "test_results[0]"
   ]
  },
  {
   "cell_type": "markdown",
   "metadata": {},
   "source": [
    "When we compare the actual and predicted test values, we observe minimal to negligible error between them. Our linear model demonstrates exceptionally high accuracy in its predictions."
   ]
  },
  {
   "cell_type": "markdown",
   "metadata": {},
   "source": [
    "#### 2. Predicting for *HYDRO*"
   ]
  },
  {
   "cell_type": "code",
   "execution_count": 44,
   "metadata": {},
   "outputs": [
    {
     "name": "stdout",
     "output_type": "stream",
     "text": [
      "\n",
      "Model: LinearRegression\n",
      "Training Set Metrics:\n",
      "Mean Squared Error (MSE): 2.1302405093259207e-07\n",
      "Mean Absolute Error (MAE): 0.00017346340648094884\n",
      "R-squared (R2) Score: 0.9999999999972623\n",
      "\n",
      "Testing Set Metrics:\n",
      "Mean Squared Error (MSE): 1.1746593828285387e-07\n",
      "Mean Absolute Error (MAE): 0.0001265507900908468\n",
      "R-squared (R2) Score: 0.9999999999990777\n"
     ]
    },
    {
     "name": "stdout",
     "output_type": "stream",
     "text": [
      "\n",
      "Model: RandomForestRegressor\n",
      "Training Set Metrics:\n",
      "Mean Squared Error (MSE): 15.76899636051529\n",
      "Mean Absolute Error (MAE): 0.635930848583778\n",
      "R-squared (R2) Score: 0.9997973436159002\n",
      "\n",
      "Testing Set Metrics:\n",
      "Mean Squared Error (MSE): 2445.5140219005207\n",
      "Mean Absolute Error (MAE): 10.179433077291781\n",
      "R-squared (R2) Score: 0.9808002750463055\n",
      "\n",
      "Model: GradientBoostingRegressor\n",
      "Training Set Metrics:\n",
      "Mean Squared Error (MSE): 13.635637285712763\n",
      "Mean Absolute Error (MAE): 1.3306612254073893\n",
      "R-squared (R2) Score: 0.9998247606325702\n",
      "\n",
      "Testing Set Metrics:\n",
      "Mean Squared Error (MSE): 3103.6525097289623\n",
      "Mean Absolute Error (MAE): 10.449393135193974\n",
      "R-squared (R2) Score: 0.9756332312941186\n"
     ]
    }
   ],
   "source": [
    "run_pipelines(modelling, 'Electricity from hydro - TWh')"
   ]
  },
  {
   "cell_type": "markdown",
   "metadata": {},
   "source": [
    "#### Cross Validating"
   ]
  },
  {
   "cell_type": "code",
   "execution_count": 45,
   "metadata": {},
   "outputs": [
    {
     "name": "stdout",
     "output_type": "stream",
     "text": [
      "\n",
      "Model: LinearRegression\n",
      "Cross-Validation MSE: 2.4185739820323535e-07\n",
      "Cross-Validation MAE: 0.00018164262509959457\n",
      "Cross-Validation R-squared (R2) Score: 0.9999999999968917\n"
     ]
    },
    {
     "name": "stdout",
     "output_type": "stream",
     "text": [
      "\n",
      "Model: RandomForestRegressor\n",
      "Cross-Validation MSE: 204.8351882099157\n",
      "Cross-Validation MAE: 2.2200108059629127\n",
      "Cross-Validation R-squared (R2) Score: 0.997367545934441\n",
      "\n",
      "Model: GradientBoostingRegressor\n",
      "Cross-Validation MSE: 170.1586259942777\n",
      "Cross-Validation MAE: 2.532495090236133\n",
      "Cross-Validation R-squared (R2) Score: 0.9978131942528863\n"
     ]
    }
   ],
   "source": [
    "run_pipelines_with_cross_validation(modelling, 'Electricity from hydro - TWh')"
   ]
  },
  {
   "cell_type": "markdown",
   "metadata": {},
   "source": [
    "#### 3. Predicting for *SOLAR*"
   ]
  },
  {
   "cell_type": "code",
   "execution_count": 46,
   "metadata": {},
   "outputs": [
    {
     "name": "stdout",
     "output_type": "stream",
     "text": [
      "\n",
      "Model: LinearRegression\n",
      "Training Set Metrics:\n",
      "Mean Squared Error (MSE): 2.842948298996938e-06\n",
      "Mean Absolute Error (MAE): 0.0006885986299239521\n",
      "R-squared (R2) Score: 0.9999999710693828\n",
      "\n",
      "Testing Set Metrics:\n",
      "Mean Squared Error (MSE): 2.637880482936879e-05\n",
      "Mean Absolute Error (MAE): 0.0010434205885404544\n",
      "R-squared (R2) Score: 0.9999999937968737\n"
     ]
    },
    {
     "name": "stdout",
     "output_type": "stream",
     "text": [
      "\n",
      "Model: RandomForestRegressor\n",
      "Training Set Metrics:\n",
      "Mean Squared Error (MSE): 1.0209322623629644\n",
      "Mean Absolute Error (MAE): 0.08750624542368492\n",
      "R-squared (R2) Score: 0.9896107148456732\n",
      "\n",
      "Testing Set Metrics:\n",
      "Mean Squared Error (MSE): 1519.4007050838093\n",
      "Mean Absolute Error (MAE): 5.72970779900537\n",
      "R-squared (R2) Score: 0.6427042641667998\n",
      "\n",
      "Model: GradientBoostingRegressor\n",
      "Training Set Metrics:\n",
      "Mean Squared Error (MSE): 0.2211415172053849\n",
      "Mean Absolute Error (MAE): 0.12256829090029948\n",
      "R-squared (R2) Score: 0.997749603606032\n",
      "\n",
      "Testing Set Metrics:\n",
      "Mean Squared Error (MSE): 1279.3957450271184\n",
      "Mean Absolute Error (MAE): 5.226125653618707\n",
      "R-squared (R2) Score: 0.6991427984653232\n"
     ]
    }
   ],
   "source": [
    "run_pipelines(modelling, 'Electricity from solar - TWh')"
   ]
  },
  {
   "cell_type": "markdown",
   "metadata": {},
   "source": [
    "#### Cross Validating"
   ]
  },
  {
   "cell_type": "code",
   "execution_count": 47,
   "metadata": {},
   "outputs": [
    {
     "name": "stdout",
     "output_type": "stream",
     "text": [
      "\n",
      "Model: LinearRegression\n",
      "Cross-Validation MSE: 3.8029819884975363e-06\n",
      "Cross-Validation MAE: 0.0007706700412451461\n",
      "Cross-Validation R-squared (R2) Score: 0.999999961299818\n"
     ]
    },
    {
     "name": "stdout",
     "output_type": "stream",
     "text": [
      "\n",
      "Model: RandomForestRegressor\n",
      "Cross-Validation MSE: 14.550655647704708\n",
      "Cross-Validation MAE: 0.30491723069787013\n",
      "Cross-Validation R-squared (R2) Score: 0.8519285595338788\n",
      "\n",
      "Model: GradientBoostingRegressor\n",
      "Cross-Validation MSE: 10.234775794980242\n",
      "Cross-Validation MAE: 0.32760336409278784\n",
      "Cross-Validation R-squared (R2) Score: 0.8958481300428841\n"
     ]
    }
   ],
   "source": [
    "run_pipelines_with_cross_validation(modelling, 'Electricity from solar - TWh')"
   ]
  },
  {
   "cell_type": "markdown",
   "metadata": {},
   "source": [
    "#### 4. Predicting for *BIOENERGY*"
   ]
  },
  {
   "cell_type": "code",
   "execution_count": 48,
   "metadata": {},
   "outputs": [
    {
     "name": "stdout",
     "output_type": "stream",
     "text": [
      "\n",
      "Model: LinearRegression\n",
      "Training Set Metrics:\n",
      "Mean Squared Error (MSE): 6.454124075068113e-06\n",
      "Mean Absolute Error (MAE): 0.0010140268834727816\n",
      "R-squared (R2) Score: 0.9999999925715237\n",
      "\n",
      "Testing Set Metrics:\n",
      "Mean Squared Error (MSE): 4.638265653095262e-05\n",
      "Mean Absolute Error (MAE): 0.0014691500159467487\n",
      "R-squared (R2) Score: 0.9999999856028504\n"
     ]
    },
    {
     "name": "stdout",
     "output_type": "stream",
     "text": [
      "\n",
      "Model: RandomForestRegressor\n",
      "Training Set Metrics:\n",
      "Mean Squared Error (MSE): 0.5619994367315057\n",
      "Mean Absolute Error (MAE): 0.14772968170411654\n",
      "R-squared (R2) Score: 0.9993531578469763\n",
      "\n",
      "Testing Set Metrics:\n",
      "Mean Squared Error (MSE): 138.56125053693074\n",
      "Mean Absolute Error (MAE): 2.260867143786085\n",
      "R-squared (R2) Score: 0.9569906684092102\n",
      "\n",
      "Model: GradientBoostingRegressor\n",
      "Training Set Metrics:\n",
      "Mean Squared Error (MSE): 1.9996874661543649\n",
      "Mean Absolute Error (MAE): 0.63272601494423\n",
      "R-squared (R2) Score: 0.9976984280384612\n",
      "\n",
      "Testing Set Metrics:\n",
      "Mean Squared Error (MSE): 132.11070218043304\n",
      "Mean Absolute Error (MAE): 2.696920532549284\n",
      "R-squared (R2) Score: 0.9589929148679566\n"
     ]
    }
   ],
   "source": [
    "run_pipelines(modelling, 'Other renewables including bioenergy - TWh')"
   ]
  },
  {
   "cell_type": "markdown",
   "metadata": {},
   "source": [
    "#### Cross Validating"
   ]
  },
  {
   "cell_type": "code",
   "execution_count": 49,
   "metadata": {},
   "outputs": [
    {
     "name": "stdout",
     "output_type": "stream",
     "text": [
      "\n",
      "Model: LinearRegression\n",
      "Cross-Validation MSE: 7.178608202707305e-06\n",
      "Cross-Validation MAE: 0.0010376288211415656\n",
      "Cross-Validation R-squared (R2) Score: 0.9999999917376672\n"
     ]
    },
    {
     "name": "stdout",
     "output_type": "stream",
     "text": [
      "\n",
      "Model: RandomForestRegressor\n",
      "Cross-Validation MSE: 7.528164701192855\n",
      "Cross-Validation MAE: 0.47147379620092217\n",
      "Cross-Validation R-squared (R2) Score: 0.9913353396011263\n",
      "\n",
      "Model: GradientBoostingRegressor\n",
      "Cross-Validation MSE: 8.758194498598145\n",
      "Cross-Validation MAE: 0.9013809008136764\n",
      "Cross-Validation R-squared (R2) Score: 0.9899196173237798\n"
     ]
    }
   ],
   "source": [
    "run_pipelines_with_cross_validation(modelling, 'Other renewables including bioenergy - TWh')"
   ]
  },
  {
   "cell_type": "markdown",
   "metadata": {},
   "source": [
    "#### 5. Predicting for *TOTAL RENEWABLE ELECTRICITY*"
   ]
  },
  {
   "cell_type": "code",
   "execution_count": 50,
   "metadata": {},
   "outputs": [
    {
     "name": "stdout",
     "output_type": "stream",
     "text": [
      "\n",
      "Model: LinearRegression\n",
      "Training Set Metrics:\n",
      "Mean Squared Error (MSE): 2.7168209786545775e-08\n",
      "Mean Absolute Error (MAE): 6.473602214821296e-05\n",
      "R-squared (R2) Score: 0.9999999999997585\n",
      "\n",
      "Testing Set Metrics:\n",
      "Mean Squared Error (MSE): 3.853889983501105e-08\n",
      "Mean Absolute Error (MAE): 5.640734357426245e-05\n",
      "R-squared (R2) Score: 0.9999999999998928\n"
     ]
    },
    {
     "name": "stdout",
     "output_type": "stream",
     "text": [
      "\n",
      "Model: RandomForestRegressor\n",
      "Training Set Metrics:\n",
      "Mean Squared Error (MSE): 20.53091499197877\n",
      "Mean Absolute Error (MAE): 0.6201736377537522\n",
      "R-squared (R2) Score: 0.9998174912156746\n",
      "\n",
      "Testing Set Metrics:\n",
      "Mean Squared Error (MSE): 16435.177493909498\n",
      "Mean Absolute Error (MAE): 18.9133499481275\n",
      "R-squared (R2) Score: 0.9542597180263681\n",
      "\n",
      "Model: GradientBoostingRegressor\n",
      "Training Set Metrics:\n",
      "Mean Squared Error (MSE): 17.772812614836795\n",
      "Mean Absolute Error (MAE): 1.5479411469872661\n",
      "R-squared (R2) Score: 0.9998420092613679\n",
      "\n",
      "Testing Set Metrics:\n",
      "Mean Squared Error (MSE): 12075.11394980037\n",
      "Mean Absolute Error (MAE): 15.365828628441497\n",
      "R-squared (R2) Score: 0.9663940887080604\n"
     ]
    }
   ],
   "source": [
    "run_pipelines(modelling, 'Total Renewable Electricity - TWh')"
   ]
  },
  {
   "cell_type": "markdown",
   "metadata": {},
   "source": [
    "#### Cross Validating"
   ]
  },
  {
   "cell_type": "code",
   "execution_count": 51,
   "metadata": {},
   "outputs": [
    {
     "name": "stdout",
     "output_type": "stream",
     "text": [
      "\n",
      "Model: LinearRegression\n",
      "Cross-Validation MSE: 3.064667472908933e-08\n",
      "Cross-Validation MAE: 6.710382118747585e-05\n",
      "Cross-Validation R-squared (R2) Score: 0.9999999999997276\n"
     ]
    },
    {
     "name": "stdout",
     "output_type": "stream",
     "text": [
      "\n",
      "Model: RandomForestRegressor\n",
      "Cross-Validation MSE: 269.45381784813435\n",
      "Cross-Validation MAE: 2.0480965602806855\n",
      "Cross-Validation R-squared (R2) Score: 0.9976047005821957\n",
      "\n",
      "Model: GradientBoostingRegressor\n",
      "Cross-Validation MSE: 320.1245346868208\n",
      "Cross-Validation MAE: 3.245362102463831\n",
      "Cross-Validation R-squared (R2) Score: 0.99715426518101\n"
     ]
    }
   ],
   "source": [
    "run_pipelines_with_cross_validation(modelling, 'Total Renewable Electricity - TWh')"
   ]
  },
  {
   "cell_type": "markdown",
   "metadata": {},
   "source": [
    "#### 6. Predicting for electricity from *Fossil Fuels*"
   ]
  },
  {
   "cell_type": "code",
   "execution_count": 52,
   "metadata": {},
   "outputs": [
    {
     "name": "stdout",
     "output_type": "stream",
     "text": [
      "\n",
      "Model: LinearRegression\n",
      "Training Set Metrics:\n",
      "Mean Squared Error (MSE): 1.2525548669612846e-08\n",
      "Mean Absolute Error (MAE): 4.469782133450016e-05\n",
      "R-squared (R2) Score: 0.9999999999999933\n",
      "\n",
      "Testing Set Metrics:\n",
      "Mean Squared Error (MSE): 3.115407382892564e-08\n",
      "Mean Absolute Error (MAE): 4.4689129280969236e-05\n",
      "R-squared (R2) Score: 0.9999999999999883\n"
     ]
    },
    {
     "name": "stdout",
     "output_type": "stream",
     "text": [
      "\n",
      "Model: RandomForestRegressor\n",
      "Training Set Metrics:\n",
      "Mean Squared Error (MSE): 244.9925290715532\n",
      "Mean Absolute Error (MAE): 2.263335283080828\n",
      "R-squared (R2) Score: 0.999868910175653\n",
      "\n",
      "Testing Set Metrics:\n",
      "Mean Squared Error (MSE): 88389.50813818254\n",
      "Mean Absolute Error (MAE): 41.251634794249654\n",
      "R-squared (R2) Score: 0.9669895823355038\n",
      "\n",
      "Model: GradientBoostingRegressor\n",
      "Training Set Metrics:\n",
      "Mean Squared Error (MSE): 165.55532905424025\n",
      "Mean Absolute Error (MAE): 5.576090107349564\n",
      "R-squared (R2) Score: 0.9999114151803418\n",
      "\n",
      "Testing Set Metrics:\n",
      "Mean Squared Error (MSE): 58394.30305634861\n",
      "Mean Absolute Error (MAE): 34.88783759276935\n",
      "R-squared (R2) Score: 0.9781917517845702\n"
     ]
    }
   ],
   "source": [
    "run_pipelines(modelling, 'Electricity from Non-Renewables - TWh')"
   ]
  },
  {
   "cell_type": "markdown",
   "metadata": {},
   "source": [
    "#### Cross Validating"
   ]
  },
  {
   "cell_type": "code",
   "execution_count": 53,
   "metadata": {},
   "outputs": [
    {
     "name": "stdout",
     "output_type": "stream",
     "text": [
      "\n",
      "Model: LinearRegression\n",
      "Cross-Validation MSE: 1.3953751114393984e-08\n",
      "Cross-Validation MAE: 4.601336154645483e-05\n",
      "Cross-Validation R-squared (R2) Score: 0.9999999999999926\n"
     ]
    },
    {
     "name": "stdout",
     "output_type": "stream",
     "text": [
      "\n",
      "Model: RandomForestRegressor\n",
      "Cross-Validation MSE: 2777.4139947868393\n",
      "Cross-Validation MAE: 7.303707843121626\n",
      "Cross-Validation R-squared (R2) Score: 0.9985138701408764\n",
      "\n",
      "Model: GradientBoostingRegressor\n",
      "Cross-Validation MSE: 1731.8564292089247\n",
      "Cross-Validation MAE: 10.225206588480605\n",
      "Cross-Validation R-squared (R2) Score: 0.9990733237623223\n"
     ]
    }
   ],
   "source": [
    "run_pipelines_with_cross_validation(modelling, 'Electricity from Non-Renewables - TWh')"
   ]
  },
  {
   "cell_type": "markdown",
   "metadata": {},
   "source": [
    "#### (b) Time Series modelling"
   ]
  },
  {
   "cell_type": "markdown",
   "metadata": {},
   "source": [
    "#### Part 1"
   ]
  },
  {
   "cell_type": "code",
   "execution_count": 54,
   "metadata": {},
   "outputs": [
    {
     "data": {
      "text/html": [
       "<div>\n",
       "<style scoped>\n",
       "    .dataframe tbody tr th:only-of-type {\n",
       "        vertical-align: middle;\n",
       "    }\n",
       "\n",
       "    .dataframe tbody tr th {\n",
       "        vertical-align: top;\n",
       "    }\n",
       "\n",
       "    .dataframe thead th {\n",
       "        text-align: right;\n",
       "    }\n",
       "</style>\n",
       "<table border=\"1\" class=\"dataframe\">\n",
       "  <thead>\n",
       "    <tr style=\"text-align: right;\">\n",
       "      <th></th>\n",
       "      <th>Entity</th>\n",
       "      <th>Year</th>\n",
       "      <th>Electricity from wind - TWh</th>\n",
       "      <th>Electricity from hydro - TWh</th>\n",
       "      <th>Electricity from solar - TWh</th>\n",
       "      <th>Other renewables including bioenergy - TWh</th>\n",
       "      <th>Electricity generation - TWh</th>\n",
       "      <th>Total Renewable Electricity - TWh</th>\n",
       "      <th>Electricity from Non-Renewables - TWh</th>\n",
       "      <th>Urbanization</th>\n",
       "    </tr>\n",
       "  </thead>\n",
       "  <tbody>\n",
       "    <tr>\n",
       "      <th>0</th>\n",
       "      <td>Afghanistan</td>\n",
       "      <td>2000</td>\n",
       "      <td>0.0</td>\n",
       "      <td>0.31</td>\n",
       "      <td>0.0</td>\n",
       "      <td>0.0</td>\n",
       "      <td>0.47</td>\n",
       "      <td>0.31</td>\n",
       "      <td>0.16</td>\n",
       "      <td>22.078002</td>\n",
       "    </tr>\n",
       "    <tr>\n",
       "      <th>1</th>\n",
       "      <td>Afghanistan</td>\n",
       "      <td>2001</td>\n",
       "      <td>0.0</td>\n",
       "      <td>0.50</td>\n",
       "      <td>0.0</td>\n",
       "      <td>0.0</td>\n",
       "      <td>0.59</td>\n",
       "      <td>0.50</td>\n",
       "      <td>0.09</td>\n",
       "      <td>22.169001</td>\n",
       "    </tr>\n",
       "    <tr>\n",
       "      <th>2</th>\n",
       "      <td>Afghanistan</td>\n",
       "      <td>2002</td>\n",
       "      <td>0.0</td>\n",
       "      <td>0.56</td>\n",
       "      <td>0.0</td>\n",
       "      <td>0.0</td>\n",
       "      <td>0.69</td>\n",
       "      <td>0.56</td>\n",
       "      <td>0.13</td>\n",
       "      <td>22.261000</td>\n",
       "    </tr>\n",
       "    <tr>\n",
       "      <th>3</th>\n",
       "      <td>Afghanistan</td>\n",
       "      <td>2003</td>\n",
       "      <td>0.0</td>\n",
       "      <td>0.63</td>\n",
       "      <td>0.0</td>\n",
       "      <td>0.0</td>\n",
       "      <td>0.94</td>\n",
       "      <td>0.63</td>\n",
       "      <td>0.31</td>\n",
       "      <td>22.353000</td>\n",
       "    </tr>\n",
       "    <tr>\n",
       "      <th>4</th>\n",
       "      <td>Afghanistan</td>\n",
       "      <td>2004</td>\n",
       "      <td>0.0</td>\n",
       "      <td>0.56</td>\n",
       "      <td>0.0</td>\n",
       "      <td>0.0</td>\n",
       "      <td>0.89</td>\n",
       "      <td>0.56</td>\n",
       "      <td>0.33</td>\n",
       "      <td>22.500000</td>\n",
       "    </tr>\n",
       "  </tbody>\n",
       "</table>\n",
       "</div>"
      ],
      "text/plain": [
       "        Entity  Year  Electricity from wind - TWh  \\\n",
       "0  Afghanistan  2000                          0.0   \n",
       "1  Afghanistan  2001                          0.0   \n",
       "2  Afghanistan  2002                          0.0   \n",
       "3  Afghanistan  2003                          0.0   \n",
       "4  Afghanistan  2004                          0.0   \n",
       "\n",
       "   Electricity from hydro - TWh  Electricity from solar - TWh  \\\n",
       "0                          0.31                           0.0   \n",
       "1                          0.50                           0.0   \n",
       "2                          0.56                           0.0   \n",
       "3                          0.63                           0.0   \n",
       "4                          0.56                           0.0   \n",
       "\n",
       "   Other renewables including bioenergy - TWh  Electricity generation - TWh  \\\n",
       "0                                         0.0                          0.47   \n",
       "1                                         0.0                          0.59   \n",
       "2                                         0.0                          0.69   \n",
       "3                                         0.0                          0.94   \n",
       "4                                         0.0                          0.89   \n",
       "\n",
       "   Total Renewable Electricity - TWh  Electricity from Non-Renewables - TWh  \\\n",
       "0                               0.31                                   0.16   \n",
       "1                               0.50                                   0.09   \n",
       "2                               0.56                                   0.13   \n",
       "3                               0.63                                   0.31   \n",
       "4                               0.56                                   0.33   \n",
       "\n",
       "   Urbanization  \n",
       "0     22.078002  \n",
       "1     22.169001  \n",
       "2     22.261000  \n",
       "3     22.353000  \n",
       "4     22.500000  "
      ]
     },
     "execution_count": 54,
     "metadata": {},
     "output_type": "execute_result"
    }
   ],
   "source": [
    "# Read CSV\n",
    "data = pd.read_csv('modelling.csv')\n",
    "data.head()"
   ]
  },
  {
   "cell_type": "code",
   "execution_count": 55,
   "metadata": {},
   "outputs": [
    {
     "data": {
      "text/html": [
       "<div>\n",
       "<style scoped>\n",
       "    .dataframe tbody tr th:only-of-type {\n",
       "        vertical-align: middle;\n",
       "    }\n",
       "\n",
       "    .dataframe tbody tr th {\n",
       "        vertical-align: top;\n",
       "    }\n",
       "\n",
       "    .dataframe thead th {\n",
       "        text-align: right;\n",
       "    }\n",
       "</style>\n",
       "<table border=\"1\" class=\"dataframe\">\n",
       "  <thead>\n",
       "    <tr style=\"text-align: right;\">\n",
       "      <th></th>\n",
       "      <th>Year</th>\n",
       "      <th>Total Renewable Electricity - TWh</th>\n",
       "    </tr>\n",
       "  </thead>\n",
       "  <tbody>\n",
       "    <tr>\n",
       "      <th>0</th>\n",
       "      <td>2000</td>\n",
       "      <td>0.31</td>\n",
       "    </tr>\n",
       "    <tr>\n",
       "      <th>1</th>\n",
       "      <td>2001</td>\n",
       "      <td>0.50</td>\n",
       "    </tr>\n",
       "    <tr>\n",
       "      <th>2</th>\n",
       "      <td>2002</td>\n",
       "      <td>0.56</td>\n",
       "    </tr>\n",
       "    <tr>\n",
       "      <th>3</th>\n",
       "      <td>2003</td>\n",
       "      <td>0.63</td>\n",
       "    </tr>\n",
       "    <tr>\n",
       "      <th>4</th>\n",
       "      <td>2004</td>\n",
       "      <td>0.56</td>\n",
       "    </tr>\n",
       "    <tr>\n",
       "      <th>...</th>\n",
       "      <td>...</td>\n",
       "      <td>...</td>\n",
       "    </tr>\n",
       "    <tr>\n",
       "      <th>5794</th>\n",
       "      <td>2017</td>\n",
       "      <td>4.30</td>\n",
       "    </tr>\n",
       "    <tr>\n",
       "      <th>5795</th>\n",
       "      <td>2018</td>\n",
       "      <td>5.46</td>\n",
       "    </tr>\n",
       "    <tr>\n",
       "      <th>5796</th>\n",
       "      <td>2019</td>\n",
       "      <td>4.58</td>\n",
       "    </tr>\n",
       "    <tr>\n",
       "      <th>5797</th>\n",
       "      <td>2020</td>\n",
       "      <td>4.19</td>\n",
       "    </tr>\n",
       "    <tr>\n",
       "      <th>5798</th>\n",
       "      <td>2021</td>\n",
       "      <td>4.42</td>\n",
       "    </tr>\n",
       "  </tbody>\n",
       "</table>\n",
       "<p>5799 rows × 2 columns</p>\n",
       "</div>"
      ],
      "text/plain": [
       "      Year  Total Renewable Electricity - TWh\n",
       "0     2000                               0.31\n",
       "1     2001                               0.50\n",
       "2     2002                               0.56\n",
       "3     2003                               0.63\n",
       "4     2004                               0.56\n",
       "...    ...                                ...\n",
       "5794  2017                               4.30\n",
       "5795  2018                               5.46\n",
       "5796  2019                               4.58\n",
       "5797  2020                               4.19\n",
       "5798  2021                               4.42\n",
       "\n",
       "[5799 rows x 2 columns]"
      ]
     },
     "execution_count": 55,
     "metadata": {},
     "output_type": "execute_result"
    }
   ],
   "source": [
    "# Selecting only the 'Year' and 'Total Renewable Electricity - TWh' columns from the dataframe\n",
    "data = data[['Year', 'Total Renewable Electricity - TWh']]\n",
    "data"
   ]
  },
  {
   "cell_type": "code",
   "execution_count": 56,
   "metadata": {},
   "outputs": [],
   "source": [
    "# Convert \"Year\" column to datetime format\n",
    "data[\"Year\"] = pd.to_datetime(data[\"Year\"].astype(str))"
   ]
  },
  {
   "cell_type": "code",
   "execution_count": 57,
   "metadata": {},
   "outputs": [],
   "source": [
    "# Set \"Year\" column as the index\n",
    "data.set_index(\"Year\", inplace=True)"
   ]
  },
  {
   "cell_type": "code",
   "execution_count": 58,
   "metadata": {},
   "outputs": [],
   "source": [
    "# Convert index to period index\n",
    "data.index = data.index.to_period(\"Y\")"
   ]
  },
  {
   "cell_type": "code",
   "execution_count": 59,
   "metadata": {},
   "outputs": [
    {
     "name": "stdout",
     "output_type": "stream",
     "text": [
      "Duplicate index values: PeriodIndex(['2000', '2001', '2002', '2003', '2004', '2005', '2006', '2007',\n",
      "             '2008', '2009',\n",
      "             ...\n",
      "             '2012', '2013', '2014', '2015', '2016', '2017', '2018', '2019',\n",
      "             '2020', '2021'],\n",
      "            dtype='period[A-DEC]', name='Year', length=5762)\n"
     ]
    }
   ],
   "source": [
    "# Check for duplicate index values\n",
    "duplicate_index = data.index[data.index.duplicated()]\n",
    "print(\"Duplicate index values:\", duplicate_index)\n",
    "\n",
    "# Remove duplicate index values\n",
    "data = data[~data.index.duplicated()]\n",
    "\n",
    "# Resample the data to yearly frequency and sum the values\n",
    "yearly_ts = data.resample('Y').sum()"
   ]
  },
  {
   "cell_type": "code",
   "execution_count": 60,
   "metadata": {},
   "outputs": [],
   "source": [
    "# Resample the data to yearly frequency and sum the values\n",
    "yearly_ts = data.resample('Y').sum()"
   ]
  },
  {
   "cell_type": "code",
   "execution_count": 61,
   "metadata": {},
   "outputs": [
    {
     "data": {
      "text/plain": [
       "False"
      ]
     },
     "execution_count": 61,
     "metadata": {},
     "output_type": "execute_result"
    }
   ],
   "source": [
    "# checking for stationarity\n",
    "from statsmodels.tsa.stattools import adfuller\n",
    "\n",
    "year = adfuller(yearly_ts)\n",
    "\n",
    "p_value = year[1]\n",
    "\n",
    "alpha = 0.05\n",
    "\n",
    "is_stationary = p_value < alpha\n",
    "\n",
    "is_stationary"
   ]
  },
  {
   "cell_type": "markdown",
   "metadata": {},
   "source": [
    "This confirms that our trends are not stationary."
   ]
  },
  {
   "cell_type": "code",
   "execution_count": 62,
   "metadata": {},
   "outputs": [],
   "source": [
    "# Differencing\n",
    "yearly_ts_diff = yearly_ts.diff().dropna()"
   ]
  },
  {
   "cell_type": "code",
   "execution_count": 63,
   "metadata": {},
   "outputs": [
    {
     "data": {
      "image/png": "[encoded data removed]",
      "text/plain": [
       "<Figure size 576x216 with 1 Axes>"
      ]
     },
     "metadata": {
      "needs_background": "light"
     },
     "output_type": "display_data"
    }
   ],
   "source": [
    "# Plot the ACF\n",
    "from statsmodels.graphics.tsaplots import plot_acf\n",
    "\n",
    "fig, ax = plt.subplots(figsize=(8, 3))\n",
    "plot_acf(yearly_ts_diff, ax=ax, lags=8);"
   ]
  },
  {
   "cell_type": "code",
   "execution_count": 64,
   "metadata": {},
   "outputs": [
    {
     "data": {
      "image/png": "[encoded data removed]",
      "text/plain": [
       "<Figure size 576x216 with 1 Axes>"
      ]
     },
     "metadata": {
      "needs_background": "light"
     },
     "output_type": "display_data"
    }
   ],
   "source": [
    "# Plot the PACF\n",
    "from statsmodels.graphics.tsaplots import plot_pacf\n",
    "\n",
    "fig, ax = plt.subplots(figsize=(8, 3))\n",
    "plot_pacf(yearly_ts_diff, ax=ax, lags=8, method=\"ywm\");"
   ]
  },
  {
   "cell_type": "code",
   "execution_count": 65,
   "metadata": {},
   "outputs": [
    {
     "name": "stdout",
     "output_type": "stream",
     "text": [
      "                                       SARIMAX Results                                       \n",
      "=============================================================================================\n",
      "Dep. Variable:     Total Renewable Electricity - TWh   No. Observations:                   36\n",
      "Model:                                ARIMA(1, 0, 0)   Log Likelihood                 -51.118\n",
      "Date:                               Tue, 13 Feb 2024   AIC                            108.235\n",
      "Time:                                       15:26:13   BIC                            112.986\n",
      "Sample:                                   12-31-1986   HQIC                           109.894\n",
      "                                        - 12-31-2021                                         \n",
      "Covariance Type:                                 opg                                         \n",
      "==============================================================================\n",
      "                 coef    std err          z      P>|z|      [0.025      0.975]\n",
      "------------------------------------------------------------------------------\n",
      "const          0.0019      0.255      0.007      0.994      -0.497       0.501\n",
      "ar.L1         -0.0388      0.479     -0.081      0.936      -0.978       0.901\n",
      "sigma2         1.0019      0.109      9.162      0.000       0.788       1.216\n",
      "===================================================================================\n",
      "Ljung-Box (L1) (Q):                   0.00   Jarque-Bera (JB):               392.48\n",
      "Prob(Q):                              0.99   Prob(JB):                         0.00\n",
      "Heteroskedasticity (H):               0.01   Skew:                            -2.76\n",
      "Prob(H) (two-sided):                  0.00   Kurtosis:                        18.20\n",
      "===================================================================================\n",
      "\n",
      "Warnings:\n",
      "[1] Covariance matrix calculated using the outer product of gradients (complex-step).\n"
     ]
    }
   ],
   "source": [
    "# Fit an ARMA(1,0) model\n",
    "mod_arma = ARIMA(yearly_ts_diff, order=(1, 0, 0))\n",
    "res_arma = mod_arma.fit()\n",
    "\n",
    "# Print out summary information on the fit\n",
    "print(res_arma.summary())"
   ]
  },
  {
   "cell_type": "markdown",
   "metadata": {},
   "source": [
    "The SARIMAX model was fitted to the time series data of Total Renewable Electricity Generation in Terawatt-hours (TWh) spanning from 1986 to 2022. The purpose of this analysis was to develop a predictive model for renewable electricity generation and evaluate its performance.\n",
    "\n",
    "The model achieved a log likelihood of -51.118 and AIC of 108.235, indicating a reasonable fit to the data.\n",
    "\n",
    "The BIC value of 112.986 also suggests that the model adequately balances goodness of fit with complexity."
   ]
  },
  {
   "cell_type": "markdown",
   "metadata": {},
   "source": [
    "#### Part 2"
   ]
  },
  {
   "cell_type": "markdown",
   "metadata": {},
   "source": [
    "#### Time Series - Total Renewable Electricity"
   ]
  },
  {
   "cell_type": "markdown",
   "metadata": {},
   "source": [
    "#### For the entire dataset entries:"
   ]
  },
  {
   "cell_type": "code",
   "execution_count": 66,
   "metadata": {},
   "outputs": [
    {
     "data": {
      "image/png": "[encoded data removed]",
      "text/plain": [
       "<Figure size 720x432 with 1 Axes>"
      ]
     },
     "metadata": {
      "needs_background": "light"
     },
     "output_type": "display_data"
    }
   ],
   "source": [
    "# Convert the Pandas Series to a 1D NumPy array before plotting\n",
    "x_values = merged_df['Year'].to_numpy()\n",
    "y_values = merged_df['Total Renewable Electricity - TWh'].to_numpy()\n",
    "\n",
    "# Fit ARIMA model\n",
    "model = ARIMA(y_values, order=(1, 1, 1))\n",
    "model_fit = model.fit()\n",
    "\n",
    "# Forecast for future years\n",
    "forecast_steps = 5\n",
    "forecast = model_fit.forecast(steps=forecast_steps)\n",
    "\n",
    "# Generate future year indices\n",
    "future_years = np.arange(merged_df['Year'].max() + 1, merged_df['Year'].max() + forecast_steps + 1)\n",
    "\n",
    "# Now plot using the converted arrays\n",
    "plt.figure(figsize=(10, 6))\n",
    "plt.plot(x_values, y_values, label='Actual')\n",
    "plt.plot(future_years, forecast, label='Forecast')\n",
    "\n",
    "plt.title('Actual vs. Forecasted Renewable Energy Production')\n",
    "plt.xlabel('Year')\n",
    "plt.ylabel('Renewable Electricity (TWh)')\n",
    "plt.legend()\n",
    "plt.grid(True)\n",
    "plt.show()"
   ]
  },
  {
   "cell_type": "markdown",
   "metadata": {},
   "source": [
    "This visual representation illustrates trend lines for all countries included in our dataset, hence the numerous blue lines. The yellow line represents the overall prediction."
   ]
  },
  {
   "cell_type": "code",
   "execution_count": 67,
   "metadata": {},
   "outputs": [
    {
     "name": "stdout",
     "output_type": "stream",
     "text": [
      "Mean Absolute Error (MAE): 46.53353265504795\n",
      "Mean Squared Error (MSE): 2590.2565576737657\n",
      "Root Mean Squared Error (RMSE): 50.89456314454193\n"
     ]
    }
   ],
   "source": [
    "# Calculate error metrics\n",
    "mae = mean_absolute_error(y_values[-forecast_steps:], forecast)\n",
    "mse = mean_squared_error(y_values[-forecast_steps:], forecast)\n",
    "rmse = np.sqrt(mse)\n",
    "r2 = r2_score(y_values[-forecast_steps:], forecast)\n",
    "\n",
    "print('Mean Absolute Error (MAE):', mae)\n",
    "print('Mean Squared Error (MSE):', mse)\n",
    "print('Root Mean Squared Error (RMSE):', rmse)"
   ]
  },
  {
   "cell_type": "markdown",
   "metadata": {},
   "source": [
    "We see high errors because the model is trying to predict even for countries that are not similar.\n",
    "Lets try and be specific."
   ]
  },
  {
   "cell_type": "markdown",
   "metadata": {},
   "source": [
    "#### Kenya subset"
   ]
  },
  {
   "cell_type": "code",
   "execution_count": 68,
   "metadata": {},
   "outputs": [
    {
     "data": {
      "image/png": "[encoded data removed]",
      "text/plain": [
       "<Figure size 720x432 with 1 Axes>"
      ]
     },
     "metadata": {
      "needs_background": "light"
     },
     "output_type": "display_data"
    }
   ],
   "source": [
    "plot_renewable_energy_forecast(merged_df, 'Kenya')"
   ]
  },
  {
   "cell_type": "code",
   "execution_count": 69,
   "metadata": {},
   "outputs": [
    {
     "name": "stdout",
     "output_type": "stream",
     "text": [
      "Mean Absolute Error (MAE): 46.53353265504795\n",
      "Mean Squared Error (MSE): 2590.2565576737657\n",
      "Root Mean Squared Error (RMSE): 50.89456314454193\n"
     ]
    }
   ],
   "source": [
    "print_error_metrics(y_values[-forecast_steps:], forecast)"
   ]
  },
  {
   "cell_type": "markdown",
   "metadata": {},
   "source": [
    "\n",
    "It's evident that the errors have diminished substantially and are now within an acceptable range. This will be our chosen predictor for all energy types."
   ]
  },
  {
   "cell_type": "markdown",
   "metadata": {},
   "source": [
    "#### World subset"
   ]
  },
  {
   "cell_type": "code",
   "execution_count": 70,
   "metadata": {},
   "outputs": [
    {
     "data": {
      "image/png": "[encoded data removed]",
      "text/plain": [
       "<Figure size 720x432 with 1 Axes>"
      ]
     },
     "metadata": {
      "needs_background": "light"
     },
     "output_type": "display_data"
    }
   ],
   "source": [
    "plot_renewable_energy_forecast(merged_df, 'World')"
   ]
  },
  {
   "cell_type": "code",
   "execution_count": 71,
   "metadata": {},
   "outputs": [
    {
     "name": "stdout",
     "output_type": "stream",
     "text": [
      "Mean Absolute Error (MAE): 46.53353265504795\n",
      "Mean Squared Error (MSE): 2590.2565576737657\n",
      "Root Mean Squared Error (RMSE): 50.89456314454193\n"
     ]
    }
   ],
   "source": [
    "print_error_metrics(y_values[-forecast_steps:], forecast)"
   ]
  },
  {
   "cell_type": "markdown",
   "metadata": {},
   "source": [
    "This reiterates our previous assertion that the model performs optimally when applied to localized data for individual countries, but its performance diminishes when data from different countries are aggregated."
   ]
  },
  {
   "cell_type": "markdown",
   "metadata": {},
   "source": [
    "#### Creating functions to do the above easily for all Energy types"
   ]
  },
  {
   "cell_type": "markdown",
   "metadata": {},
   "source": [
    "#### 1. Total Renewable Energy Forecast"
   ]
  },
  {
   "cell_type": "code",
   "execution_count": 72,
   "metadata": {},
   "outputs": [
    {
     "name": "stdout",
     "output_type": "stream",
     "text": [
      "Forecasted renewable electricity production for Kenya:\n",
      "Year 2022: 11.242647159041113 TWh\n",
      "Year 2023: 11.625282231467505 TWh\n",
      "Year 2024: 12.007905217660953 TWh\n",
      "Year 2025: 12.390516118003223 TWh\n",
      "Year 2026: 12.77311493287607 TWh\n"
     ]
    }
   ],
   "source": [
    "country_renewable_energy_forecast('Kenya', merged_df)"
   ]
  },
  {
   "cell_type": "markdown",
   "metadata": {},
   "source": [
    "#### 2. Wind Energy Forecast"
   ]
  },
  {
   "cell_type": "code",
   "execution_count": 73,
   "metadata": {},
   "outputs": [
    {
     "name": "stdout",
     "output_type": "stream",
     "text": [
      "Forecasted wind electricity production for Kenya:\n",
      "Year 2022: 1.5672250966016685 TWh\n",
      "Year 2023: 1.6161439100676998 TWh\n",
      "Year 2024: 1.6579621061571161 TWh\n",
      "Year 2025: 1.6937103469722208 TWh\n",
      "Year 2026: 1.7242696929239738 TWh\n"
     ]
    }
   ],
   "source": [
    "wind_energy_forecast('Kenya', merged_df)"
   ]
  },
  {
   "cell_type": "markdown",
   "metadata": {},
   "source": [
    "#### 3. Solar Energy Forecast"
   ]
  },
  {
   "cell_type": "code",
   "execution_count": 74,
   "metadata": {},
   "outputs": [
    {
     "name": "stdout",
     "output_type": "stream",
     "text": [
      "Forecasted solar electricity production for Kenya:\n",
      "Year 2022: 0.10387222013016255 TWh\n",
      "Year 2023: 0.10662018873003594 TWh\n",
      "Year 2024: 0.10857031841586377 TWh\n",
      "Year 2025: 0.10995425191194601 TWh\n",
      "Year 2026: 0.11093637732416717 TWh\n"
     ]
    }
   ],
   "source": [
    "solar_energy_forecast('Kenya', merged_df)"
   ]
  },
  {
   "cell_type": "markdown",
   "metadata": {},
   "source": [
    "#### 4. Hydro Energy Forecast"
   ]
  },
  {
   "cell_type": "code",
   "execution_count": 75,
   "metadata": {},
   "outputs": [
    {
     "name": "stdout",
     "output_type": "stream",
     "text": [
      "Forecasted hydro electricity production for Kenya:\n",
      "Year 2022: 3.884513077659244 TWh\n",
      "Year 2023: 3.8486911421988625 TWh\n",
      "Year 2024: 3.8375798316355634 TWh\n",
      "Year 2025: 3.8341333059007763 TWh\n",
      "Year 2026: 3.833064256523308 TWh\n"
     ]
    }
   ],
   "source": [
    "hydro_energy_forecast('Kenya', merged_df)"
   ]
  },
  {
   "cell_type": "markdown",
   "metadata": {},
   "source": [
    "#### 5. Bioenergy Energy Forecast"
   ]
  },
  {
   "cell_type": "code",
   "execution_count": 76,
   "metadata": {},
   "outputs": [
    {
     "name": "stdout",
     "output_type": "stream",
     "text": [
      "Forecasted bioenergy electricity production for Kenya:\n",
      "Year 2022: 5.427649630279491 TWh\n",
      "Year 2023: 5.494500295977171 TWh\n",
      "Year 2024: 5.519656619112727 TWh\n",
      "Year 2025: 5.529123100666738 TWh\n",
      "Year 2026: 5.532685396815088 TWh\n"
     ]
    }
   ],
   "source": [
    "bioenergy_forecast('Kenya', merged_df)"
   ]
  },
  {
   "cell_type": "markdown",
   "metadata": {},
   "source": [
    "#### 6. Non-Renewable Energy Forecast (fossils)"
   ]
  },
  {
   "cell_type": "code",
   "execution_count": 77,
   "metadata": {},
   "outputs": [
    {
     "name": "stdout",
     "output_type": "stream",
     "text": [
      "Forecasted non-renewable electricity production for Kenya:\n",
      "Year 2022: 0.8163458237669219 TWh\n",
      "Year 2023: 0.9549181211108235 TWh\n",
      "Year 2024: 0.8299473454253086 TWh\n",
      "Year 2025: 0.9426516526699241 TWh\n",
      "Year 2026: 0.8410098023908354 TWh\n"
     ]
    }
   ],
   "source": [
    "fossil_energy_forecast('Kenya', merged_df)"
   ]
  },
  {
   "cell_type": "markdown",
   "metadata": {},
   "source": [
    "#### 7. Total Energy Forecast (Renewable + Non-Renewable)"
   ]
  },
  {
   "cell_type": "code",
   "execution_count": 78,
   "metadata": {},
   "outputs": [
    {
     "name": "stdout",
     "output_type": "stream",
     "text": [
      "Forecasted total electricity production for Kenya:\n",
      "Year 2022: 12.179886253476742 TWh\n",
      "Year 2023: 12.52975964744744 TWh\n",
      "Year 2024: 12.879620182384725 TWh\n",
      "Year 2025: 13.229467858761211 TWh\n",
      "Year 2026: 13.579302677049494 TWh\n"
     ]
    }
   ],
   "source": [
    "total_energy_forecast('Kenya', merged_df)"
   ]
  },
  {
   "cell_type": "markdown",
   "metadata": {},
   "source": [
    "## Conclusions"
   ]
  },
  {
   "cell_type": "markdown",
   "metadata": {},
   "source": [
    "Renewable Energy Landscape:\n",
    "- The global renewable energy landscape showcases the critical role of wind, solar, and hydropower in contributing to total renewable electricity generation.\n",
    "\n",
    "Hydropower Dominance:\n",
    "- The high correlation between electricity from hydro and total renewable electricity underscores the dominance of hydropower in the global renewable energy mix.\n",
    "\n",
    "Diversification Potential:\n",
    "- The strong positive correlations between wind and solar energy suggest a potential for diversification, allowing countries to balance their renewable energy portfolios strategically.\n",
    "\n",
    "Non-Renewable Trends:\n",
    "- The near-perfect correlation between electricity from non-renewables and overall electricity generation highlights the continued reliance on non-renewable sources, emphasizing the need for a gradual transition."
   ]
  },
  {
   "cell_type": "markdown",
   "metadata": {},
   "source": [
    "## Recommendations"
   ]
  },
  {
   "cell_type": "markdown",
   "metadata": {},
   "source": [
    "Strategic Investments:\n",
    "- Optimize investments in wind and solar energy based on predictive modeling insights, considering regions with the most significant growth potential.\n",
    "\n",
    "Hydropower Planning:\n",
    "- Strategically plan hydropower projects, leveraging modeling results for efficiency improvements and sustainable management practices.\n",
    "\n",
    "Diversification Strategies:\n",
    "- Encourage countries to adopt a diversified approach to renewable energy, taking advantage of the predictive models to identify optimal combinations of wind, solar, and hydropower.\n",
    "\n",
    "Transition Policies:\n",
    "- Tailor transition policies to align with predictive modeling, providing targeted incentives and regulations that support the predicted growth areas for renewable energy."
   ]
  },
  {
   "cell_type": "markdown",
   "metadata": {},
   "source": [
    "## Next Steps"
   ]
  },
  {
   "cell_type": "markdown",
   "metadata": {},
   "source": [
    "Refine and Validate Models:\n",
    "- Continuously refine and validate the regression models, exploring additional variables and feature engineering techniques to improve accuracy.\n",
    "\n",
    "Temporal Analysis:\n",
    "- Extend the analysis over different time periods to assess temporal variations and trends in renewable energy generation, ensuring models are robust over time.\n",
    "\n",
    "Regional Sensitivity Analysis:\n",
    "- Conduct a sensitivity analysis on a regional level to identify unique characteristics and challenges, ensuring strategies are tailored to specific regional needs."
   ]
  }
 ],
 "metadata": {
  "colab": {
   "provenance": []
  },
  "kernelspec": {
   "display_name": "Python 3 (ipykernel)",
   "language": "python",
   "name": "python3"
  },
  "language_info": {
   "codemirror_mode": {
    "name": "ipython",
    "version": 3
   },
   "file_extension": ".py",
   "mimetype": "text/x-python",
   "name": "python",
   "nbconvert_exporter": "python",
   "pygments_lexer": "ipython3",
   "version": "3.8.5"
  }
 },
 "nbformat": 4,
 "nbformat_minor": 1
}
